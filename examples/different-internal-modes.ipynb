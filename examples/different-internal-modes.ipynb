{
 "cells": [
  {
   "cell_type": "code",
   "execution_count": 1,
   "metadata": {},
   "outputs": [],
   "source": [
    "from simba.graph import nodes_from_dofs\n",
    "from simba.core import SLH\n",
    "from sympy import Matrix"
   ]
  },
  {
   "cell_type": "code",
   "execution_count": 2,
   "metadata": {},
   "outputs": [
    {
     "name": "stdout",
     "output_type": "stream",
     "text": [
      "Help on function nodes_from_dofs in module simba.graph:\n",
      "\n",
      "nodes_from_dofs(gs, h_d) -> simba.graph.Nodes\n",
      "    Construct the Node graph for an n degree-of-freedom generalised open oscillator\n",
      "    :param gs: list of n 1-dof generalised open oscillators\n",
      "    :param h_d: the direct interaction Hamiltonian matrix\n",
      "    :return: a `Nodes` instance\n",
      "\n"
     ]
    }
   ],
   "source": [
    "help(nodes_from_dofs)"
   ]
  },
  {
   "cell_type": "code",
   "execution_count": 10,
   "metadata": {},
   "outputs": [],
   "source": [
    "def graph_slh(slh):\n",
    "    nodes = nodes_from_dofs([slh], Matrix.zeros(2))\n",
    "    g = nodes.as_graphviz_agraph()\n",
    "    g.layout(prog='neato')\n",
    "    return g\n",
    "\n",
    "def remove_all_but_node(g):\n",
    "    g.remove_node(\"1'\")\n",
    "    g.remove_node('input')\n",
    "    g.remove_node('output')"
   ]
  },
  {
   "cell_type": "code",
   "execution_count": 13,
   "metadata": {},
   "outputs": [],
   "source": [
    "rs = [\n",
    "    (Matrix([[0, 0], [0, 0]]), 'tuned.pdf'),\n",
    "    (Matrix([[1, 0], [0, 1]]), 'detuned.pdf'),\n",
    "    (Matrix([[0, 1], [1, 0]]), 'dpa.pdf'),\n",
    "    (Matrix([[1, 1], [1, 1]]), 'detuned-dpa.pdf')\n",
    "]\n",
    "\n",
    "for r, filename in rs:\n",
    "    slh = SLH(Matrix.eye(2), Matrix.eye(2), r)\n",
    "    g = graph_slh(slh)\n",
    "    remove_all_but_node(g)\n",
    "    g.draw(filename)"
   ]
  },
  {
   "cell_type": "code",
   "execution_count": null,
   "metadata": {},
   "outputs": [],
   "source": []
  }
 ],
 "metadata": {
  "kernelspec": {
   "display_name": "Python 3",
   "language": "python",
   "name": "python3"
  },
  "language_info": {
   "codemirror_mode": {
    "name": "ipython",
    "version": 3
   },
   "file_extension": ".py",
   "mimetype": "text/x-python",
   "name": "python",
   "nbconvert_exporter": "python",
   "pygments_lexer": "ipython3",
   "version": "3.7.6"
  }
 },
 "nbformat": 4,
 "nbformat_minor": 2
}
