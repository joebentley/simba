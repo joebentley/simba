{
 "cells": [
  {
   "cell_type": "code",
   "execution_count": 1,
   "metadata": {
    "pycharm": {
     "name": "#%%\n"
    }
   },
   "outputs": [],
   "source": [
    "from simba import transfer_function_to_graph, tf2rss\n",
    "from sympy import symbols, simplify, Matrix"
   ]
  },
  {
   "cell_type": "code",
   "execution_count": 2,
   "metadata": {},
   "outputs": [
    {
     "data": {
      "text/latex": [
       "$\\displaystyle \\left[\\begin{matrix}0 & 1\\\\1 & 0\\end{matrix}\\right]$"
      ],
      "text/plain": [
       "Matrix([\n",
       "[0, 1],\n",
       "[1, 0]])"
      ]
     },
     "execution_count": 2,
     "metadata": {},
     "output_type": "execute_result"
    }
   ],
   "source": [
    "Matrix([[0, 1], [1, 0]])**-1"
   ]
  },
  {
   "cell_type": "code",
   "execution_count": 3,
   "metadata": {
    "pycharm": {
     "name": "#%%\n"
    }
   },
   "outputs": [
    {
     "name": "stdout",
     "output_type": "stream",
     "text": [
      "wrote passive_coupled_cavity.png\n"
     ]
    }
   ],
   "source": [
    "# passive realisation (g = 0)\n",
    "s = symbols('s')\n",
    "gamma_f, omega_s = symbols('gamma_f omega_s', real=True, positive=True)\n",
    "tf = (s**2 + s * gamma_f + omega_s**2) / (s**2 - s * gamma_f + omega_s**2)\n",
    "\n",
    "transfer_function_to_graph(tf, 'passive_coupled_cavity.png', layout='dot')"
   ]
  },
  {
   "cell_type": "markdown",
   "metadata": {},
   "source": [
    "![](passive_coupled_cavity.png)"
   ]
  },
  {
   "cell_type": "code",
   "execution_count": 4,
   "metadata": {
    "pycharm": {
     "name": "#%%\n"
    },
    "scrolled": true
   },
   "outputs": [
    {
     "data": {
      "text/latex": [
       "$\\displaystyle \\frac{i \\left(\\sqrt{2} \\sqrt{\\gamma_{1}} \\sqrt{\\gamma_{f}} a_{1} a'_{1} - \\sqrt{2} \\sqrt{\\gamma_{1}} \\sqrt{\\gamma_{f}} \\overline{a_{1}} \\overline{a'_{1}} + \\omega_{s} a_{1} \\overline{a_{2}} - \\omega_{s} \\overline{a_{1}} a_{2}\\right)}{2}$"
      ],
      "text/plain": [
       "I*(sqrt(2)*sqrt(gamma_1)*sqrt(gamma_f)*a_1*a'_1 - sqrt(2)*sqrt(gamma_1)*sqrt(gamma_f)*conjugate(a_1)*conjugate(a'_1) + omega_s*a_1*conjugate(a_2) - omega_s*conjugate(a_1)*a_2)/2"
      ]
     },
     "execution_count": 4,
     "metadata": {},
     "output_type": "execute_result"
    }
   ],
   "source": [
    "split_network = tf2rss(tf).to_slh().split()\n",
    "h_int = split_network.interaction_hamiltonian\n",
    "h_int.expr.simplify()"
   ]
  },
  {
   "cell_type": "code",
   "execution_count": 5,
   "metadata": {},
   "outputs": [
    {
     "data": {
      "text/latex": [
       "$\\displaystyle \\left[\\begin{matrix}a_{1}\\\\\\overline{a_{1}}\\\\a_{2}\\\\\\overline{a_{2}}\\\\a'_{1}\\\\\\overline{a'_{1}}\\\\a'_{2}\\\\\\overline{a'_{2}}\\end{matrix}\\right]$"
      ],
      "text/plain": [
       "Matrix([\n",
       "[            a_1],\n",
       "[ conjugate(a_1)],\n",
       "[            a_2],\n",
       "[ conjugate(a_2)],\n",
       "[           a'_1],\n",
       "[conjugate(a'_1)],\n",
       "[           a'_2],\n",
       "[conjugate(a'_2)]])"
      ]
     },
     "execution_count": 5,
     "metadata": {},
     "output_type": "execute_result"
    }
   ],
   "source": [
    "h_int.states"
   ]
  },
  {
   "cell_type": "code",
   "execution_count": 6,
   "metadata": {},
   "outputs": [
    {
     "data": {
      "text/latex": [
       "$\\displaystyle \\left[\\begin{matrix}0 & 0 & - \\frac{\\omega_{s}}{2} & 0 & 0 & - \\frac{\\sqrt{2} \\sqrt{\\gamma_{1}} \\sqrt{\\gamma_{f}}}{2} & 0 & 0\\\\0 & 0 & 0 & - \\frac{\\omega_{s}}{2} & - \\frac{\\sqrt{2} \\sqrt{\\gamma_{1}} \\sqrt{\\gamma_{f}}}{2} & 0 & 0 & 0\\\\\\frac{\\omega_{s}}{2} & 0 & 0 & 0 & 0 & 0 & 0 & 0\\\\0 & \\frac{\\omega_{s}}{2} & 0 & 0 & 0 & 0 & 0 & 0\\\\0 & - \\frac{\\sqrt{2} \\sqrt{\\gamma_{1}} \\sqrt{\\gamma_{f}}}{2} & 0 & 0 & 0 & 0 & 0 & 0\\\\- \\frac{\\sqrt{2} \\sqrt{\\gamma_{1}} \\sqrt{\\gamma_{f}}}{2} & 0 & 0 & 0 & 0 & 0 & 0 & 0\\\\0 & 0 & 0 & 0 & 0 & 0 & 0 & 0\\\\0 & 0 & 0 & 0 & 0 & 0 & 0 & 0\\end{matrix}\\right]$"
      ],
      "text/plain": [
       "Matrix([\n",
       "[                                     0,                                      0, -omega_s/2,          0,                                      0, -sqrt(2)*sqrt(gamma_1)*sqrt(gamma_f)/2, 0, 0],\n",
       "[                                     0,                                      0,          0, -omega_s/2, -sqrt(2)*sqrt(gamma_1)*sqrt(gamma_f)/2,                                      0, 0, 0],\n",
       "[                             omega_s/2,                                      0,          0,          0,                                      0,                                      0, 0, 0],\n",
       "[                                     0,                              omega_s/2,          0,          0,                                      0,                                      0, 0, 0],\n",
       "[                                     0, -sqrt(2)*sqrt(gamma_1)*sqrt(gamma_f)/2,          0,          0,                                      0,                                      0, 0, 0],\n",
       "[-sqrt(2)*sqrt(gamma_1)*sqrt(gamma_f)/2,                                      0,          0,          0,                                      0,                                      0, 0, 0],\n",
       "[                                     0,                                      0,          0,          0,                                      0,                                      0, 0, 0],\n",
       "[                                     0,                                      0,          0,          0,                                      0,                                      0, 0, 0]])"
      ]
     },
     "execution_count": 6,
     "metadata": {},
     "output_type": "execute_result"
    }
   ],
   "source": [
    "simplify(h_int.dynamical_matrix)"
   ]
  },
  {
   "cell_type": "code",
   "execution_count": 7,
   "metadata": {},
   "outputs": [
    {
     "data": {
      "text/latex": [
       "$\\displaystyle \\left[\\begin{matrix}- \\frac{\\sqrt{2} \\sqrt{\\gamma_{1}} \\sqrt{\\gamma_{f}} \\overline{a'_{1}}}{2} - \\frac{\\omega_{s} a_{2}}{2} + s a_{1}\\\\- \\frac{\\sqrt{2} \\sqrt{\\gamma_{1}} \\sqrt{\\gamma_{f}} a'_{1}}{2} - \\frac{\\omega_{s} \\overline{a_{2}}}{2} + s \\overline{a_{1}}\\\\\\frac{\\omega_{s} a_{1}}{2} + s a_{2}\\\\\\frac{\\omega_{s} \\overline{a_{1}}}{2} + s \\overline{a_{2}}\\\\- \\frac{\\sqrt{2} \\sqrt{\\gamma_{1}} \\sqrt{\\gamma_{f}} \\overline{a_{1}}}{2} + \\sqrt{2} \\sqrt{\\gamma_{1}} ain_{1} - \\gamma_{1} a'_{1} + s a'_{1}\\\\- \\frac{\\sqrt{2} \\sqrt{\\gamma_{1}} \\sqrt{\\gamma_{f}} a_{1}}{2} + \\sqrt{2} \\sqrt{\\gamma_{1}} \\overline{ain_{1}} - \\gamma_{1} \\overline{a'_{1}} + s \\overline{a'_{1}}\\\\\\sqrt{2} \\sqrt{\\gamma_{2}} ain_{2} - \\gamma_{2} a'_{2} + s a'_{2}\\\\\\sqrt{2} \\sqrt{\\gamma_{2}} \\overline{ain_{2}} - \\gamma_{2} \\overline{a'_{2}} + s \\overline{a'_{2}}\\\\- \\sqrt{\\gamma_{1}} a'_{1} + ain_{1} - aout_{1}\\\\- \\sqrt{\\gamma_{1}} \\overline{a'_{1}} + \\overline{ain_{1}} - \\overline{aout_{1}}\\\\- \\sqrt{\\gamma_{2}} a'_{2} + ain_{2} - aout_{2}\\\\- \\sqrt{\\gamma_{2}} \\overline{a'_{2}} + \\overline{ain_{2}} - \\overline{aout_{2}}\\end{matrix}\\right]$"
      ],
      "text/plain": [
       "Matrix([\n",
       "[                                                   -sqrt(2)*sqrt(gamma_1)*sqrt(gamma_f)*conjugate(a'_1)/2 - omega_s*a_2/2 + s*a_1],\n",
       "[                                        -sqrt(2)*sqrt(gamma_1)*sqrt(gamma_f)*a'_1/2 - omega_s*conjugate(a_2)/2 + s*conjugate(a_1)],\n",
       "[                                                                                                            omega_s*a_1/2 + s*a_2],\n",
       "[                                                                                      omega_s*conjugate(a_1)/2 + s*conjugate(a_2)],\n",
       "[                      -sqrt(2)*sqrt(gamma_1)*sqrt(gamma_f)*conjugate(a_1)/2 + sqrt(2)*sqrt(gamma_1)*ain_1 - gamma_1*a'_1 + s*a'_1],\n",
       "[-sqrt(2)*sqrt(gamma_1)*sqrt(gamma_f)*a_1/2 + sqrt(2)*sqrt(gamma_1)*conjugate(ain_1) - gamma_1*conjugate(a'_1) + s*conjugate(a'_1)],\n",
       "[                                                                              sqrt(2)*sqrt(gamma_2)*ain_2 - gamma_2*a'_2 + s*a'_2],\n",
       "[                                             sqrt(2)*sqrt(gamma_2)*conjugate(ain_2) - gamma_2*conjugate(a'_2) + s*conjugate(a'_2)],\n",
       "[                                                                                             -sqrt(gamma_1)*a'_1 + ain_1 - aout_1],\n",
       "[                                                            -sqrt(gamma_1)*conjugate(a'_1) + conjugate(ain_1) - conjugate(aout_1)],\n",
       "[                                                                                             -sqrt(gamma_2)*a'_2 + ain_2 - aout_2],\n",
       "[                                                            -sqrt(gamma_2)*conjugate(a'_2) + conjugate(ain_2) - conjugate(aout_2)]])"
      ]
     },
     "execution_count": 7,
     "metadata": {},
     "output_type": "execute_result"
    }
   ],
   "source": [
    "eqns = split_network.frequency_domain_eqns\n",
    "eqns.eqns"
   ]
  },
  {
   "cell_type": "code",
   "execution_count": 8,
   "metadata": {},
   "outputs": [
    {
     "data": {
      "text/latex": [
       "$\\displaystyle \\left\\{\\left( - \\frac{4 \\gamma_{1} \\sqrt{\\gamma_{f}} s \\overline{aout_{1}}}{- 2 \\gamma_{1} \\gamma_{f} s - \\gamma_{1} \\omega_{s}^{2} + \\sqrt{2} \\gamma_{1} \\omega_{s}^{2} - 4 \\gamma_{1} s^{2} + 4 \\sqrt{2} \\gamma_{1} s^{2} + \\omega_{s}^{2} s + 4 s^{3}}, \\  - \\frac{4 \\gamma_{1} \\sqrt{\\gamma_{f}} s aout_{1}}{- 2 \\gamma_{1} \\gamma_{f} s - \\gamma_{1} \\omega_{s}^{2} + \\sqrt{2} \\gamma_{1} \\omega_{s}^{2} - 4 \\gamma_{1} s^{2} + 4 \\sqrt{2} \\gamma_{1} s^{2} + \\omega_{s}^{2} s + 4 s^{3}}, \\  \\frac{2 \\gamma_{1} \\sqrt{\\gamma_{f}} \\omega_{s} \\overline{aout_{1}}}{- 2 \\gamma_{1} \\gamma_{f} s - \\gamma_{1} \\omega_{s}^{2} + \\sqrt{2} \\gamma_{1} \\omega_{s}^{2} - 4 \\gamma_{1} s^{2} + 4 \\sqrt{2} \\gamma_{1} s^{2} + \\omega_{s}^{2} s + 4 s^{3}}, \\  \\frac{2 \\gamma_{1} \\sqrt{\\gamma_{f}} \\omega_{s} aout_{1}}{- 2 \\gamma_{1} \\gamma_{f} s - \\gamma_{1} \\omega_{s}^{2} + \\sqrt{2} \\gamma_{1} \\omega_{s}^{2} - 4 \\gamma_{1} s^{2} + 4 \\sqrt{2} \\gamma_{1} s^{2} + \\omega_{s}^{2} s + 4 s^{3}}, \\  - \\frac{2 \\sqrt{2} \\sqrt{\\gamma_{1}} s \\left(\\omega_{s}^{2} + 4 s^{2}\\right) aout_{1}}{\\gamma_{1} \\gamma_{f} \\omega_{s}^{2} + 2 \\sqrt{2} \\gamma_{1} s \\left(\\omega_{s}^{2} + 4 s^{2}\\right) - \\left(\\omega_{s}^{2} + 4 s^{2}\\right) \\left(\\gamma_{1} \\gamma_{f} + 2 s \\left(\\gamma_{1} - s\\right)\\right)}, \\  - \\frac{2 \\sqrt{2} \\sqrt{\\gamma_{1}} s \\left(\\omega_{s}^{2} + 4 s^{2}\\right) \\overline{aout_{1}}}{\\gamma_{1} \\gamma_{f} \\omega_{s}^{2} + 2 \\sqrt{2} \\gamma_{1} s \\left(\\omega_{s}^{2} + 4 s^{2}\\right) - \\left(\\omega_{s}^{2} + 4 s^{2}\\right) \\left(\\gamma_{1} \\gamma_{f} + 2 s \\left(\\gamma_{1} - s\\right)\\right)}, \\  - \\frac{\\sqrt{2} \\sqrt{\\gamma_{2}} aout_{2}}{- \\gamma_{2} + \\sqrt{2} \\gamma_{2} + s}, \\  - \\frac{\\sqrt{2} \\sqrt{\\gamma_{2}} \\overline{aout_{2}}}{- \\gamma_{2} + \\sqrt{2} \\gamma_{2} + s}, \\  \\frac{\\left(\\gamma_{1} \\gamma_{f} \\omega_{s}^{2} - \\left(\\omega_{s}^{2} + 4 s^{2}\\right) \\left(\\gamma_{1} \\gamma_{f} - 2 s \\left(- \\gamma_{1} + s\\right)\\right)\\right) aout_{1}}{\\gamma_{1} \\gamma_{f} \\omega_{s}^{2} + 2 \\sqrt{2} \\gamma_{1} s \\left(\\omega_{s}^{2} + 4 s^{2}\\right) - \\left(\\omega_{s}^{2} + 4 s^{2}\\right) \\left(\\gamma_{1} \\gamma_{f} + 2 s \\left(\\gamma_{1} - s\\right)\\right)}, \\  \\frac{\\left(\\gamma_{1} \\gamma_{f} \\omega_{s}^{2} - \\left(\\omega_{s}^{2} + 4 s^{2}\\right) \\left(\\gamma_{1} \\gamma_{f} - 2 s \\left(- \\gamma_{1} + s\\right)\\right)\\right) \\overline{aout_{1}}}{\\gamma_{1} \\gamma_{f} \\omega_{s}^{2} + 2 \\sqrt{2} \\gamma_{1} s \\left(\\omega_{s}^{2} + 4 s^{2}\\right) - \\left(\\omega_{s}^{2} + 4 s^{2}\\right) \\left(\\gamma_{1} \\gamma_{f} + 2 s \\left(\\gamma_{1} - s\\right)\\right)}, \\  aout_{1}, \\  \\overline{aout_{1}}, \\  \\frac{\\left(- \\gamma_{2} + s\\right) aout_{2}}{- \\gamma_{2} + \\sqrt{2} \\gamma_{2} + s}, \\  \\frac{\\left(- \\gamma_{2} + s\\right) \\overline{aout_{2}}}{- \\gamma_{2} + \\sqrt{2} \\gamma_{2} + s}, \\  aout_{2}, \\  \\overline{aout_{2}}\\right)\\right\\}$"
      ],
      "text/plain": [
       "FiniteSet((-4*gamma_1*sqrt(gamma_f)*s*conjugate(aout_1)/(-2*gamma_1*gamma_f*s - gamma_1*omega_s**2 + sqrt(2)*gamma_1*omega_s**2 - 4*gamma_1*s**2 + 4*sqrt(2)*gamma_1*s**2 + omega_s**2*s + 4*s**3), -4*gamma_1*sqrt(gamma_f)*s*aout_1/(-2*gamma_1*gamma_f*s - gamma_1*omega_s**2 + sqrt(2)*gamma_1*omega_s**2 - 4*gamma_1*s**2 + 4*sqrt(2)*gamma_1*s**2 + omega_s**2*s + 4*s**3), 2*gamma_1*sqrt(gamma_f)*omega_s*conjugate(aout_1)/(-2*gamma_1*gamma_f*s - gamma_1*omega_s**2 + sqrt(2)*gamma_1*omega_s**2 - 4*gamma_1*s**2 + 4*sqrt(2)*gamma_1*s**2 + omega_s**2*s + 4*s**3), 2*gamma_1*sqrt(gamma_f)*omega_s*aout_1/(-2*gamma_1*gamma_f*s - gamma_1*omega_s**2 + sqrt(2)*gamma_1*omega_s**2 - 4*gamma_1*s**2 + 4*sqrt(2)*gamma_1*s**2 + omega_s**2*s + 4*s**3), -2*sqrt(2)*sqrt(gamma_1)*s*(omega_s**2 + 4*s**2)*aout_1/(gamma_1*gamma_f*omega_s**2 + 2*sqrt(2)*gamma_1*s*(omega_s**2 + 4*s**2) - (omega_s**2 + 4*s**2)*(gamma_1*gamma_f + 2*s*(gamma_1 - s))), -2*sqrt(2)*sqrt(gamma_1)*s*(omega_s**2 + 4*s**2)*conjugate(aout_1)/(gamma_1*gamma_f*omega_s**2 + 2*sqrt(2)*gamma_1*s*(omega_s**2 + 4*s**2) - (omega_s**2 + 4*s**2)*(gamma_1*gamma_f + 2*s*(gamma_1 - s))), -sqrt(2)*sqrt(gamma_2)*aout_2/(-gamma_2 + sqrt(2)*gamma_2 + s), -sqrt(2)*sqrt(gamma_2)*conjugate(aout_2)/(-gamma_2 + sqrt(2)*gamma_2 + s), (gamma_1*gamma_f*omega_s**2 - (omega_s**2 + 4*s**2)*(gamma_1*gamma_f - 2*s*(-gamma_1 + s)))*aout_1/(gamma_1*gamma_f*omega_s**2 + 2*sqrt(2)*gamma_1*s*(omega_s**2 + 4*s**2) - (omega_s**2 + 4*s**2)*(gamma_1*gamma_f + 2*s*(gamma_1 - s))), (gamma_1*gamma_f*omega_s**2 - (omega_s**2 + 4*s**2)*(gamma_1*gamma_f - 2*s*(-gamma_1 + s)))*conjugate(aout_1)/(gamma_1*gamma_f*omega_s**2 + 2*sqrt(2)*gamma_1*s*(omega_s**2 + 4*s**2) - (omega_s**2 + 4*s**2)*(gamma_1*gamma_f + 2*s*(gamma_1 - s))), aout_1, conjugate(aout_1), (-gamma_2 + s)*aout_2/(-gamma_2 + sqrt(2)*gamma_2 + s), (-gamma_2 + s)*conjugate(aout_2)/(-gamma_2 + sqrt(2)*gamma_2 + s), aout_2, conjugate(aout_2)))"
      ]
     },
     "execution_count": 8,
     "metadata": {},
     "output_type": "execute_result"
    }
   ],
   "source": [
    "a1, a1d, a2, a2d, a1p, a1dp, a2p, a2dp = split_network.states\n",
    "ain_1, ain_1d, aout_1, aout_1d, ain_2, ain_2d, aout_2, aout_2d = split_network.input_output_symbols\n",
    "eqns.solve([a1, a1d, a2, a2d, a1p, a1dp, a2p, a2dp, ain_1, ain_1d, aout_1, aout_1d, ain_2, ain_2d, aout_2, aout_2d])"
   ]
  },
  {
   "cell_type": "markdown",
   "metadata": {},
   "source": [
    "Active ($g \\neq 0$)"
   ]
  },
  {
   "cell_type": "code",
   "execution_count": 9,
   "metadata": {
    "pycharm": {
     "name": "#%%\n"
    }
   },
   "outputs": [
    {
     "name": "stdout",
     "output_type": "stream",
     "text": [
      "wrote active_coupled_cavity.png\n"
     ]
    }
   ],
   "source": [
    "# parameterise with lambda = omega_s**2 - g**2 < 0\n",
    "lmbda = symbols('lambda', real=True, positive=True)\n",
    "tf = (s**2 + s * gamma_f - lmbda) / (s**2 - s * gamma_f - lmbda)\n",
    "\n",
    "transfer_function_to_graph(tf, 'active_coupled_cavity.png', layout='dot')"
   ]
  },
  {
   "cell_type": "markdown",
   "metadata": {},
   "source": [
    "![](active_coupled_cavity.png)"
   ]
  },
  {
   "cell_type": "code",
   "execution_count": 10,
   "metadata": {},
   "outputs": [
    {
     "data": {
      "text/latex": [
       "$\\displaystyle \\frac{i \\left(\\sqrt{2} \\sqrt{\\gamma_{1}} \\sqrt{\\gamma_{f}} a_{1} a'_{1} - \\sqrt{2} \\sqrt{\\gamma_{1}} \\sqrt{\\gamma_{f}} \\overline{a_{1}} \\overline{a'_{1}} - \\sqrt{\\lambda} a_{1} a_{2} + \\sqrt{\\lambda} \\overline{a_{1}} \\overline{a_{2}}\\right)}{2}$"
      ],
      "text/plain": [
       "I*(sqrt(2)*sqrt(gamma_1)*sqrt(gamma_f)*a_1*a'_1 - sqrt(2)*sqrt(gamma_1)*sqrt(gamma_f)*conjugate(a_1)*conjugate(a'_1) - sqrt(lambda)*a_1*a_2 + sqrt(lambda)*conjugate(a_1)*conjugate(a_2))/2"
      ]
     },
     "execution_count": 10,
     "metadata": {},
     "output_type": "execute_result"
    }
   ],
   "source": [
    "h_int = tf2rss(tf).to_slh().split().interaction_hamiltonian\n",
    "h_int.expr.simplify()"
   ]
  },
  {
   "cell_type": "code",
   "execution_count": 11,
   "metadata": {},
   "outputs": [
    {
     "data": {
      "text/latex": [
       "$\\displaystyle \\left[\\begin{matrix}0 & 0 & 0 & \\frac{\\sqrt{\\lambda}}{2} & 0 & - \\frac{\\sqrt{2} \\sqrt{\\gamma_{1}} \\sqrt{\\gamma_{f}}}{2} & 0 & 0\\\\0 & 0 & \\frac{\\sqrt{\\lambda}}{2} & 0 & - \\frac{\\sqrt{2} \\sqrt{\\gamma_{1}} \\sqrt{\\gamma_{f}}}{2} & 0 & 0 & 0\\\\0 & \\frac{\\sqrt{\\lambda}}{2} & 0 & 0 & 0 & 0 & 0 & 0\\\\\\frac{\\sqrt{\\lambda}}{2} & 0 & 0 & 0 & 0 & 0 & 0 & 0\\\\0 & - \\frac{\\sqrt{2} \\sqrt{\\gamma_{1}} \\sqrt{\\gamma_{f}}}{2} & 0 & 0 & 0 & 0 & 0 & 0\\\\- \\frac{\\sqrt{2} \\sqrt{\\gamma_{1}} \\sqrt{\\gamma_{f}}}{2} & 0 & 0 & 0 & 0 & 0 & 0 & 0\\\\0 & 0 & 0 & 0 & 0 & 0 & 0 & 0\\\\0 & 0 & 0 & 0 & 0 & 0 & 0 & 0\\end{matrix}\\right]$"
      ],
      "text/plain": [
       "Matrix([\n",
       "[                                     0,                                      0,              0, sqrt(lambda)/2,                                      0, -sqrt(2)*sqrt(gamma_1)*sqrt(gamma_f)/2, 0, 0],\n",
       "[                                     0,                                      0, sqrt(lambda)/2,              0, -sqrt(2)*sqrt(gamma_1)*sqrt(gamma_f)/2,                                      0, 0, 0],\n",
       "[                                     0,                         sqrt(lambda)/2,              0,              0,                                      0,                                      0, 0, 0],\n",
       "[                        sqrt(lambda)/2,                                      0,              0,              0,                                      0,                                      0, 0, 0],\n",
       "[                                     0, -sqrt(2)*sqrt(gamma_1)*sqrt(gamma_f)/2,              0,              0,                                      0,                                      0, 0, 0],\n",
       "[-sqrt(2)*sqrt(gamma_1)*sqrt(gamma_f)/2,                                      0,              0,              0,                                      0,                                      0, 0, 0],\n",
       "[                                     0,                                      0,              0,              0,                                      0,                                      0, 0, 0],\n",
       "[                                     0,                                      0,              0,              0,                                      0,                                      0, 0, 0]])"
      ]
     },
     "execution_count": 11,
     "metadata": {},
     "output_type": "execute_result"
    }
   ],
   "source": [
    "simplify(h_int.dynamical_matrix)"
   ]
  },
  {
   "cell_type": "code",
   "execution_count": null,
   "metadata": {},
   "outputs": [],
   "source": []
  }
 ],
 "metadata": {
  "kernelspec": {
   "display_name": "Python 3",
   "language": "python",
   "name": "python3"
  },
  "language_info": {
   "codemirror_mode": {
    "name": "ipython",
    "version": 3
   },
   "file_extension": ".py",
   "mimetype": "text/x-python",
   "name": "python",
   "nbconvert_exporter": "python",
   "pygments_lexer": "ipython3",
   "version": "3.7.6"
  }
 },
 "nbformat": 4,
 "nbformat_minor": 1
}
