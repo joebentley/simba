{
 "cells": [
  {
   "cell_type": "code",
   "execution_count": 330,
   "metadata": {
    "pycharm": {
     "name": "#%%\n"
    }
   },
   "outputs": [
    {
     "name": "stdout",
     "output_type": "stream",
     "text": [
      "The autoreload extension is already loaded. To reload it, use:\n",
      "  %reload_ext autoreload\n"
     ]
    }
   ],
   "source": [
    "%load_ext autoreload\n",
    "%autoreload\n",
    "from simba import transfer_function_to_graph, tf2rss, adiabatically_eliminate\n",
    "from sympy import symbols, simplify, Matrix, sqrt, conjugate, lambdify"
   ]
  },
  {
   "cell_type": "markdown",
   "metadata": {},
   "source": [
    "Tuned cavity"
   ]
  },
  {
   "cell_type": "code",
   "execution_count": 331,
   "metadata": {},
   "outputs": [],
   "source": [
    "s = symbols('s')\n",
    "gamma_f = symbols('gamma_f', real=True, positive=True)\n",
    "tf = (s + gamma_f) / (s - gamma_f)\n",
    "split_network = tf2rss(tf).to_slh().split()\n",
    "gamma, = split_network.aux_coupling_constants"
   ]
  },
  {
   "cell_type": "code",
   "execution_count": 333,
   "metadata": {},
   "outputs": [
    {
     "data": {
      "text/latex": [
       "$\\displaystyle \\left[\\begin{matrix}a\\\\\\overline{a}\\\\a'\\\\\\overline{a'}\\\\ain\\\\\\overline{ain}\\\\aout\\\\\\overline{aout}\\end{matrix}\\right]$"
      ],
      "text/plain": [
       "Matrix([\n",
       "[              a],\n",
       "[   conjugate(a)],\n",
       "[             a'],\n",
       "[  conjugate(a')],\n",
       "[            ain],\n",
       "[ conjugate(ain)],\n",
       "[           aout],\n",
       "[conjugate(aout)]])"
      ]
     },
     "execution_count": 333,
     "metadata": {},
     "output_type": "execute_result"
    }
   ],
   "source": [
    "split_network.state_vector"
   ]
  },
  {
   "cell_type": "code",
   "execution_count": 318,
   "metadata": {},
   "outputs": [
    {
     "data": {
      "text/latex": [
       "$\\displaystyle \\left[\\begin{matrix}- \\frac{\\sqrt{\\gamma} \\sqrt{\\gamma_{f}} a'}{s}\\\\- \\frac{\\sqrt{\\gamma} \\sqrt{\\gamma_{f}} \\overline{a'}}{s}\\\\\\frac{\\sqrt{\\gamma} \\sqrt{\\gamma_{f}} a}{s} - \\frac{\\sqrt{2} \\sqrt{\\gamma} ain}{s} + \\frac{\\gamma a'}{s}\\\\\\frac{\\sqrt{\\gamma} \\sqrt{\\gamma_{f}} \\overline{a}}{s} - \\frac{\\sqrt{2} \\sqrt{\\gamma} \\overline{ain}}{s} + \\frac{\\gamma \\overline{a'}}{s}\\\\0\\\\0\\\\- \\sqrt{2} \\sqrt{\\gamma} a' + ain\\\\- \\sqrt{2} \\sqrt{\\gamma} \\overline{a'} + \\overline{ain}\\end{matrix}\\right]$"
      ],
      "text/plain": [
       "Matrix([\n",
       "[                                                                        -sqrt(gamma)*sqrt(gamma_f)*a'/s],\n",
       "[                                                             -sqrt(gamma)*sqrt(gamma_f)*conjugate(a')/s],\n",
       "[                                 sqrt(gamma)*sqrt(gamma_f)*a/s - sqrt(2)*sqrt(gamma)*ain/s + gamma*a'/s],\n",
       "[sqrt(gamma)*sqrt(gamma_f)*conjugate(a)/s - sqrt(2)*sqrt(gamma)*conjugate(ain)/s + gamma*conjugate(a')/s],\n",
       "[                                                                                                      0],\n",
       "[                                                                                                      0],\n",
       "[                                                                          -sqrt(2)*sqrt(gamma)*a' + ain],\n",
       "[                                                    -sqrt(2)*sqrt(gamma)*conjugate(a') + conjugate(ain)]])"
      ]
     },
     "execution_count": 318,
     "metadata": {},
     "output_type": "execute_result"
    }
   ],
   "source": [
    "split_network.dynamical_matrix.eqns"
   ]
  },
  {
   "cell_type": "code",
   "execution_count": 319,
   "metadata": {},
   "outputs": [
    {
     "data": {
      "text/latex": [
       "$\\displaystyle \\frac{- \\frac{\\gamma \\gamma_{f}}{s^{2}} - \\frac{\\gamma}{s} - 1}{- \\frac{\\gamma \\gamma_{f}}{s^{2}} + \\frac{\\gamma}{s} - 1}$"
      ],
      "text/plain": [
       "(-gamma*gamma_f/s**2 - gamma/s - 1)/(-gamma*gamma_f/s**2 + gamma/s - 1)"
      ]
     },
     "execution_count": 319,
     "metadata": {},
     "output_type": "execute_result"
    }
   ],
   "source": [
    "tf = split_network.tfm['aout', 'ain']\n",
    "tf"
   ]
  },
  {
   "cell_type": "code",
   "execution_count": 320,
   "metadata": {},
   "outputs": [
    {
     "data": {
      "text/latex": [
       "$\\displaystyle \\frac{\\gamma_{f} + s}{\\gamma_{f} - s}$"
      ],
      "text/plain": [
       "(gamma_f + s)/(gamma_f - s)"
      ]
     },
     "execution_count": 320,
     "metadata": {},
     "output_type": "execute_result"
    }
   ],
   "source": [
    "adiabatically_eliminate(tf, gamma).simplify()"
   ]
  },
  {
   "cell_type": "code",
   "execution_count": 328,
   "metadata": {},
   "outputs": [
    {
     "data": {
      "text/latex": [
       "$\\displaystyle - \\frac{\\sqrt{2} \\gamma \\sqrt{\\gamma_{f}} s}{\\gamma \\gamma_{f} - \\gamma s + s^{2}}$"
      ],
      "text/plain": [
       "-sqrt(2)*gamma*sqrt(gamma_f)*s/(gamma*gamma_f - gamma*s + s**2)"
      ]
     },
     "execution_count": 328,
     "metadata": {},
     "output_type": "execute_result"
    }
   ],
   "source": [
    "tf = split_network.tfm['aout', 'a'].simplify()\n",
    "tf"
   ]
  },
  {
   "cell_type": "code",
   "execution_count": 329,
   "metadata": {},
   "outputs": [
    {
     "data": {
      "text/latex": [
       "$\\displaystyle \\frac{\\sqrt{2} \\sqrt{\\gamma_{f}} s}{- \\gamma_{f} + s}$"
      ],
      "text/plain": [
       "sqrt(2)*sqrt(gamma_f)*s/(-gamma_f + s)"
      ]
     },
     "execution_count": 329,
     "metadata": {},
     "output_type": "execute_result"
    }
   ],
   "source": [
    "adiabatically_eliminate(tf, gamma).simplify()"
   ]
  },
  {
   "cell_type": "code",
   "execution_count": 324,
   "metadata": {},
   "outputs": [
    {
     "data": {
      "text/latex": [
       "$\\displaystyle \\frac{\\sqrt{2} \\gamma \\sqrt{\\gamma_{f}}}{\\gamma \\gamma_{f} - \\gamma s + s^{2}}$"
      ],
      "text/plain": [
       "sqrt(2)*gamma*sqrt(gamma_f)/(gamma*gamma_f - gamma*s + s**2)"
      ]
     },
     "execution_count": 324,
     "metadata": {},
     "output_type": "execute_result"
    }
   ],
   "source": [
    "tf = split_network.tfm['a', 'ain'].simplify()\n",
    "tf"
   ]
  },
  {
   "cell_type": "code",
   "execution_count": 325,
   "metadata": {},
   "outputs": [
    {
     "data": {
      "text/latex": [
       "$\\displaystyle \\frac{\\sqrt{2} \\sqrt{\\gamma_{f}}}{\\gamma_{f} - s}$"
      ],
      "text/plain": [
       "sqrt(2)*sqrt(gamma_f)/(gamma_f - s)"
      ]
     },
     "execution_count": 325,
     "metadata": {},
     "output_type": "execute_result"
    }
   ],
   "source": [
    "adiabatically_eliminate(tf, gamma).simplify()"
   ]
  },
  {
   "cell_type": "code",
   "execution_count": 323,
   "metadata": {},
   "outputs": [
    {
     "data": {
      "text/latex": [
       "$\\displaystyle \\left[\\begin{matrix}0 & 0 & i \\sqrt{\\gamma} \\sqrt{\\gamma_{f}} & 0\\\\0 & 0 & 0 & - i \\sqrt{\\gamma} \\sqrt{\\gamma_{f}}\\\\0 & 0 & 0 & 0\\\\0 & 0 & 0 & 0\\end{matrix}\\right]$"
      ],
      "text/plain": [
       "Matrix([\n",
       "[0, 0, I*sqrt(gamma)*sqrt(gamma_f),                            0],\n",
       "[0, 0,                           0, -I*sqrt(gamma)*sqrt(gamma_f)],\n",
       "[0, 0,                           0,                            0],\n",
       "[0, 0,                           0,                            0]])"
      ]
     },
     "execution_count": 323,
     "metadata": {},
     "output_type": "execute_result"
    }
   ],
   "source": [
    "split_network.interaction_hamiltonian.h"
   ]
  },
  {
   "cell_type": "markdown",
   "metadata": {},
   "source": [
    "First looking at passive realisation of coupled cavity setup with coupling constant $g = 0$"
   ]
  },
  {
   "cell_type": "code",
   "execution_count": 279,
   "metadata": {
    "pycharm": {
     "name": "#%%\n"
    }
   },
   "outputs": [
    {
     "name": "stdout",
     "output_type": "stream",
     "text": [
      "wrote passive_coupled_cavity.png\n"
     ]
    }
   ],
   "source": [
    "s = symbols('s')\n",
    "gamma_f, omega_s = symbols('gamma_f omega_s', real=True, positive=True)\n",
    "tf = (s**2 + s * gamma_f + omega_s**2) / (s**2 - s * gamma_f + omega_s**2)\n",
    "\n",
    "transfer_function_to_graph(tf, 'passive_coupled_cavity.png', layout='dot')"
   ]
  },
  {
   "cell_type": "markdown",
   "metadata": {},
   "source": [
    "![](passive_coupled_cavity.png)"
   ]
  },
  {
   "cell_type": "code",
   "execution_count": 280,
   "metadata": {},
   "outputs": [],
   "source": [
    "split_network = tf2rss(tf).to_slh().split()"
   ]
  },
  {
   "cell_type": "code",
   "execution_count": 281,
   "metadata": {
    "pycharm": {
     "name": "#%%\n"
    },
    "scrolled": true
   },
   "outputs": [
    {
     "data": {
      "text/latex": [
       "$\\displaystyle i \\left(- \\sqrt{\\gamma_{1}} \\sqrt{\\gamma_{f}} a_{1} \\overline{a'_{1}} + \\sqrt{\\gamma_{1}} \\sqrt{\\gamma_{f}} \\overline{a_{1}} a'_{1} + \\omega_{s} a_{1} \\overline{a_{2}} - \\omega_{s} \\overline{a_{1}} a_{2}\\right)$"
      ],
      "text/plain": [
       "I*(-sqrt(gamma_1)*sqrt(gamma_f)*a_1*conjugate(a'_1) + sqrt(gamma_1)*sqrt(gamma_f)*conjugate(a_1)*a'_1 + omega_s*a_1*conjugate(a_2) - omega_s*conjugate(a_1)*a_2)"
      ]
     },
     "execution_count": 281,
     "metadata": {},
     "output_type": "execute_result"
    }
   ],
   "source": [
    "h_int = split_network.interaction_hamiltonian\n",
    "h_int.expr.simplify()"
   ]
  },
  {
   "cell_type": "code",
   "execution_count": 282,
   "metadata": {},
   "outputs": [
    {
     "data": {
      "text/latex": [
       "$\\displaystyle \\left[\\begin{matrix}0 & 0 & - i \\omega_{s} & 0 & i \\sqrt{\\gamma_{1}} \\sqrt{\\gamma_{f}} & 0 & 0 & 0\\\\0 & 0 & 0 & i \\omega_{s} & 0 & - i \\sqrt{\\gamma_{1}} \\sqrt{\\gamma_{f}} & 0 & 0\\\\0 & 0 & 0 & 0 & 0 & 0 & 0 & 0\\\\0 & 0 & 0 & 0 & 0 & 0 & 0 & 0\\\\0 & 0 & 0 & 0 & 0 & 0 & 0 & 0\\\\0 & 0 & 0 & 0 & 0 & 0 & 0 & 0\\\\0 & 0 & 0 & 0 & 0 & 0 & 0 & 0\\\\0 & 0 & 0 & 0 & 0 & 0 & 0 & 0\\end{matrix}\\right]$"
      ],
      "text/plain": [
       "Matrix([\n",
       "[0, 0, -I*omega_s,         0, I*sqrt(gamma_1)*sqrt(gamma_f),                              0, 0, 0],\n",
       "[0, 0,          0, I*omega_s,                             0, -I*sqrt(gamma_1)*sqrt(gamma_f), 0, 0],\n",
       "[0, 0,          0,         0,                             0,                              0, 0, 0],\n",
       "[0, 0,          0,         0,                             0,                              0, 0, 0],\n",
       "[0, 0,          0,         0,                             0,                              0, 0, 0],\n",
       "[0, 0,          0,         0,                             0,                              0, 0, 0],\n",
       "[0, 0,          0,         0,                             0,                              0, 0, 0],\n",
       "[0, 0,          0,         0,                             0,                              0, 0, 0]])"
      ]
     },
     "execution_count": 282,
     "metadata": {},
     "output_type": "execute_result"
    }
   ],
   "source": [
    "split_network.interaction_hamiltonian.h"
   ]
  },
  {
   "cell_type": "code",
   "execution_count": 283,
   "metadata": {},
   "outputs": [
    {
     "data": {
      "text/latex": [
       "$\\displaystyle \\left[\\begin{matrix}a_{1}\\\\\\overline{a_{1}}\\\\a_{2}\\\\\\overline{a_{2}}\\\\a'_{1}\\\\\\overline{a'_{1}}\\\\a'_{2}\\\\\\overline{a'_{2}}\\end{matrix}\\right]$"
      ],
      "text/plain": [
       "Matrix([\n",
       "[            a_1],\n",
       "[ conjugate(a_1)],\n",
       "[            a_2],\n",
       "[ conjugate(a_2)],\n",
       "[           a'_1],\n",
       "[conjugate(a'_1)],\n",
       "[           a'_2],\n",
       "[conjugate(a'_2)]])"
      ]
     },
     "execution_count": 283,
     "metadata": {},
     "output_type": "execute_result"
    }
   ],
   "source": [
    "h_int.states"
   ]
  },
  {
   "cell_type": "code",
   "execution_count": 284,
   "metadata": {},
   "outputs": [
    {
     "data": {
      "text/latex": [
       "$\\displaystyle \\left[\\begin{matrix}0 & 0 & - \\omega_{s} & 0 & \\sqrt{\\gamma_{1}} \\sqrt{\\gamma_{f}} & 0 & 0 & 0\\\\0 & 0 & 0 & - \\omega_{s} & 0 & \\sqrt{\\gamma_{1}} \\sqrt{\\gamma_{f}} & 0 & 0\\\\\\omega_{s} & 0 & 0 & 0 & 0 & 0 & 0 & 0\\\\0 & \\omega_{s} & 0 & 0 & 0 & 0 & 0 & 0\\\\- \\sqrt{\\gamma_{1}} \\sqrt{\\gamma_{f}} & 0 & 0 & 0 & 0 & 0 & 0 & 0\\\\0 & - \\sqrt{\\gamma_{1}} \\sqrt{\\gamma_{f}} & 0 & 0 & 0 & 0 & 0 & 0\\\\0 & 0 & 0 & 0 & 0 & 0 & 0 & 0\\\\0 & 0 & 0 & 0 & 0 & 0 & 0 & 0\\end{matrix}\\right]$"
      ],
      "text/plain": [
       "Matrix([\n",
       "[                           0,                            0, -omega_s,        0, sqrt(gamma_1)*sqrt(gamma_f),                           0, 0, 0],\n",
       "[                           0,                            0,        0, -omega_s,                           0, sqrt(gamma_1)*sqrt(gamma_f), 0, 0],\n",
       "[                     omega_s,                            0,        0,        0,                           0,                           0, 0, 0],\n",
       "[                           0,                      omega_s,        0,        0,                           0,                           0, 0, 0],\n",
       "[-sqrt(gamma_1)*sqrt(gamma_f),                            0,        0,        0,                           0,                           0, 0, 0],\n",
       "[                           0, -sqrt(gamma_1)*sqrt(gamma_f),        0,        0,                           0,                           0, 0, 0],\n",
       "[                           0,                            0,        0,        0,                           0,                           0, 0, 0],\n",
       "[                           0,                            0,        0,        0,                           0,                           0, 0, 0]])"
      ]
     },
     "execution_count": 284,
     "metadata": {},
     "output_type": "execute_result"
    }
   ],
   "source": [
    "simplify(h_int.dynamical_matrix)"
   ]
  },
  {
   "cell_type": "code",
   "execution_count": 285,
   "metadata": {
    "scrolled": false
   },
   "outputs": [
    {
     "data": {
      "text/latex": [
       "$\\displaystyle \\left[\\begin{matrix}\\sqrt{\\gamma_{1}} \\sqrt{\\gamma_{f}} a'_{1} - \\omega_{s} a_{2} + s a_{1}\\\\\\sqrt{\\gamma_{1}} \\sqrt{\\gamma_{f}} \\overline{a'_{1}} - \\omega_{s} \\overline{a_{2}} + s \\overline{a_{1}}\\\\\\omega_{s} a_{1} + s a_{2}\\\\\\omega_{s} \\overline{a_{1}} + s \\overline{a_{2}}\\\\- \\sqrt{\\gamma_{1}} \\sqrt{\\gamma_{f}} a_{1} + \\sqrt{2} \\sqrt{\\gamma_{1}} ain_{1} - \\gamma_{1} a'_{1} + s a'_{1}\\\\- \\sqrt{\\gamma_{1}} \\sqrt{\\gamma_{f}} \\overline{a_{1}} + \\sqrt{2} \\sqrt{\\gamma_{1}} \\overline{ain_{1}} - \\gamma_{1} \\overline{a'_{1}} + s \\overline{a'_{1}}\\\\s a'_{2}\\\\s \\overline{a'_{2}}\\\\- \\sqrt{2} \\sqrt{\\gamma_{1}} a'_{1} + ain_{1} - aout_{1}\\\\- \\sqrt{2} \\sqrt{\\gamma_{1}} \\overline{a'_{1}} + \\overline{ain_{1}} - \\overline{aout_{1}}\\\\ain_{2} - aout_{2}\\\\\\overline{ain_{2}} - \\overline{aout_{2}}\\\\- ain_{2} + aout_{1}\\\\- \\overline{ain_{2}} + \\overline{aout_{1}}\\end{matrix}\\right]$"
      ],
      "text/plain": [
       "Matrix([\n",
       "[                                                                            sqrt(gamma_1)*sqrt(gamma_f)*a'_1 - omega_s*a_2 + s*a_1],\n",
       "[                                           sqrt(gamma_1)*sqrt(gamma_f)*conjugate(a'_1) - omega_s*conjugate(a_2) + s*conjugate(a_1)],\n",
       "[                                                                                                               omega_s*a_1 + s*a_2],\n",
       "[                                                                                         omega_s*conjugate(a_1) + s*conjugate(a_2)],\n",
       "[                                            -sqrt(gamma_1)*sqrt(gamma_f)*a_1 + sqrt(2)*sqrt(gamma_1)*ain_1 - gamma_1*a'_1 + s*a'_1],\n",
       "[-sqrt(gamma_1)*sqrt(gamma_f)*conjugate(a_1) + sqrt(2)*sqrt(gamma_1)*conjugate(ain_1) - gamma_1*conjugate(a'_1) + s*conjugate(a'_1)],\n",
       "[                                                                                                                            s*a'_2],\n",
       "[                                                                                                                 s*conjugate(a'_2)],\n",
       "[                                                                                      -sqrt(2)*sqrt(gamma_1)*a'_1 + ain_1 - aout_1],\n",
       "[                                                     -sqrt(2)*sqrt(gamma_1)*conjugate(a'_1) + conjugate(ain_1) - conjugate(aout_1)],\n",
       "[                                                                                                                    ain_2 - aout_2],\n",
       "[                                                                                              conjugate(ain_2) - conjugate(aout_2)],\n",
       "[                                                                                                                   -ain_2 + aout_1],\n",
       "[                                                                                             -conjugate(ain_2) + conjugate(aout_1)]])"
      ]
     },
     "execution_count": 285,
     "metadata": {},
     "output_type": "execute_result"
    }
   ],
   "source": [
    "split_network.frequency_domain_eqns"
   ]
  },
  {
   "cell_type": "markdown",
   "metadata": {},
   "source": [
    "Looking at adiabatic elimination of $a_1'$\n",
    "\n",
    "$\\dot{a}_1' = -\\gamma_1 a_1' - \\sqrt{\\gamma_1 \\gamma_f} a_1 + \\sqrt{2 \\gamma_1} a_\\text{in}$\n",
    "\n",
    "adiabatic elimination: $\\dot{a}_1' = 0$\n",
    "\n",
    "$a_1' = \\sqrt{\\frac{\\gamma_f}{\\gamma_1}} a_1 - \\sqrt{\\frac{2}{\\gamma_1}} a_\\text{in}$\n",
    "\n",
    "$H_\\text{int} = i \\sqrt{2\\gamma_f}(a_\\text{in}^\\dagger a_1 - a_\\text{in} a_1^\\dagger)$"
   ]
  },
  {
   "cell_type": "code",
   "execution_count": 303,
   "metadata": {},
   "outputs": [
    {
     "data": {
      "text/latex": [
       "$\\displaystyle \\left[\\begin{matrix}a_{1}\\\\\\overline{a_{1}}\\\\a_{2}\\\\\\overline{a_{2}}\\\\a'_{1}\\\\\\overline{a'_{1}}\\\\a'_{2}\\\\\\overline{a'_{2}}\\\\ain_{1}\\\\\\overline{ain_{1}}\\\\aout_{1}\\\\\\overline{aout_{1}}\\\\ain_{2}\\\\\\overline{ain_{2}}\\\\aout_{2}\\\\\\overline{aout_{2}}\\end{matrix}\\right]$"
      ],
      "text/plain": [
       "Matrix([\n",
       "[              a_1],\n",
       "[   conjugate(a_1)],\n",
       "[              a_2],\n",
       "[   conjugate(a_2)],\n",
       "[             a'_1],\n",
       "[  conjugate(a'_1)],\n",
       "[             a'_2],\n",
       "[  conjugate(a'_2)],\n",
       "[            ain_1],\n",
       "[ conjugate(ain_1)],\n",
       "[           aout_1],\n",
       "[conjugate(aout_1)],\n",
       "[            ain_2],\n",
       "[ conjugate(ain_2)],\n",
       "[           aout_2],\n",
       "[conjugate(aout_2)]])"
      ]
     },
     "execution_count": 303,
     "metadata": {},
     "output_type": "execute_result"
    }
   ],
   "source": [
    "split_network.dynamical_matrix.states.states"
   ]
  },
  {
   "cell_type": "code",
   "execution_count": 305,
   "metadata": {},
   "outputs": [
    {
     "data": {
      "text/latex": [
       "$\\displaystyle \\left[\\begin{matrix}- \\frac{\\sqrt{\\gamma_{1}} \\sqrt{\\gamma_{f}} a'_{1}}{s} + \\frac{\\omega_{s} a_{2}}{s}\\\\- \\frac{\\sqrt{\\gamma_{1}} \\sqrt{\\gamma_{f}} \\overline{a'_{1}}}{s} + \\frac{\\omega_{s} \\overline{a_{2}}}{s}\\\\- \\frac{\\omega_{s} a_{1}}{s}\\\\- \\frac{\\omega_{s} \\overline{a_{1}}}{s}\\\\\\frac{\\sqrt{\\gamma_{1}} \\sqrt{\\gamma_{f}} a_{1}}{s} - \\frac{\\sqrt{2} \\sqrt{\\gamma_{1}} ain_{1}}{s} + \\frac{\\gamma_{1} a'_{1}}{s}\\\\\\frac{\\sqrt{\\gamma_{1}} \\sqrt{\\gamma_{f}} \\overline{a_{1}}}{s} - \\frac{\\sqrt{2} \\sqrt{\\gamma_{1}} \\overline{ain_{1}}}{s} + \\frac{\\gamma_{1} \\overline{a'_{1}}}{s}\\\\0\\\\0\\\\0\\\\0\\\\ain_{2}\\\\\\overline{ain_{2}}\\\\- \\sqrt{2} \\sqrt{\\gamma_{1}} a'_{1} + ain_{1}\\\\\\overline{ain_{1}}\\\\\\overline{ain_{1}}\\\\aout_{1}\\end{matrix}\\right]$"
      ],
      "text/plain": [
       "Matrix([\n",
       "[                                                                -sqrt(gamma_1)*sqrt(gamma_f)*a'_1/s + omega_s*a_2/s],\n",
       "[                                          -sqrt(gamma_1)*sqrt(gamma_f)*conjugate(a'_1)/s + omega_s*conjugate(a_2)/s],\n",
       "[                                                                                                     -omega_s*a_1/s],\n",
       "[                                                                                          -omega_s*conjugate(a_1)/s],\n",
       "[                                 sqrt(gamma_1)*sqrt(gamma_f)*a_1/s - sqrt(2)*sqrt(gamma_1)*ain_1/s + gamma_1*a'_1/s],\n",
       "[sqrt(gamma_1)*sqrt(gamma_f)*conjugate(a_1)/s - sqrt(2)*sqrt(gamma_1)*conjugate(ain_1)/s + gamma_1*conjugate(a'_1)/s],\n",
       "[                                                                                                                  0],\n",
       "[                                                                                                                  0],\n",
       "[                                                                                                                  0],\n",
       "[                                                                                                                  0],\n",
       "[                                                                                                              ain_2],\n",
       "[                                                                                                   conjugate(ain_2)],\n",
       "[                                                                                -sqrt(2)*sqrt(gamma_1)*a'_1 + ain_1],\n",
       "[                                                                                                   conjugate(ain_1)],\n",
       "[                                                                                                   conjugate(ain_1)],\n",
       "[                                                                                                             aout_1]])"
      ]
     },
     "execution_count": 305,
     "metadata": {},
     "output_type": "execute_result"
    }
   ],
   "source": [
    "split_network.dynamical_matrix.eqns"
   ]
  },
  {
   "cell_type": "code",
   "execution_count": 307,
   "metadata": {
    "scrolled": false
   },
   "outputs": [
    {
     "data": {
      "text/latex": [
       "$\\displaystyle \\frac{\\gamma_{f} s + \\omega_{s}^{2} + s^{2}}{\\gamma_{f} s - \\omega_{s}^{2} - s^{2}}$"
      ],
      "text/plain": [
       "(gamma_f*s + omega_s**2 + s**2)/(gamma_f*s - omega_s**2 - s**2)"
      ]
     },
     "execution_count": 307,
     "metadata": {},
     "output_type": "execute_result"
    }
   ],
   "source": [
    "# Calculating the input-output transfer function\n",
    "tfm = split_network.tfm\n",
    "\n",
    "tf = tfm['aout_1', 'ain_1'].simplify()\n",
    "gamma_1, _ = split_network.aux_coupling_constants\n",
    "adiabatically_eliminate(tf, gamma_1)"
   ]
  },
  {
   "cell_type": "code",
   "execution_count": 308,
   "metadata": {},
   "outputs": [
    {
     "data": {
      "text/latex": [
       "$\\displaystyle \\frac{\\sqrt{2} \\sqrt{\\gamma_{f}} s^{3}}{- \\gamma_{f} s^{2} + \\omega_{s}^{2} s + s^{3}}$"
      ],
      "text/plain": [
       "sqrt(2)*sqrt(gamma_f)*s**3/(-gamma_f*s**2 + omega_s**2*s + s**3)"
      ]
     },
     "execution_count": 308,
     "metadata": {},
     "output_type": "execute_result"
    }
   ],
   "source": [
    "tf = tfm['aout_1', 'a_1'].simplify()\n",
    "gamma_1, _ = split_network.aux_coupling_constants\n",
    "adiabatically_eliminate(tf, gamma_1)"
   ]
  },
  {
   "cell_type": "markdown",
   "metadata": {},
   "source": [
    "Now looking at the active realisation ($g \\neq 0$)"
   ]
  },
  {
   "cell_type": "code",
   "execution_count": 309,
   "metadata": {
    "pycharm": {
     "name": "#%%\n"
    }
   },
   "outputs": [
    {
     "name": "stdout",
     "output_type": "stream",
     "text": [
      "wrote active_coupled_cavity.png\n"
     ]
    }
   ],
   "source": [
    "# parameterise with lambda = g**2 - omega_s**2 > 0\n",
    "lmbda = symbols('lambda', real=True, positive=True)\n",
    "tf = (s**2 + s * gamma_f - lmbda) / (s**2 - s * gamma_f - lmbda)\n",
    "\n",
    "transfer_function_to_graph(tf, 'active_coupled_cavity.png', layout='dot')"
   ]
  },
  {
   "cell_type": "markdown",
   "metadata": {},
   "source": [
    "![](active_coupled_cavity.png)"
   ]
  },
  {
   "cell_type": "code",
   "execution_count": 310,
   "metadata": {},
   "outputs": [
    {
     "data": {
      "text/latex": [
       "$\\displaystyle i \\left(- \\sqrt{\\gamma_{1}} \\sqrt{\\gamma_{f}} a_{1} \\overline{a'_{1}} + \\sqrt{\\gamma_{1}} \\sqrt{\\gamma_{f}} \\overline{a_{1}} a'_{1} - \\sqrt{\\lambda} a_{1} a_{2} + \\sqrt{\\lambda} \\overline{a_{1}} \\overline{a_{2}}\\right)$"
      ],
      "text/plain": [
       "I*(-sqrt(gamma_1)*sqrt(gamma_f)*a_1*conjugate(a'_1) + sqrt(gamma_1)*sqrt(gamma_f)*conjugate(a_1)*a'_1 - sqrt(lambda)*a_1*a_2 + sqrt(lambda)*conjugate(a_1)*conjugate(a_2))"
      ]
     },
     "execution_count": 310,
     "metadata": {},
     "output_type": "execute_result"
    }
   ],
   "source": [
    "split_network = tf2rss(tf).to_slh().split()\n",
    "h_int = split_network.interaction_hamiltonian\n",
    "h_int.expr.simplify()"
   ]
  },
  {
   "cell_type": "code",
   "execution_count": 311,
   "metadata": {},
   "outputs": [
    {
     "data": {
      "text/latex": [
       "$\\displaystyle \\left[\\begin{matrix}0 & 0 & 0 & \\sqrt{\\lambda} & \\sqrt{\\gamma_{1}} \\sqrt{\\gamma_{f}} & 0 & 0 & 0\\\\0 & 0 & \\sqrt{\\lambda} & 0 & 0 & \\sqrt{\\gamma_{1}} \\sqrt{\\gamma_{f}} & 0 & 0\\\\0 & \\sqrt{\\lambda} & 0 & 0 & 0 & 0 & 0 & 0\\\\\\sqrt{\\lambda} & 0 & 0 & 0 & 0 & 0 & 0 & 0\\\\- \\sqrt{\\gamma_{1}} \\sqrt{\\gamma_{f}} & 0 & 0 & 0 & 0 & 0 & 0 & 0\\\\0 & - \\sqrt{\\gamma_{1}} \\sqrt{\\gamma_{f}} & 0 & 0 & 0 & 0 & 0 & 0\\\\0 & 0 & 0 & 0 & 0 & 0 & 0 & 0\\\\0 & 0 & 0 & 0 & 0 & 0 & 0 & 0\\end{matrix}\\right]$"
      ],
      "text/plain": [
       "Matrix([\n",
       "[                           0,                            0,            0, sqrt(lambda), sqrt(gamma_1)*sqrt(gamma_f),                           0, 0, 0],\n",
       "[                           0,                            0, sqrt(lambda),            0,                           0, sqrt(gamma_1)*sqrt(gamma_f), 0, 0],\n",
       "[                           0,                 sqrt(lambda),            0,            0,                           0,                           0, 0, 0],\n",
       "[                sqrt(lambda),                            0,            0,            0,                           0,                           0, 0, 0],\n",
       "[-sqrt(gamma_1)*sqrt(gamma_f),                            0,            0,            0,                           0,                           0, 0, 0],\n",
       "[                           0, -sqrt(gamma_1)*sqrt(gamma_f),            0,            0,                           0,                           0, 0, 0],\n",
       "[                           0,                            0,            0,            0,                           0,                           0, 0, 0],\n",
       "[                           0,                            0,            0,            0,                           0,                           0, 0, 0]])"
      ]
     },
     "execution_count": 311,
     "metadata": {},
     "output_type": "execute_result"
    }
   ],
   "source": [
    "simplify(h_int.dynamical_matrix)"
   ]
  },
  {
   "cell_type": "code",
   "execution_count": 313,
   "metadata": {
    "scrolled": false
   },
   "outputs": [
    {
     "data": {
      "text/latex": [
       "$\\displaystyle \\left[\\begin{matrix}\\sqrt{\\gamma_{1}} \\sqrt{\\gamma_{f}} a'_{1} + \\sqrt{\\lambda} \\overline{a_{2}} + s a_{1}\\\\\\sqrt{\\gamma_{1}} \\sqrt{\\gamma_{f}} \\overline{a'_{1}} + \\sqrt{\\lambda} a_{2} + s \\overline{a_{1}}\\\\\\sqrt{\\lambda} \\overline{a_{1}} + s a_{2}\\\\\\sqrt{\\lambda} a_{1} + s \\overline{a_{2}}\\\\- \\sqrt{\\gamma_{1}} \\sqrt{\\gamma_{f}} a_{1} + \\sqrt{2} \\sqrt{\\gamma_{1}} ain_{1} - \\gamma_{1} a'_{1} + s a'_{1}\\\\- \\sqrt{\\gamma_{1}} \\sqrt{\\gamma_{f}} \\overline{a_{1}} + \\sqrt{2} \\sqrt{\\gamma_{1}} \\overline{ain_{1}} - \\gamma_{1} \\overline{a'_{1}} + s \\overline{a'_{1}}\\\\s a'_{2}\\\\s \\overline{a'_{2}}\\\\- \\sqrt{2} \\sqrt{\\gamma_{1}} a'_{1} + ain_{1} - aout_{1}\\\\- \\sqrt{2} \\sqrt{\\gamma_{1}} \\overline{a'_{1}} + \\overline{ain_{1}} - \\overline{aout_{1}}\\\\ain_{2} - aout_{2}\\\\\\overline{ain_{2}} - \\overline{aout_{2}}\\\\- ain_{2} + aout_{1}\\\\- \\overline{ain_{2}} + \\overline{aout_{1}}\\end{matrix}\\right]$"
      ],
      "text/plain": [
       "Matrix([\n",
       "[                                                            sqrt(gamma_1)*sqrt(gamma_f)*a'_1 + sqrt(lambda)*conjugate(a_2) + s*a_1],\n",
       "[                                                 sqrt(gamma_1)*sqrt(gamma_f)*conjugate(a'_1) + sqrt(lambda)*a_2 + s*conjugate(a_1)],\n",
       "[                                                                                               sqrt(lambda)*conjugate(a_1) + s*a_2],\n",
       "[                                                                                               sqrt(lambda)*a_1 + s*conjugate(a_2)],\n",
       "[                                            -sqrt(gamma_1)*sqrt(gamma_f)*a_1 + sqrt(2)*sqrt(gamma_1)*ain_1 - gamma_1*a'_1 + s*a'_1],\n",
       "[-sqrt(gamma_1)*sqrt(gamma_f)*conjugate(a_1) + sqrt(2)*sqrt(gamma_1)*conjugate(ain_1) - gamma_1*conjugate(a'_1) + s*conjugate(a'_1)],\n",
       "[                                                                                                                            s*a'_2],\n",
       "[                                                                                                                 s*conjugate(a'_2)],\n",
       "[                                                                                      -sqrt(2)*sqrt(gamma_1)*a'_1 + ain_1 - aout_1],\n",
       "[                                                     -sqrt(2)*sqrt(gamma_1)*conjugate(a'_1) + conjugate(ain_1) - conjugate(aout_1)],\n",
       "[                                                                                                                    ain_2 - aout_2],\n",
       "[                                                                                              conjugate(ain_2) - conjugate(aout_2)],\n",
       "[                                                                                                                   -ain_2 + aout_1],\n",
       "[                                                                                             -conjugate(ain_2) + conjugate(aout_1)]])"
      ]
     },
     "execution_count": 313,
     "metadata": {},
     "output_type": "execute_result"
    }
   ],
   "source": [
    "split_network.frequency_domain_eqns"
   ]
  },
  {
   "cell_type": "code",
   "execution_count": 314,
   "metadata": {},
   "outputs": [
    {
     "data": {
      "text/latex": [
       "$\\displaystyle \\frac{\\gamma_{f} s - \\lambda + s^{2}}{\\gamma_{f} s + \\lambda - s^{2}}$"
      ],
      "text/plain": [
       "(gamma_f*s - lambda + s**2)/(gamma_f*s + lambda - s**2)"
      ]
     },
     "execution_count": 314,
     "metadata": {},
     "output_type": "execute_result"
    }
   ],
   "source": [
    "# Calculating the input-output transfer function\n",
    "tfm = split_network.tfm\n",
    "\n",
    "tf = tfm['aout_1', 'ain_1'].simplify()\n",
    "gamma_1, _ = split_network.aux_coupling_constants\n",
    "adiabatically_eliminate(tf, gamma_1)"
   ]
  },
  {
   "cell_type": "code",
   "execution_count": 19,
   "metadata": {},
   "outputs": [
    {
     "data": {
      "text/latex": [
       "$\\displaystyle \\frac{\\gamma_{f} s - \\lambda + s^{2}}{- \\gamma_{f} s - \\lambda + s^{2}}$"
      ],
      "text/plain": [
       "(gamma_f*s - lambda + s**2)/(-gamma_f*s - lambda + s**2)"
      ]
     },
     "execution_count": 19,
     "metadata": {},
     "output_type": "execute_result"
    }
   ],
   "source": [
    "(s**2 + s * gamma_f - lmbda) / (s**2 - s * gamma_f - lmbda)"
   ]
  },
  {
   "cell_type": "markdown",
   "metadata": {},
   "source": [
    "Differs by phase shift of $\\pi$"
   ]
  },
  {
   "cell_type": "markdown",
   "metadata": {},
   "source": [
    "Now let's look at the transfer function from $a_1$ to $aout_1$, expect it to be frequency independent"
   ]
  },
  {
   "cell_type": "code",
   "execution_count": 315,
   "metadata": {},
   "outputs": [
    {
     "data": {
      "text/latex": [
       "$\\displaystyle - \\frac{\\sqrt{2} \\sqrt{\\gamma_{f}} s^{3}}{\\gamma_{f} s^{2} + \\lambda s - s^{3}}$"
      ],
      "text/plain": [
       "-sqrt(2)*sqrt(gamma_f)*s**3/(gamma_f*s**2 + lambda*s - s**3)"
      ]
     },
     "execution_count": 315,
     "metadata": {},
     "output_type": "execute_result"
    }
   ],
   "source": [
    "tf = tfm['aout_1', 'a_1'].simplify()\n",
    "gamma_1, _ = split_network.aux_coupling_constants\n",
    "adiabatically_eliminate(tf, gamma_1)"
   ]
  },
  {
   "cell_type": "code",
   "execution_count": 22,
   "metadata": {},
   "outputs": [
    {
     "data": {
      "text/latex": [
       "$\\displaystyle \\frac{\\sqrt{2} \\left(\\gamma_{f} + s\\right)}{2 \\sqrt{\\gamma_{f}}}$"
      ],
      "text/plain": [
       "sqrt(2)*(gamma_f + s)/(2*sqrt(gamma_f))"
      ]
     },
     "execution_count": 22,
     "metadata": {},
     "output_type": "execute_result"
    }
   ],
   "source": [
    "adiabatically_eliminate(tf.subs(lmbda, 0).simplify(), gamma_1).simplify()"
   ]
  },
  {
   "cell_type": "code",
   "execution_count": 23,
   "metadata": {},
   "outputs": [
    {
     "data": {
      "text/latex": [
       "$\\displaystyle \\frac{\\sqrt{2} \\sqrt{\\gamma_{f}} s}{\\gamma_{f} s + \\lambda - s^{2}}$"
      ],
      "text/plain": [
       "sqrt(2)*sqrt(gamma_f)*s/(gamma_f*s + lambda - s**2)"
      ]
     },
     "execution_count": 23,
     "metadata": {},
     "output_type": "execute_result"
    }
   ],
   "source": [
    "a1, a1d, ain_1 = eqns.get_symbols(['a_1', 'conjugate(a_1)', 'ain_1'])\n",
    "ain1 = eqns.solve([a1, a1d])[ain_1]\n",
    "tf = (a1 / ain1).simplify()\n",
    "gamma_1, _ = split_network.aux_coupling_constants\n",
    "tf = adiabatically_eliminate(tf, gamma_1)\n",
    "tf"
   ]
  },
  {
   "cell_type": "code",
   "execution_count": 24,
   "metadata": {},
   "outputs": [
    {
     "data": {
      "text/latex": [
       "$\\displaystyle \\frac{\\sqrt{2} \\left(\\gamma_{f} - s\\right)}{2 \\sqrt{\\gamma_{f}}}$"
      ],
      "text/plain": [
       "sqrt(2)*(gamma_f - s)/(2*sqrt(gamma_f))"
      ]
     },
     "execution_count": 24,
     "metadata": {},
     "output_type": "execute_result"
    }
   ],
   "source": [
    "1 / (tf.subs(lmbda, 0).simplify())"
   ]
  },
  {
   "cell_type": "code",
   "execution_count": 25,
   "metadata": {},
   "outputs": [
    {
     "data": {
      "text/latex": [
       "$\\displaystyle \\frac{- \\sqrt{2} \\gamma_{f} s + \\sqrt{2} \\lambda - \\sqrt{2} s^{2}}{2 \\sqrt{\\gamma_{f}} \\sqrt{\\lambda}}$"
      ],
      "text/plain": [
       "(-sqrt(2)*gamma_f*s + sqrt(2)*lambda - sqrt(2)*s**2)/(2*sqrt(gamma_f)*sqrt(lambda))"
      ]
     },
     "execution_count": 25,
     "metadata": {},
     "output_type": "execute_result"
    }
   ],
   "source": [
    "a2, a2d, aout_1 = eqns.get_symbols(['a_2', 'conjugate(a_2)', 'aout_1'])\n",
    "aout1 = eqns.solve([a2, a2d])[aout_1]\n",
    "tf = (aout1 / a2d).simplify()\n",
    "gamma_1, _ = split_network.aux_coupling_constants\n",
    "tf = adiabatically_eliminate(tf, gamma_1)\n",
    "tf"
   ]
  },
  {
   "cell_type": "code",
   "execution_count": null,
   "metadata": {},
   "outputs": [],
   "source": []
  }
 ],
 "metadata": {
  "kernelspec": {
   "display_name": "Python 3",
   "language": "python",
   "name": "python3"
  },
  "language_info": {
   "codemirror_mode": {
    "name": "ipython",
    "version": 3
   },
   "file_extension": ".py",
   "mimetype": "text/x-python",
   "name": "python",
   "nbconvert_exporter": "python",
   "pygments_lexer": "ipython3",
   "version": "3.7.6"
  }
 },
 "nbformat": 4,
 "nbformat_minor": 1
}
