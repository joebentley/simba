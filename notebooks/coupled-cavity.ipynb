{
 "cells": [
  {
   "cell_type": "code",
   "execution_count": 1,
   "metadata": {
    "pycharm": {
     "name": "#%%\n"
    }
   },
   "outputs": [],
   "source": [
    "%load_ext autoreload\n",
    "%autoreload\n",
    "from simba import transfer_function_to_graph, tf2rss, adiabatically_eliminate\n",
    "from sympy import symbols, simplify, Matrix, sqrt, conjugate"
   ]
  },
  {
   "cell_type": "markdown",
   "metadata": {},
   "source": [
    "First looking at passive realisation of coupled cavity setup with coupling constant $g = 0$"
   ]
  },
  {
   "cell_type": "code",
   "execution_count": null,
   "metadata": {
    "pycharm": {
     "name": "#%%\n"
    }
   },
   "outputs": [],
   "source": [
    "s = symbols('s')\n",
    "gamma_f, omega_s = symbols('gamma_f omega_s', real=True, positive=True)\n",
    "tf = (s**2 + s * gamma_f + omega_s**2) / (s**2 - s * gamma_f + omega_s**2)\n",
    "\n",
    "transfer_function_to_graph(tf, 'passive_coupled_cavity.png', layout='dot')"
   ]
  },
  {
   "cell_type": "markdown",
   "metadata": {},
   "source": [
    "\n",
    "![](passive_coupled_cavity.png)"
   ]
  },
  {
   "cell_type": "code",
   "execution_count": null,
   "metadata": {},
   "outputs": [],
   "source": [
    "split_network = tf2rss(tf).to_slh().split()"
   ]
  },
  {
   "cell_type": "code",
   "execution_count": null,
   "metadata": {
    "pycharm": {
     "name": "#%%\n"
    },
    "scrolled": true
   },
   "outputs": [],
   "source": [
    "h_int = split_network.interaction_hamiltonian\n",
    "h_int.expr.simplify()"
   ]
  },
  {
   "cell_type": "code",
   "execution_count": null,
   "metadata": {},
   "outputs": [],
   "source": [
    "split_network.interaction_hamiltonian.h"
   ]
  },
  {
   "cell_type": "code",
   "execution_count": null,
   "metadata": {},
   "outputs": [],
   "source": [
    "h_int.states"
   ]
  },
  {
   "cell_type": "code",
   "execution_count": null,
   "metadata": {},
   "outputs": [],
   "source": [
    "simplify(h_int.dynamical_matrix)"
   ]
  },
  {
   "cell_type": "code",
   "execution_count": null,
   "metadata": {
    "scrolled": false
   },
   "outputs": [],
   "source": [
    "eqns = split_network.frequency_domain_eqns\n",
    "eqns.eqns"
   ]
  },
  {
   "cell_type": "code",
   "execution_count": null,
   "metadata": {
    "scrolled": true
   },
   "outputs": [],
   "source": [
    "eqns.states.T"
   ]
  },
  {
   "cell_type": "code",
   "execution_count": null,
   "metadata": {
    "scrolled": false
   },
   "outputs": [],
   "source": [
    "# Calculating the input-output transfer function\n",
    "ain1, aout1 = eqns.get_symbols(['ain_1', 'aout_1'])\n",
    "aout1 = eqns.solve([ain1, conjugate(ain1)])[aout1]\n",
    "tf = (aout1 / ain1).simplify()\n",
    "gamma_1, _ = split_network.aux_coupling_constants\n",
    "adiabatically_eliminate(tf, gamma_1)"
   ]
  },
  {
   "cell_type": "code",
   "execution_count": null,
   "metadata": {},
   "outputs": [],
   "source": [
    "(s**2 + s * gamma_f + omega_s**2) / (s**2 - s * gamma_f + omega_s**2)"
   ]
  },
  {
   "cell_type": "markdown",
   "metadata": {},
   "source": [
    "Now looking at the active realisation ($g \\neq 0$)"
   ]
  },
  {
   "cell_type": "code",
   "execution_count": null,
   "metadata": {
    "pycharm": {
     "name": "#%%\n"
    }
   },
   "outputs": [],
   "source": [
    "# parameterise with lambda = g**2 - omega_s**2 > 0\n",
    "lmbda = symbols('lambda', real=True, positive=True)\n",
    "tf = (s**2 + s * gamma_f - lmbda) / (s**2 - s * gamma_f - lmbda)\n",
    "\n",
    "transfer_function_to_graph(tf, 'active_coupled_cavity.png', layout='dot')"
   ]
  },
  {
   "cell_type": "markdown",
   "metadata": {},
   "source": [
    "![](active_coupled_cavity.png)"
   ]
  },
  {
   "cell_type": "code",
   "execution_count": null,
   "metadata": {},
   "outputs": [],
   "source": [
    "split_network = tf2rss(tf).to_slh().split()\n",
    "h_int = split_network.interaction_hamiltonian\n",
    "h_int.expr.simplify()"
   ]
  },
  {
   "cell_type": "code",
   "execution_count": null,
   "metadata": {},
   "outputs": [],
   "source": [
    "simplify(h_int.dynamical_matrix)"
   ]
  },
  {
   "cell_type": "code",
   "execution_count": null,
   "metadata": {
    "scrolled": false
   },
   "outputs": [],
   "source": [
    "eqns = split_network.frequency_domain_eqns\n",
    "eqns.eqns"
   ]
  },
  {
   "cell_type": "code",
   "execution_count": null,
   "metadata": {},
   "outputs": [],
   "source": [
    "ain1 = eqns.states[8]\n",
    "aout1 = eqns.solve([8, 9])[10]\n",
    "tf = (aout1 / ain1).simplify()\n",
    "gamma_1, _ = split_network.aux_coupling_constants\n",
    "adiabatically_eliminate(tf, gamma_1)"
   ]
  },
  {
   "cell_type": "code",
   "execution_count": null,
   "metadata": {},
   "outputs": [],
   "source": [
    "(s**2 + s * gamma_f - lmbda) / (s**2 - s * gamma_f - lmbda)"
   ]
  },
  {
   "cell_type": "markdown",
   "metadata": {},
   "source": [
    "Differs by phase shift of $\\pi$"
   ]
  },
  {
   "cell_type": "markdown",
   "metadata": {},
   "source": [
    "Now let's look at the transfer function from $a_1$ to $aout_1$"
   ]
  },
  {
   "cell_type": "code",
   "execution_count": null,
   "metadata": {},
   "outputs": [],
   "source": [
    "eqns.states.T"
   ]
  },
  {
   "cell_type": "code",
   "execution_count": null,
   "metadata": {},
   "outputs": [],
   "source": [
    "a1, a1d, aout_1 = eqns.get_symbols(['a_1', 'conjugate(a_1)', 'aout_1'])\n",
    "aout1 = eqns.solve([a1, a1d])[aout_1]\n",
    "tf = (aout1 / a1).simplify()\n",
    "gamma_1, _ = split_network.aux_coupling_constants\n",
    "tf = adiabatically_eliminate(tf, gamma_1)\n",
    "tf"
   ]
  },
  {
   "cell_type": "code",
   "execution_count": null,
   "metadata": {},
   "outputs": [],
   "source": [
    "from sympy import I, pi, lambdify\n",
    "params = {gamma_f: 1000, lmbda: 2000}\n",
    "f = symbols('f')\n",
    "replaced = tf.subs(params).subs(s, I*2*pi*f).simplify()\n",
    "fn = lambdify(f, replaced, 'numpy')\n",
    "\n",
    "import numpy as np\n",
    "import matplotlib.pyplot as plt\n",
    "\n",
    "fs = np.logspace(0, 3, num=1000)\n",
    "ys = fn(fs)\n",
    "\n",
    "fig, ax = plt.subplots()\n",
    "ax.loglog(fs, abs(ys))\n",
    "plt.show()"
   ]
  },
  {
   "cell_type": "code",
   "execution_count": null,
   "metadata": {},
   "outputs": [],
   "source": []
  }
 ],
 "metadata": {
  "kernelspec": {
   "display_name": "Python 3",
   "language": "python",
   "name": "python3"
  },
  "language_info": {
   "codemirror_mode": {
    "name": "ipython",
    "version": 3
   },
   "file_extension": ".py",
   "mimetype": "text/x-python",
   "name": "python",
   "nbconvert_exporter": "python",
   "pygments_lexer": "ipython3",
   "version": "3.7.6"
  }
 },
 "nbformat": 4,
 "nbformat_minor": 1
}
