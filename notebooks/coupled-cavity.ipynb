{
 "cells": [
  {
   "cell_type": "code",
   "execution_count": 127,
   "metadata": {
    "pycharm": {
     "name": "#%%\n"
    }
   },
   "outputs": [
    {
     "name": "stdout",
     "output_type": "stream",
     "text": [
      "The autoreload extension is already loaded. To reload it, use:\n",
      "  %reload_ext autoreload\n"
     ]
    }
   ],
   "source": [
    "%load_ext autoreload\n",
    "%autoreload\n",
    "from simba import transfer_function_to_graph, tf2rss, adiabatically_eliminate\n",
    "from sympy import symbols, simplify, Matrix, sqrt, conjugate, lambdify"
   ]
  },
  {
   "cell_type": "markdown",
   "metadata": {},
   "source": [
    "Tuned cavity"
   ]
  },
  {
   "cell_type": "code",
   "execution_count": 132,
   "metadata": {},
   "outputs": [],
   "source": [
    "s = symbols('s')\n",
    "gamma_f = symbols('gamma_f', real=True, positive=True)\n",
    "tf = (s + gamma_f) / (s - gamma_f)\n",
    "split_network = tf2rss(tf).to_slh().split()\n",
    "eqns = split_network.frequency_domain_eqns\n",
    "gamma, = split_network.aux_coupling_constants"
   ]
  },
  {
   "cell_type": "code",
   "execution_count": 136,
   "metadata": {},
   "outputs": [
    {
     "data": {
      "text/latex": [
       "$\\displaystyle \\frac{\\gamma_{f} + s}{\\gamma_{f} - s}$"
      ],
      "text/plain": [
       "(gamma_f + s)/(gamma_f - s)"
      ]
     },
     "execution_count": 136,
     "metadata": {},
     "output_type": "execute_result"
    }
   ],
   "source": [
    "ain, aind, aout = eqns.get_symbols(['ain', 'conjugate(ain)', 'aout'])\n",
    "aout = eqns.solve([ain, aind])[aout]\n",
    "tf = (aout / ain).simplify()\n",
    "adiabatically_eliminate(tf, gamma)"
   ]
  },
  {
   "cell_type": "code",
   "execution_count": 128,
   "metadata": {},
   "outputs": [
    {
     "data": {
      "text/latex": [
       "$\\displaystyle \\frac{\\sqrt{2} \\left(\\gamma \\gamma_{f} + \\gamma s + s^{2}\\right)}{2 \\gamma \\sqrt{\\gamma_{f}}}$"
      ],
      "text/plain": [
       "sqrt(2)*(gamma*gamma_f + gamma*s + s**2)/(2*gamma*sqrt(gamma_f))"
      ]
     },
     "execution_count": 128,
     "metadata": {},
     "output_type": "execute_result"
    }
   ],
   "source": [
    "a, ad, aout = eqns.get_symbols(['a', 'conjugate(a)', 'aout'])\n",
    "aout = eqns.solve([a, ad])[aout]\n",
    "tf = (aout / a).simplify()\n",
    "tf"
   ]
  },
  {
   "cell_type": "code",
   "execution_count": 130,
   "metadata": {},
   "outputs": [
    {
     "data": {
      "text/latex": [
       "$\\displaystyle \\left[\\begin{matrix}0 & 0 & i \\sqrt{\\gamma} \\sqrt{\\gamma_{f}} & 0\\\\0 & 0 & 0 & - i \\sqrt{\\gamma} \\sqrt{\\gamma_{f}}\\\\0 & 0 & 0 & 0\\\\0 & 0 & 0 & 0\\end{matrix}\\right]$"
      ],
      "text/plain": [
       "Matrix([\n",
       "[0, 0, I*sqrt(gamma)*sqrt(gamma_f),                            0],\n",
       "[0, 0,                           0, -I*sqrt(gamma)*sqrt(gamma_f)],\n",
       "[0, 0,                           0,                            0],\n",
       "[0, 0,                           0,                            0]])"
      ]
     },
     "execution_count": 130,
     "metadata": {},
     "output_type": "execute_result"
    }
   ],
   "source": [
    "split_network.interaction_hamiltonian.h"
   ]
  },
  {
   "cell_type": "code",
   "execution_count": 122,
   "metadata": {},
   "outputs": [
    {
     "data": {
      "text/latex": [
       "$\\displaystyle \\left[\\begin{matrix}\\sqrt{\\gamma} \\sqrt{\\gamma_{f}} a' + s a\\\\\\sqrt{\\gamma} \\sqrt{\\gamma_{f}} \\overline{a'} + s \\overline{a}\\\\- \\sqrt{\\gamma} \\sqrt{\\gamma_{f}} a + \\sqrt{2} \\sqrt{\\gamma} ain - \\gamma a' + s a'\\\\- \\sqrt{\\gamma} \\sqrt{\\gamma_{f}} \\overline{a} + \\sqrt{2} \\sqrt{\\gamma} \\overline{ain} - \\gamma \\overline{a'} + s \\overline{a'}\\\\- \\sqrt{2} \\sqrt{\\gamma} a' + ain - aout\\\\- \\sqrt{2} \\sqrt{\\gamma} \\overline{a'} + \\overline{ain} - \\overline{aout}\\end{matrix}\\right]$"
      ],
      "text/plain": [
       "Matrix([\n",
       "[                                                                                  sqrt(gamma)*sqrt(gamma_f)*a' + s*a],\n",
       "[                                                            sqrt(gamma)*sqrt(gamma_f)*conjugate(a') + s*conjugate(a)],\n",
       "[                                            -sqrt(gamma)*sqrt(gamma_f)*a + sqrt(2)*sqrt(gamma)*ain - gamma*a' + s*a'],\n",
       "[-sqrt(gamma)*sqrt(gamma_f)*conjugate(a) + sqrt(2)*sqrt(gamma)*conjugate(ain) - gamma*conjugate(a') + s*conjugate(a')],\n",
       "[                                                                                -sqrt(2)*sqrt(gamma)*a' + ain - aout],\n",
       "[                                               -sqrt(2)*sqrt(gamma)*conjugate(a') + conjugate(ain) - conjugate(aout)]])"
      ]
     },
     "execution_count": 122,
     "metadata": {},
     "output_type": "execute_result"
    }
   ],
   "source": [
    "eqns.eqns"
   ]
  },
  {
   "cell_type": "code",
   "execution_count": 118,
   "metadata": {},
   "outputs": [
    {
     "data": {
      "text/latex": [
       "$\\displaystyle \\frac{\\sqrt{2} \\left(\\gamma_{f} + 3 s\\right)}{2 \\sqrt{\\gamma_{f}}}$"
      ],
      "text/plain": [
       "sqrt(2)*(gamma_f + 3*s)/(2*sqrt(gamma_f))"
      ]
     },
     "execution_count": 118,
     "metadata": {},
     "output_type": "execute_result"
    }
   ],
   "source": [
    "adiabatically_eliminate(tf, gamma).simplify()"
   ]
  },
  {
   "cell_type": "markdown",
   "metadata": {},
   "source": [
    "First looking at passive realisation of coupled cavity setup with coupling constant $g = 0$"
   ]
  },
  {
   "cell_type": "code",
   "execution_count": 28,
   "metadata": {
    "pycharm": {
     "name": "#%%\n"
    }
   },
   "outputs": [
    {
     "name": "stdout",
     "output_type": "stream",
     "text": [
      "wrote passive_coupled_cavity.png\n"
     ]
    }
   ],
   "source": [
    "s = symbols('s')\n",
    "gamma_f, omega_s = symbols('gamma_f omega_s', real=True, positive=True)\n",
    "tf = (s**2 + s * gamma_f + omega_s**2) / (s**2 - s * gamma_f + omega_s**2)\n",
    "\n",
    "transfer_function_to_graph(tf, 'passive_coupled_cavity.png', layout='dot')"
   ]
  },
  {
   "cell_type": "markdown",
   "metadata": {},
   "source": [
    "![](passive_coupled_cavity.png)"
   ]
  },
  {
   "cell_type": "code",
   "execution_count": 29,
   "metadata": {},
   "outputs": [],
   "source": [
    "split_network = tf2rss(tf).to_slh().split()"
   ]
  },
  {
   "cell_type": "code",
   "execution_count": 30,
   "metadata": {
    "pycharm": {
     "name": "#%%\n"
    },
    "scrolled": true
   },
   "outputs": [
    {
     "data": {
      "text/latex": [
       "$\\displaystyle i \\left(- \\sqrt{\\gamma_{1}} \\sqrt{\\gamma_{f}} a_{1} \\overline{a'_{1}} + \\sqrt{\\gamma_{1}} \\sqrt{\\gamma_{f}} \\overline{a_{1}} a'_{1} + \\omega_{s} a_{1} \\overline{a_{2}} - \\omega_{s} \\overline{a_{1}} a_{2}\\right)$"
      ],
      "text/plain": [
       "I*(-sqrt(gamma_1)*sqrt(gamma_f)*a_1*conjugate(a'_1) + sqrt(gamma_1)*sqrt(gamma_f)*conjugate(a_1)*a'_1 + omega_s*a_1*conjugate(a_2) - omega_s*conjugate(a_1)*a_2)"
      ]
     },
     "execution_count": 30,
     "metadata": {},
     "output_type": "execute_result"
    }
   ],
   "source": [
    "h_int = split_network.interaction_hamiltonian\n",
    "h_int.expr.simplify()"
   ]
  },
  {
   "cell_type": "code",
   "execution_count": 31,
   "metadata": {},
   "outputs": [
    {
     "data": {
      "text/latex": [
       "$\\displaystyle \\left[\\begin{matrix}0 & 0 & - i \\omega_{s} & 0 & i \\sqrt{\\gamma_{1}} \\sqrt{\\gamma_{f}} & 0 & 0 & 0\\\\0 & 0 & 0 & i \\omega_{s} & 0 & - i \\sqrt{\\gamma_{1}} \\sqrt{\\gamma_{f}} & 0 & 0\\\\0 & 0 & 0 & 0 & 0 & 0 & 0 & 0\\\\0 & 0 & 0 & 0 & 0 & 0 & 0 & 0\\\\0 & 0 & 0 & 0 & 0 & 0 & 0 & 0\\\\0 & 0 & 0 & 0 & 0 & 0 & 0 & 0\\\\0 & 0 & 0 & 0 & 0 & 0 & 0 & 0\\\\0 & 0 & 0 & 0 & 0 & 0 & 0 & 0\\end{matrix}\\right]$"
      ],
      "text/plain": [
       "Matrix([\n",
       "[0, 0, -I*omega_s,         0, I*sqrt(gamma_1)*sqrt(gamma_f),                              0, 0, 0],\n",
       "[0, 0,          0, I*omega_s,                             0, -I*sqrt(gamma_1)*sqrt(gamma_f), 0, 0],\n",
       "[0, 0,          0,         0,                             0,                              0, 0, 0],\n",
       "[0, 0,          0,         0,                             0,                              0, 0, 0],\n",
       "[0, 0,          0,         0,                             0,                              0, 0, 0],\n",
       "[0, 0,          0,         0,                             0,                              0, 0, 0],\n",
       "[0, 0,          0,         0,                             0,                              0, 0, 0],\n",
       "[0, 0,          0,         0,                             0,                              0, 0, 0]])"
      ]
     },
     "execution_count": 31,
     "metadata": {},
     "output_type": "execute_result"
    }
   ],
   "source": [
    "split_network.interaction_hamiltonian.h"
   ]
  },
  {
   "cell_type": "code",
   "execution_count": 32,
   "metadata": {},
   "outputs": [
    {
     "data": {
      "text/latex": [
       "$\\displaystyle \\left[\\begin{matrix}a_{1}\\\\\\overline{a_{1}}\\\\a_{2}\\\\\\overline{a_{2}}\\\\a'_{1}\\\\\\overline{a'_{1}}\\\\a'_{2}\\\\\\overline{a'_{2}}\\end{matrix}\\right]$"
      ],
      "text/plain": [
       "Matrix([\n",
       "[            a_1],\n",
       "[ conjugate(a_1)],\n",
       "[            a_2],\n",
       "[ conjugate(a_2)],\n",
       "[           a'_1],\n",
       "[conjugate(a'_1)],\n",
       "[           a'_2],\n",
       "[conjugate(a'_2)]])"
      ]
     },
     "execution_count": 32,
     "metadata": {},
     "output_type": "execute_result"
    }
   ],
   "source": [
    "h_int.states"
   ]
  },
  {
   "cell_type": "code",
   "execution_count": 33,
   "metadata": {},
   "outputs": [
    {
     "data": {
      "text/latex": [
       "$\\displaystyle \\left[\\begin{matrix}0 & 0 & - \\omega_{s} & 0 & \\sqrt{\\gamma_{1}} \\sqrt{\\gamma_{f}} & 0 & 0 & 0\\\\0 & 0 & 0 & - \\omega_{s} & 0 & \\sqrt{\\gamma_{1}} \\sqrt{\\gamma_{f}} & 0 & 0\\\\\\omega_{s} & 0 & 0 & 0 & 0 & 0 & 0 & 0\\\\0 & \\omega_{s} & 0 & 0 & 0 & 0 & 0 & 0\\\\- \\sqrt{\\gamma_{1}} \\sqrt{\\gamma_{f}} & 0 & 0 & 0 & 0 & 0 & 0 & 0\\\\0 & - \\sqrt{\\gamma_{1}} \\sqrt{\\gamma_{f}} & 0 & 0 & 0 & 0 & 0 & 0\\\\0 & 0 & 0 & 0 & 0 & 0 & 0 & 0\\\\0 & 0 & 0 & 0 & 0 & 0 & 0 & 0\\end{matrix}\\right]$"
      ],
      "text/plain": [
       "Matrix([\n",
       "[                           0,                            0, -omega_s,        0, sqrt(gamma_1)*sqrt(gamma_f),                           0, 0, 0],\n",
       "[                           0,                            0,        0, -omega_s,                           0, sqrt(gamma_1)*sqrt(gamma_f), 0, 0],\n",
       "[                     omega_s,                            0,        0,        0,                           0,                           0, 0, 0],\n",
       "[                           0,                      omega_s,        0,        0,                           0,                           0, 0, 0],\n",
       "[-sqrt(gamma_1)*sqrt(gamma_f),                            0,        0,        0,                           0,                           0, 0, 0],\n",
       "[                           0, -sqrt(gamma_1)*sqrt(gamma_f),        0,        0,                           0,                           0, 0, 0],\n",
       "[                           0,                            0,        0,        0,                           0,                           0, 0, 0],\n",
       "[                           0,                            0,        0,        0,                           0,                           0, 0, 0]])"
      ]
     },
     "execution_count": 33,
     "metadata": {},
     "output_type": "execute_result"
    }
   ],
   "source": [
    "simplify(h_int.dynamical_matrix)"
   ]
  },
  {
   "cell_type": "code",
   "execution_count": 34,
   "metadata": {
    "scrolled": false
   },
   "outputs": [
    {
     "data": {
      "text/latex": [
       "$\\displaystyle \\left[\\begin{matrix}\\sqrt{\\gamma_{1}} \\sqrt{\\gamma_{f}} a'_{1} - \\omega_{s} a_{2} + s a_{1}\\\\\\sqrt{\\gamma_{1}} \\sqrt{\\gamma_{f}} \\overline{a'_{1}} - \\omega_{s} \\overline{a_{2}} + s \\overline{a_{1}}\\\\\\omega_{s} a_{1} + s a_{2}\\\\\\omega_{s} \\overline{a_{1}} + s \\overline{a_{2}}\\\\- \\sqrt{\\gamma_{1}} \\sqrt{\\gamma_{f}} a_{1} + \\sqrt{2} \\sqrt{\\gamma_{1}} ain_{1} - \\gamma_{1} a'_{1} + s a'_{1}\\\\- \\sqrt{\\gamma_{1}} \\sqrt{\\gamma_{f}} \\overline{a_{1}} + \\sqrt{2} \\sqrt{\\gamma_{1}} \\overline{ain_{1}} - \\gamma_{1} \\overline{a'_{1}} + s \\overline{a'_{1}}\\\\s a'_{2}\\\\s \\overline{a'_{2}}\\\\- \\sqrt{2} \\sqrt{\\gamma_{1}} a'_{1} + ain_{1} - aout_{1}\\\\- \\sqrt{2} \\sqrt{\\gamma_{1}} \\overline{a'_{1}} + \\overline{ain_{1}} - \\overline{aout_{1}}\\\\ain_{2} - aout_{2}\\\\\\overline{ain_{2}} - \\overline{aout_{2}}\\\\- ain_{2} + aout_{1}\\\\- \\overline{ain_{2}} + \\overline{aout_{1}}\\end{matrix}\\right]$"
      ],
      "text/plain": [
       "Matrix([\n",
       "[                                                                            sqrt(gamma_1)*sqrt(gamma_f)*a'_1 - omega_s*a_2 + s*a_1],\n",
       "[                                           sqrt(gamma_1)*sqrt(gamma_f)*conjugate(a'_1) - omega_s*conjugate(a_2) + s*conjugate(a_1)],\n",
       "[                                                                                                               omega_s*a_1 + s*a_2],\n",
       "[                                                                                         omega_s*conjugate(a_1) + s*conjugate(a_2)],\n",
       "[                                            -sqrt(gamma_1)*sqrt(gamma_f)*a_1 + sqrt(2)*sqrt(gamma_1)*ain_1 - gamma_1*a'_1 + s*a'_1],\n",
       "[-sqrt(gamma_1)*sqrt(gamma_f)*conjugate(a_1) + sqrt(2)*sqrt(gamma_1)*conjugate(ain_1) - gamma_1*conjugate(a'_1) + s*conjugate(a'_1)],\n",
       "[                                                                                                                            s*a'_2],\n",
       "[                                                                                                                 s*conjugate(a'_2)],\n",
       "[                                                                                      -sqrt(2)*sqrt(gamma_1)*a'_1 + ain_1 - aout_1],\n",
       "[                                                     -sqrt(2)*sqrt(gamma_1)*conjugate(a'_1) + conjugate(ain_1) - conjugate(aout_1)],\n",
       "[                                                                                                                    ain_2 - aout_2],\n",
       "[                                                                                              conjugate(ain_2) - conjugate(aout_2)],\n",
       "[                                                                                                                   -ain_2 + aout_1],\n",
       "[                                                                                             -conjugate(ain_2) + conjugate(aout_1)]])"
      ]
     },
     "execution_count": 34,
     "metadata": {},
     "output_type": "execute_result"
    }
   ],
   "source": [
    "eqns = split_network.frequency_domain_eqns\n",
    "eqns.eqns"
   ]
  },
  {
   "cell_type": "markdown",
   "metadata": {},
   "source": [
    "Looking at adiabatic elimination of $a_1'$\n",
    "\n",
    "$\\dot{a}_1' = -\\gamma_1 a_1' - \\sqrt{\\gamma_1 \\gamma_f} a_1 + \\sqrt{2 \\gamma_1} a_\\text{in}$\n",
    "\n",
    "adiabatic elimination: $\\dot{a}_1' = 0$\n",
    "\n",
    "$a_1' = \\sqrt{\\frac{\\gamma_f}{\\gamma_1}} a_1 - \\sqrt{\\frac{2}{\\gamma_1}} a_\\text{in}$\n",
    "\n",
    "$H_\\text{int} = i \\sqrt{2\\gamma_f}(a_\\text{in}^\\dagger a_1 - a_\\text{in} a_1^\\dagger)$"
   ]
  },
  {
   "cell_type": "code",
   "execution_count": 35,
   "metadata": {
    "scrolled": true
   },
   "outputs": [
    {
     "data": {
      "text/latex": [
       "$\\displaystyle \\left[\\begin{array}{cccccccccccccccc}a_{1} & \\overline{a_{1}} & a_{2} & \\overline{a_{2}} & a'_{1} & \\overline{a'_{1}} & a'_{2} & \\overline{a'_{2}} & ain_{1} & \\overline{ain_{1}} & aout_{1} & \\overline{aout_{1}} & ain_{2} & \\overline{ain_{2}} & aout_{2} & \\overline{aout_{2}}\\end{array}\\right]$"
      ],
      "text/plain": [
       "Matrix([[a_1, conjugate(a_1), a_2, conjugate(a_2), a'_1, conjugate(a'_1), a'_2, conjugate(a'_2), ain_1, conjugate(ain_1), aout_1, conjugate(aout_1), ain_2, conjugate(ain_2), aout_2, conjugate(aout_2)]])"
      ]
     },
     "execution_count": 35,
     "metadata": {},
     "output_type": "execute_result"
    }
   ],
   "source": [
    "eqns.states.T"
   ]
  },
  {
   "cell_type": "code",
   "execution_count": 36,
   "metadata": {
    "scrolled": false
   },
   "outputs": [
    {
     "data": {
      "text/latex": [
       "$\\displaystyle \\frac{\\gamma_{f} s + \\omega_{s}^{2} + s^{2}}{\\gamma_{f} s - \\omega_{s}^{2} - s^{2}}$"
      ],
      "text/plain": [
       "(gamma_f*s + omega_s**2 + s**2)/(gamma_f*s - omega_s**2 - s**2)"
      ]
     },
     "execution_count": 36,
     "metadata": {},
     "output_type": "execute_result"
    }
   ],
   "source": [
    "# Calculating the input-output transfer function\n",
    "ain1, aout1 = eqns.get_symbols(['ain_1', 'aout_1'])\n",
    "aout1 = eqns.solve([ain1, conjugate(ain1)])[aout1]\n",
    "tf = (aout1 / ain1).simplify()\n",
    "gamma_1, _ = split_network.aux_coupling_constants\n",
    "adiabatically_eliminate(tf, gamma_1)"
   ]
  },
  {
   "cell_type": "code",
   "execution_count": 37,
   "metadata": {},
   "outputs": [
    {
     "data": {
      "text/latex": [
       "$\\displaystyle \\frac{\\gamma_{1} \\gamma_{f} s + \\gamma_{1} \\omega_{s}^{2} + \\gamma_{1} s^{2} + \\omega_{s}^{2} s + s^{3}}{\\gamma_{1} \\gamma_{f} s - \\left(\\gamma_{1} - s\\right) \\left(\\omega_{s}^{2} + s^{2}\\right)}$"
      ],
      "text/plain": [
       "(gamma_1*gamma_f*s + gamma_1*omega_s**2 + gamma_1*s**2 + omega_s**2*s + s**3)/(gamma_1*gamma_f*s - (gamma_1 - s)*(omega_s**2 + s**2))"
      ]
     },
     "execution_count": 37,
     "metadata": {},
     "output_type": "execute_result"
    }
   ],
   "source": [
    "(aout1 / ain1).simplify()"
   ]
  },
  {
   "cell_type": "code",
   "execution_count": 38,
   "metadata": {},
   "outputs": [
    {
     "data": {
      "text/latex": [
       "$\\displaystyle \\frac{\\gamma_{f} s + \\omega_{s}^{2} + s^{2}}{- \\gamma_{f} s + \\omega_{s}^{2} + s^{2}}$"
      ],
      "text/plain": [
       "(gamma_f*s + omega_s**2 + s**2)/(-gamma_f*s + omega_s**2 + s**2)"
      ]
     },
     "execution_count": 38,
     "metadata": {},
     "output_type": "execute_result"
    }
   ],
   "source": [
    "(s**2 + s * gamma_f + omega_s**2) / (s**2 - s * gamma_f + omega_s**2)"
   ]
  },
  {
   "cell_type": "code",
   "execution_count": 58,
   "metadata": {},
   "outputs": [
    {
     "data": {
      "text/latex": [
       "$\\displaystyle \\frac{\\sqrt{2} \\left(\\gamma_{f} + s\\right)}{2 \\sqrt{\\gamma_{f}}}$"
      ],
      "text/plain": [
       "sqrt(2)*(gamma_f + s)/(2*sqrt(gamma_f))"
      ]
     },
     "execution_count": 58,
     "metadata": {},
     "output_type": "execute_result"
    }
   ],
   "source": [
    "a1, a1d, aout_1 = eqns.get_symbols(['a_1', 'conjugate(a_1)', 'aout_1'])\n",
    "aout1 = eqns.solve([a1, a1d])[aout_1]\n",
    "tf = (aout1 / a1).simplify()\n",
    "gamma_1, _ = split_network.aux_coupling_constants\n",
    "# tf\n",
    "tf = adiabatically_eliminate(tf.subs(omega_s, 0), gamma_1)\n",
    "tf.simplify()"
   ]
  },
  {
   "cell_type": "code",
   "execution_count": 54,
   "metadata": {},
   "outputs": [
    {
     "data": {
      "image/png": "[encoded data removed]",
      "text/plain": [
       "<Figure size 432x288 with 1 Axes>"
      ]
     },
     "metadata": {
      "needs_background": "light"
     },
     "output_type": "display_data"
    }
   ],
   "source": [
    "f = symbols('f')\n",
    "tf_ = lambdify(f, tf.subs({gamma_f: 10, s: 2j*np.pi*f}))\n",
    "\n",
    "fs = np.logspace(1, 3, num=1000)\n",
    "tfs = np.abs(tf_(fs))\n",
    "\n",
    "plt.loglog(fs, tfs)\n",
    "plt.show()"
   ]
  },
  {
   "cell_type": "code",
   "execution_count": 40,
   "metadata": {},
   "outputs": [
    {
     "data": {
      "text/latex": [
       "$\\displaystyle \\frac{\\sqrt{2} \\left(\\gamma_{f} - s\\right)}{2 \\sqrt{\\gamma_{f}}}$"
      ],
      "text/plain": [
       "sqrt(2)*(gamma_f - s)/(2*sqrt(gamma_f))"
      ]
     },
     "execution_count": 40,
     "metadata": {},
     "output_type": "execute_result"
    }
   ],
   "source": [
    "a1, a1d, ain_1 = eqns.get_symbols(['a_1', 'conjugate(a_1)', 'ain_1'])\n",
    "ain1 = eqns.solve([a1, a1d])[ain_1]\n",
    "tf = (ain1 / a1).simplify()\n",
    "gamma_1, _ = split_network.aux_coupling_constants\n",
    "# tf\n",
    "tf = adiabatically_eliminate(tf.subs(omega_s, 0), gamma_1)\n",
    "tf.simplify()"
   ]
  },
  {
   "cell_type": "markdown",
   "metadata": {},
   "source": [
    "Now looking at the active realisation ($g \\neq 0$)"
   ]
  },
  {
   "cell_type": "code",
   "execution_count": 14,
   "metadata": {
    "pycharm": {
     "name": "#%%\n"
    }
   },
   "outputs": [
    {
     "name": "stdout",
     "output_type": "stream",
     "text": [
      "wrote active_coupled_cavity.png\n"
     ]
    }
   ],
   "source": [
    "# parameterise with lambda = g**2 - omega_s**2 > 0\n",
    "lmbda = symbols('lambda', real=True, positive=True)\n",
    "tf = (s**2 + s * gamma_f - lmbda) / (s**2 - s * gamma_f - lmbda)\n",
    "\n",
    "transfer_function_to_graph(tf, 'active_coupled_cavity.png', layout='dot')"
   ]
  },
  {
   "cell_type": "markdown",
   "metadata": {},
   "source": [
    "![](active_coupled_cavity.png)"
   ]
  },
  {
   "cell_type": "code",
   "execution_count": 15,
   "metadata": {},
   "outputs": [
    {
     "data": {
      "text/latex": [
       "$\\displaystyle i \\left(- \\sqrt{\\gamma_{1}} \\sqrt{\\gamma_{f}} a_{1} \\overline{a'_{1}} + \\sqrt{\\gamma_{1}} \\sqrt{\\gamma_{f}} \\overline{a_{1}} a'_{1} - \\sqrt{\\lambda} a_{1} a_{2} + \\sqrt{\\lambda} \\overline{a_{1}} \\overline{a_{2}}\\right)$"
      ],
      "text/plain": [
       "I*(-sqrt(gamma_1)*sqrt(gamma_f)*a_1*conjugate(a'_1) + sqrt(gamma_1)*sqrt(gamma_f)*conjugate(a_1)*a'_1 - sqrt(lambda)*a_1*a_2 + sqrt(lambda)*conjugate(a_1)*conjugate(a_2))"
      ]
     },
     "execution_count": 15,
     "metadata": {},
     "output_type": "execute_result"
    }
   ],
   "source": [
    "split_network = tf2rss(tf).to_slh().split()\n",
    "h_int = split_network.interaction_hamiltonian\n",
    "h_int.expr.simplify()"
   ]
  },
  {
   "cell_type": "code",
   "execution_count": 16,
   "metadata": {},
   "outputs": [
    {
     "data": {
      "text/latex": [
       "$\\displaystyle \\left[\\begin{matrix}0 & 0 & 0 & \\sqrt{\\lambda} & \\sqrt{\\gamma_{1}} \\sqrt{\\gamma_{f}} & 0 & 0 & 0\\\\0 & 0 & \\sqrt{\\lambda} & 0 & 0 & \\sqrt{\\gamma_{1}} \\sqrt{\\gamma_{f}} & 0 & 0\\\\0 & \\sqrt{\\lambda} & 0 & 0 & 0 & 0 & 0 & 0\\\\\\sqrt{\\lambda} & 0 & 0 & 0 & 0 & 0 & 0 & 0\\\\- \\sqrt{\\gamma_{1}} \\sqrt{\\gamma_{f}} & 0 & 0 & 0 & 0 & 0 & 0 & 0\\\\0 & - \\sqrt{\\gamma_{1}} \\sqrt{\\gamma_{f}} & 0 & 0 & 0 & 0 & 0 & 0\\\\0 & 0 & 0 & 0 & 0 & 0 & 0 & 0\\\\0 & 0 & 0 & 0 & 0 & 0 & 0 & 0\\end{matrix}\\right]$"
      ],
      "text/plain": [
       "Matrix([\n",
       "[                           0,                            0,            0, sqrt(lambda), sqrt(gamma_1)*sqrt(gamma_f),                           0, 0, 0],\n",
       "[                           0,                            0, sqrt(lambda),            0,                           0, sqrt(gamma_1)*sqrt(gamma_f), 0, 0],\n",
       "[                           0,                 sqrt(lambda),            0,            0,                           0,                           0, 0, 0],\n",
       "[                sqrt(lambda),                            0,            0,            0,                           0,                           0, 0, 0],\n",
       "[-sqrt(gamma_1)*sqrt(gamma_f),                            0,            0,            0,                           0,                           0, 0, 0],\n",
       "[                           0, -sqrt(gamma_1)*sqrt(gamma_f),            0,            0,                           0,                           0, 0, 0],\n",
       "[                           0,                            0,            0,            0,                           0,                           0, 0, 0],\n",
       "[                           0,                            0,            0,            0,                           0,                           0, 0, 0]])"
      ]
     },
     "execution_count": 16,
     "metadata": {},
     "output_type": "execute_result"
    }
   ],
   "source": [
    "simplify(h_int.dynamical_matrix)"
   ]
  },
  {
   "cell_type": "code",
   "execution_count": 17,
   "metadata": {
    "scrolled": false
   },
   "outputs": [
    {
     "data": {
      "text/latex": [
       "$\\displaystyle \\left[\\begin{matrix}\\sqrt{\\gamma_{1}} \\sqrt{\\gamma_{f}} a'_{1} + \\sqrt{\\lambda} \\overline{a_{2}} + s a_{1}\\\\\\sqrt{\\gamma_{1}} \\sqrt{\\gamma_{f}} \\overline{a'_{1}} + \\sqrt{\\lambda} a_{2} + s \\overline{a_{1}}\\\\\\sqrt{\\lambda} \\overline{a_{1}} + s a_{2}\\\\\\sqrt{\\lambda} a_{1} + s \\overline{a_{2}}\\\\- \\sqrt{\\gamma_{1}} \\sqrt{\\gamma_{f}} a_{1} + \\sqrt{2} \\sqrt{\\gamma_{1}} ain_{1} - \\gamma_{1} a'_{1} + s a'_{1}\\\\- \\sqrt{\\gamma_{1}} \\sqrt{\\gamma_{f}} \\overline{a_{1}} + \\sqrt{2} \\sqrt{\\gamma_{1}} \\overline{ain_{1}} - \\gamma_{1} \\overline{a'_{1}} + s \\overline{a'_{1}}\\\\s a'_{2}\\\\s \\overline{a'_{2}}\\\\- \\sqrt{2} \\sqrt{\\gamma_{1}} a'_{1} + ain_{1} - aout_{1}\\\\- \\sqrt{2} \\sqrt{\\gamma_{1}} \\overline{a'_{1}} + \\overline{ain_{1}} - \\overline{aout_{1}}\\\\ain_{2} - aout_{2}\\\\\\overline{ain_{2}} - \\overline{aout_{2}}\\\\- ain_{2} + aout_{1}\\\\- \\overline{ain_{2}} + \\overline{aout_{1}}\\end{matrix}\\right]$"
      ],
      "text/plain": [
       "Matrix([\n",
       "[                                                            sqrt(gamma_1)*sqrt(gamma_f)*a'_1 + sqrt(lambda)*conjugate(a_2) + s*a_1],\n",
       "[                                                 sqrt(gamma_1)*sqrt(gamma_f)*conjugate(a'_1) + sqrt(lambda)*a_2 + s*conjugate(a_1)],\n",
       "[                                                                                               sqrt(lambda)*conjugate(a_1) + s*a_2],\n",
       "[                                                                                               sqrt(lambda)*a_1 + s*conjugate(a_2)],\n",
       "[                                            -sqrt(gamma_1)*sqrt(gamma_f)*a_1 + sqrt(2)*sqrt(gamma_1)*ain_1 - gamma_1*a'_1 + s*a'_1],\n",
       "[-sqrt(gamma_1)*sqrt(gamma_f)*conjugate(a_1) + sqrt(2)*sqrt(gamma_1)*conjugate(ain_1) - gamma_1*conjugate(a'_1) + s*conjugate(a'_1)],\n",
       "[                                                                                                                            s*a'_2],\n",
       "[                                                                                                                 s*conjugate(a'_2)],\n",
       "[                                                                                      -sqrt(2)*sqrt(gamma_1)*a'_1 + ain_1 - aout_1],\n",
       "[                                                     -sqrt(2)*sqrt(gamma_1)*conjugate(a'_1) + conjugate(ain_1) - conjugate(aout_1)],\n",
       "[                                                                                                                    ain_2 - aout_2],\n",
       "[                                                                                              conjugate(ain_2) - conjugate(aout_2)],\n",
       "[                                                                                                                   -ain_2 + aout_1],\n",
       "[                                                                                             -conjugate(ain_2) + conjugate(aout_1)]])"
      ]
     },
     "execution_count": 17,
     "metadata": {},
     "output_type": "execute_result"
    }
   ],
   "source": [
    "eqns = split_network.frequency_domain_eqns\n",
    "eqns.eqns"
   ]
  },
  {
   "cell_type": "code",
   "execution_count": 18,
   "metadata": {},
   "outputs": [
    {
     "data": {
      "text/latex": [
       "$\\displaystyle \\frac{- \\gamma_{f} s + \\lambda - s^{2}}{- \\gamma_{f} s - \\lambda + s^{2}}$"
      ],
      "text/plain": [
       "(-gamma_f*s + lambda - s**2)/(-gamma_f*s - lambda + s**2)"
      ]
     },
     "execution_count": 18,
     "metadata": {},
     "output_type": "execute_result"
    }
   ],
   "source": [
    "# Calculating the input-output transfer function\n",
    "ain1, aout1 = eqns.get_symbols(['ain_1', 'aout_1'])\n",
    "aout1 = eqns.solve([ain1, conjugate(ain1)])[aout1]\n",
    "tf = (aout1 / ain1).simplify()\n",
    "gamma_1, _ = split_network.aux_coupling_constants\n",
    "adiabatically_eliminate(tf, gamma_1)"
   ]
  },
  {
   "cell_type": "code",
   "execution_count": 19,
   "metadata": {},
   "outputs": [
    {
     "data": {
      "text/latex": [
       "$\\displaystyle \\frac{\\gamma_{f} s - \\lambda + s^{2}}{- \\gamma_{f} s - \\lambda + s^{2}}$"
      ],
      "text/plain": [
       "(gamma_f*s - lambda + s**2)/(-gamma_f*s - lambda + s**2)"
      ]
     },
     "execution_count": 19,
     "metadata": {},
     "output_type": "execute_result"
    }
   ],
   "source": [
    "(s**2 + s * gamma_f - lmbda) / (s**2 - s * gamma_f - lmbda)"
   ]
  },
  {
   "cell_type": "markdown",
   "metadata": {},
   "source": [
    "Differs by phase shift of $\\pi$"
   ]
  },
  {
   "cell_type": "markdown",
   "metadata": {},
   "source": [
    "Now let's look at the transfer function from $a_1$ to $aout_1$, expect it to be frequency independent"
   ]
  },
  {
   "cell_type": "code",
   "execution_count": 20,
   "metadata": {
    "scrolled": true
   },
   "outputs": [
    {
     "data": {
      "text/latex": [
       "$\\displaystyle \\left[\\begin{array}{cccccccccccccccc}a_{1} & \\overline{a_{1}} & a_{2} & \\overline{a_{2}} & a'_{1} & \\overline{a'_{1}} & a'_{2} & \\overline{a'_{2}} & ain_{1} & \\overline{ain_{1}} & aout_{1} & \\overline{aout_{1}} & ain_{2} & \\overline{ain_{2}} & aout_{2} & \\overline{aout_{2}}\\end{array}\\right]$"
      ],
      "text/plain": [
       "Matrix([[a_1, conjugate(a_1), a_2, conjugate(a_2), a'_1, conjugate(a'_1), a'_2, conjugate(a'_2), ain_1, conjugate(ain_1), aout_1, conjugate(aout_1), ain_2, conjugate(ain_2), aout_2, conjugate(aout_2)]])"
      ]
     },
     "execution_count": 20,
     "metadata": {},
     "output_type": "execute_result"
    }
   ],
   "source": [
    "eqns.states.T"
   ]
  },
  {
   "cell_type": "code",
   "execution_count": 21,
   "metadata": {},
   "outputs": [
    {
     "data": {
      "text/latex": [
       "$\\displaystyle \\frac{\\sqrt{2} \\left(\\gamma_{1} \\gamma_{f} s - \\gamma_{1} \\lambda + \\gamma_{1} s^{2} - \\lambda s + s^{3}\\right)}{2 \\gamma_{1} \\sqrt{\\gamma_{f}} s}$"
      ],
      "text/plain": [
       "sqrt(2)*(gamma_1*gamma_f*s - gamma_1*lambda + gamma_1*s**2 - lambda*s + s**3)/(2*gamma_1*sqrt(gamma_f)*s)"
      ]
     },
     "execution_count": 21,
     "metadata": {},
     "output_type": "execute_result"
    }
   ],
   "source": [
    "a1, a1d, aout_1 = eqns.get_symbols(['a_1', 'conjugate(a_1)', 'aout_1'])\n",
    "aout1 = eqns.solve([a1, a1d])[aout_1]\n",
    "tf = (aout1 / a1).simplify()\n",
    "gamma_1, _ = split_network.aux_coupling_constants\n",
    "tf\n",
    "# tf = adiabatically_eliminate(tf, gamma_1)\n",
    "# tf"
   ]
  },
  {
   "cell_type": "code",
   "execution_count": 22,
   "metadata": {},
   "outputs": [
    {
     "data": {
      "text/latex": [
       "$\\displaystyle \\frac{\\sqrt{2} \\left(\\gamma_{f} + s\\right)}{2 \\sqrt{\\gamma_{f}}}$"
      ],
      "text/plain": [
       "sqrt(2)*(gamma_f + s)/(2*sqrt(gamma_f))"
      ]
     },
     "execution_count": 22,
     "metadata": {},
     "output_type": "execute_result"
    }
   ],
   "source": [
    "adiabatically_eliminate(tf.subs(lmbda, 0).simplify(), gamma_1).simplify()"
   ]
  },
  {
   "cell_type": "code",
   "execution_count": 23,
   "metadata": {},
   "outputs": [
    {
     "data": {
      "text/latex": [
       "$\\displaystyle \\frac{\\sqrt{2} \\sqrt{\\gamma_{f}} s}{\\gamma_{f} s + \\lambda - s^{2}}$"
      ],
      "text/plain": [
       "sqrt(2)*sqrt(gamma_f)*s/(gamma_f*s + lambda - s**2)"
      ]
     },
     "execution_count": 23,
     "metadata": {},
     "output_type": "execute_result"
    }
   ],
   "source": [
    "a1, a1d, ain_1 = eqns.get_symbols(['a_1', 'conjugate(a_1)', 'ain_1'])\n",
    "ain1 = eqns.solve([a1, a1d])[ain_1]\n",
    "tf = (a1 / ain1).simplify()\n",
    "gamma_1, _ = split_network.aux_coupling_constants\n",
    "tf = adiabatically_eliminate(tf, gamma_1)\n",
    "tf"
   ]
  },
  {
   "cell_type": "code",
   "execution_count": 24,
   "metadata": {},
   "outputs": [
    {
     "data": {
      "text/latex": [
       "$\\displaystyle \\frac{\\sqrt{2} \\left(\\gamma_{f} - s\\right)}{2 \\sqrt{\\gamma_{f}}}$"
      ],
      "text/plain": [
       "sqrt(2)*(gamma_f - s)/(2*sqrt(gamma_f))"
      ]
     },
     "execution_count": 24,
     "metadata": {},
     "output_type": "execute_result"
    }
   ],
   "source": [
    "1 / (tf.subs(lmbda, 0).simplify())"
   ]
  },
  {
   "cell_type": "code",
   "execution_count": 25,
   "metadata": {},
   "outputs": [
    {
     "data": {
      "text/latex": [
       "$\\displaystyle \\frac{- \\sqrt{2} \\gamma_{f} s + \\sqrt{2} \\lambda - \\sqrt{2} s^{2}}{2 \\sqrt{\\gamma_{f}} \\sqrt{\\lambda}}$"
      ],
      "text/plain": [
       "(-sqrt(2)*gamma_f*s + sqrt(2)*lambda - sqrt(2)*s**2)/(2*sqrt(gamma_f)*sqrt(lambda))"
      ]
     },
     "execution_count": 25,
     "metadata": {},
     "output_type": "execute_result"
    }
   ],
   "source": [
    "a2, a2d, aout_1 = eqns.get_symbols(['a_2', 'conjugate(a_2)', 'aout_1'])\n",
    "aout1 = eqns.solve([a2, a2d])[aout_1]\n",
    "tf = (aout1 / a2d).simplify()\n",
    "gamma_1, _ = split_network.aux_coupling_constants\n",
    "tf = adiabatically_eliminate(tf, gamma_1)\n",
    "tf"
   ]
  },
  {
   "cell_type": "code",
   "execution_count": 26,
   "metadata": {},
   "outputs": [
    {
     "data": {
      "image/png": "[encoded data removed]",
      "text/plain": [
       "<Figure size 432x288 with 1 Axes>"
      ]
     },
     "metadata": {
      "needs_background": "light"
     },
     "output_type": "display_data"
    }
   ],
   "source": [
    "from sympy import I, pi, lambdify\n",
    "params = {gamma_f: 1000, lmbda: 2000}\n",
    "f = symbols('f')\n",
    "replaced = tf.subs(params).subs(s, I*2*pi*f).simplify()\n",
    "fn = lambdify(f, replaced, 'numpy')\n",
    "\n",
    "import numpy as np\n",
    "import matplotlib.pyplot as plt\n",
    "\n",
    "fs = np.logspace(0, 3, num=1000)\n",
    "ys = fn(fs)\n",
    "\n",
    "fig, ax = plt.subplots()\n",
    "ax.loglog(fs, abs(ys))\n",
    "plt.show()\n",
    "\n",
    "# WHY does it look inverted? Response should decrease at higher frequencies"
   ]
  },
  {
   "cell_type": "code",
   "execution_count": null,
   "metadata": {},
   "outputs": [],
   "source": []
  }
 ],
 "metadata": {
  "kernelspec": {
   "display_name": "Python 3",
   "language": "python",
   "name": "python3"
  },
  "language_info": {
   "codemirror_mode": {
    "name": "ipython",
    "version": 3
   },
   "file_extension": ".py",
   "mimetype": "text/x-python",
   "name": "python",
   "nbconvert_exporter": "python",
   "pygments_lexer": "ipython3",
   "version": "3.7.6"
  }
 },
 "nbformat": 4,
 "nbformat_minor": 1
}
