{
 "cells": [
  {
   "cell_type": "code",
   "execution_count": 57,
   "metadata": {
    "pycharm": {
     "name": "#%%\n"
    }
   },
   "outputs": [
    {
     "name": "stdout",
     "output_type": "stream",
     "text": [
      "The autoreload extension is already loaded. To reload it, use:\n",
      "  %reload_ext autoreload\n"
     ]
    }
   ],
   "source": [
    "%load_ext autoreload\n",
    "%autoreload\n",
    "from simba import transfer_function_to_graph, tf2rss\n",
    "from sympy import symbols, simplify, Matrix, sqrt"
   ]
  },
  {
   "cell_type": "code",
   "execution_count": 58,
   "metadata": {
    "pycharm": {
     "name": "#%%\n"
    }
   },
   "outputs": [
    {
     "name": "stdout",
     "output_type": "stream",
     "text": [
      "wrote passive_coupled_cavity.png\n"
     ]
    }
   ],
   "source": [
    "# passive realisation (g = 0)\n",
    "s = symbols('s')\n",
    "gamma_f, omega_s = symbols('gamma_f omega_s', real=True, positive=True)\n",
    "tf = (s**2 + s * gamma_f + omega_s**2) / (s**2 - s * gamma_f + omega_s**2)\n",
    "\n",
    "transfer_function_to_graph(tf, 'passive_coupled_cavity.png', layout='dot')"
   ]
  },
  {
   "cell_type": "markdown",
   "metadata": {},
   "source": [
    "![](passive_coupled_cavity.png)"
   ]
  },
  {
   "cell_type": "code",
   "execution_count": 59,
   "metadata": {
    "pycharm": {
     "name": "#%%\n"
    },
    "scrolled": true
   },
   "outputs": [
    {
     "data": {
      "text/latex": [
       "$\\displaystyle i \\left(- \\sqrt{\\gamma_{1}} \\sqrt{\\gamma_{f}} a_{1} \\overline{a'_{1}} + \\sqrt{\\gamma_{1}} \\sqrt{\\gamma_{f}} \\overline{a_{1}} a'_{1} + \\omega_{s} a_{1} \\overline{a_{2}} - \\omega_{s} \\overline{a_{1}} a_{2}\\right)$"
      ],
      "text/plain": [
       "I*(-sqrt(gamma_1)*sqrt(gamma_f)*a_1*conjugate(a'_1) + sqrt(gamma_1)*sqrt(gamma_f)*conjugate(a_1)*a'_1 + omega_s*a_1*conjugate(a_2) - omega_s*conjugate(a_1)*a_2)"
      ]
     },
     "execution_count": 59,
     "metadata": {},
     "output_type": "execute_result"
    }
   ],
   "source": [
    "split_network = tf2rss(tf).to_slh().split()\n",
    "h_int = split_network.interaction_hamiltonian\n",
    "h_int.expr.simplify()"
   ]
  },
  {
   "cell_type": "code",
   "execution_count": 60,
   "metadata": {},
   "outputs": [
    {
     "data": {
      "text/latex": [
       "$\\displaystyle \\left[\\begin{matrix}0 & 0 & - i \\omega_{s} & 0 & i \\sqrt{\\gamma_{1}} \\sqrt{\\gamma_{f}} & 0 & 0 & 0\\\\0 & 0 & 0 & i \\omega_{s} & 0 & - i \\sqrt{\\gamma_{1}} \\sqrt{\\gamma_{f}} & 0 & 0\\\\0 & 0 & 0 & 0 & 0 & 0 & 0 & 0\\\\0 & 0 & 0 & 0 & 0 & 0 & 0 & 0\\\\0 & 0 & 0 & 0 & 0 & 0 & 0 & 0\\\\0 & 0 & 0 & 0 & 0 & 0 & 0 & 0\\\\0 & 0 & 0 & 0 & 0 & 0 & 0 & 0\\\\0 & 0 & 0 & 0 & 0 & 0 & 0 & 0\\end{matrix}\\right]$"
      ],
      "text/plain": [
       "Matrix([\n",
       "[0, 0, -I*omega_s,         0, I*sqrt(gamma_1)*sqrt(gamma_f),                              0, 0, 0],\n",
       "[0, 0,          0, I*omega_s,                             0, -I*sqrt(gamma_1)*sqrt(gamma_f), 0, 0],\n",
       "[0, 0,          0,         0,                             0,                              0, 0, 0],\n",
       "[0, 0,          0,         0,                             0,                              0, 0, 0],\n",
       "[0, 0,          0,         0,                             0,                              0, 0, 0],\n",
       "[0, 0,          0,         0,                             0,                              0, 0, 0],\n",
       "[0, 0,          0,         0,                             0,                              0, 0, 0],\n",
       "[0, 0,          0,         0,                             0,                              0, 0, 0]])"
      ]
     },
     "execution_count": 60,
     "metadata": {},
     "output_type": "execute_result"
    }
   ],
   "source": [
    "split_network.interaction_hamiltonian.h"
   ]
  },
  {
   "cell_type": "code",
   "execution_count": 61,
   "metadata": {},
   "outputs": [
    {
     "data": {
      "text/latex": [
       "$\\displaystyle \\left[\\begin{matrix}a_{1}\\\\\\overline{a_{1}}\\\\a_{2}\\\\\\overline{a_{2}}\\\\a'_{1}\\\\\\overline{a'_{1}}\\\\a'_{2}\\\\\\overline{a'_{2}}\\end{matrix}\\right]$"
      ],
      "text/plain": [
       "Matrix([\n",
       "[            a_1],\n",
       "[ conjugate(a_1)],\n",
       "[            a_2],\n",
       "[ conjugate(a_2)],\n",
       "[           a'_1],\n",
       "[conjugate(a'_1)],\n",
       "[           a'_2],\n",
       "[conjugate(a'_2)]])"
      ]
     },
     "execution_count": 61,
     "metadata": {},
     "output_type": "execute_result"
    }
   ],
   "source": [
    "h_int.states"
   ]
  },
  {
   "cell_type": "code",
   "execution_count": 62,
   "metadata": {},
   "outputs": [
    {
     "data": {
      "text/latex": [
       "$\\displaystyle \\left[\\begin{matrix}0 & 0 & - \\omega_{s} & 0 & \\sqrt{\\gamma_{1}} \\sqrt{\\gamma_{f}} & 0 & 0 & 0\\\\0 & 0 & 0 & - \\omega_{s} & 0 & \\sqrt{\\gamma_{1}} \\sqrt{\\gamma_{f}} & 0 & 0\\\\\\omega_{s} & 0 & 0 & 0 & 0 & 0 & 0 & 0\\\\0 & \\omega_{s} & 0 & 0 & 0 & 0 & 0 & 0\\\\- \\sqrt{\\gamma_{1}} \\sqrt{\\gamma_{f}} & 0 & 0 & 0 & 0 & 0 & 0 & 0\\\\0 & - \\sqrt{\\gamma_{1}} \\sqrt{\\gamma_{f}} & 0 & 0 & 0 & 0 & 0 & 0\\\\0 & 0 & 0 & 0 & 0 & 0 & 0 & 0\\\\0 & 0 & 0 & 0 & 0 & 0 & 0 & 0\\end{matrix}\\right]$"
      ],
      "text/plain": [
       "Matrix([\n",
       "[                           0,                            0, -omega_s,        0, sqrt(gamma_1)*sqrt(gamma_f),                           0, 0, 0],\n",
       "[                           0,                            0,        0, -omega_s,                           0, sqrt(gamma_1)*sqrt(gamma_f), 0, 0],\n",
       "[                     omega_s,                            0,        0,        0,                           0,                           0, 0, 0],\n",
       "[                           0,                      omega_s,        0,        0,                           0,                           0, 0, 0],\n",
       "[-sqrt(gamma_1)*sqrt(gamma_f),                            0,        0,        0,                           0,                           0, 0, 0],\n",
       "[                           0, -sqrt(gamma_1)*sqrt(gamma_f),        0,        0,                           0,                           0, 0, 0],\n",
       "[                           0,                            0,        0,        0,                           0,                           0, 0, 0],\n",
       "[                           0,                            0,        0,        0,                           0,                           0, 0, 0]])"
      ]
     },
     "execution_count": 62,
     "metadata": {},
     "output_type": "execute_result"
    }
   ],
   "source": [
    "simplify(h_int.dynamical_matrix)"
   ]
  },
  {
   "cell_type": "code",
   "execution_count": 63,
   "metadata": {},
   "outputs": [
    {
     "data": {
      "text/latex": [
       "$\\displaystyle \\left[\\begin{matrix}\\sqrt{\\gamma_{1}} \\sqrt{\\gamma_{f}} a'_{1} - \\omega_{s} a_{2} + s a_{1}\\\\\\sqrt{\\gamma_{1}} \\sqrt{\\gamma_{f}} \\overline{a'_{1}} - \\omega_{s} \\overline{a_{2}} + s \\overline{a_{1}}\\\\\\omega_{s} a_{1} + s a_{2}\\\\\\omega_{s} \\overline{a_{1}} + s \\overline{a_{2}}\\\\- \\sqrt{\\gamma_{1}} \\sqrt{\\gamma_{f}} a_{1} + \\sqrt{2} \\sqrt{\\gamma_{1}} ain_{1} - \\gamma_{1} a'_{1} + s a'_{1}\\\\- \\sqrt{\\gamma_{1}} \\sqrt{\\gamma_{f}} \\overline{a_{1}} + \\sqrt{2} \\sqrt{\\gamma_{1}} \\overline{ain_{1}} - \\gamma_{1} \\overline{a'_{1}} + s \\overline{a'_{1}}\\\\s a'_{2}\\\\s \\overline{a'_{2}}\\\\- \\sqrt{2} \\sqrt{\\gamma_{1}} a'_{1} + ain_{1} - aout_{1}\\\\- \\sqrt{2} \\sqrt{\\gamma_{1}} \\overline{a'_{1}} + \\overline{ain_{1}} - \\overline{aout_{1}}\\\\ain_{2} - aout_{2}\\\\\\overline{ain_{2}} - \\overline{aout_{2}}\\\\- ain_{2} + aout_{1}\\\\- \\overline{ain_{2}} + \\overline{aout_{1}}\\end{matrix}\\right]$"
      ],
      "text/plain": [
       "Matrix([\n",
       "[                                                                            sqrt(gamma_1)*sqrt(gamma_f)*a'_1 - omega_s*a_2 + s*a_1],\n",
       "[                                           sqrt(gamma_1)*sqrt(gamma_f)*conjugate(a'_1) - omega_s*conjugate(a_2) + s*conjugate(a_1)],\n",
       "[                                                                                                               omega_s*a_1 + s*a_2],\n",
       "[                                                                                         omega_s*conjugate(a_1) + s*conjugate(a_2)],\n",
       "[                                            -sqrt(gamma_1)*sqrt(gamma_f)*a_1 + sqrt(2)*sqrt(gamma_1)*ain_1 - gamma_1*a'_1 + s*a'_1],\n",
       "[-sqrt(gamma_1)*sqrt(gamma_f)*conjugate(a_1) + sqrt(2)*sqrt(gamma_1)*conjugate(ain_1) - gamma_1*conjugate(a'_1) + s*conjugate(a'_1)],\n",
       "[                                                                                                                            s*a'_2],\n",
       "[                                                                                                                 s*conjugate(a'_2)],\n",
       "[                                                                                      -sqrt(2)*sqrt(gamma_1)*a'_1 + ain_1 - aout_1],\n",
       "[                                                     -sqrt(2)*sqrt(gamma_1)*conjugate(a'_1) + conjugate(ain_1) - conjugate(aout_1)],\n",
       "[                                                                                                                    ain_2 - aout_2],\n",
       "[                                                                                              conjugate(ain_2) - conjugate(aout_2)],\n",
       "[                                                                                                                   -ain_2 + aout_1],\n",
       "[                                                                                             -conjugate(ain_2) + conjugate(aout_1)]])"
      ]
     },
     "execution_count": 63,
     "metadata": {},
     "output_type": "execute_result"
    }
   ],
   "source": [
    "eqns = split_network.frequency_domain_eqns\n",
    "eqns.eqns"
   ]
  },
  {
   "cell_type": "code",
   "execution_count": 64,
   "metadata": {},
   "outputs": [],
   "source": [
    "gamma_1, gamma_2 = split_network.aux_coupling_constants\n",
    "a1, a1d, a2, a2d, a1p, a1dp, a2p, a2dp = split_network.states\n",
    "ain_1, ain_1d, aout_1, aout_1d, ain_2, ain_2d, aout_2, aout_2d = split_network.input_output_symbols\n",
    "solns = eqns.solve([a1, a1d, a2, a2d, a1p, a1dp, a2p, a2dp, aout_1, aout_1d, ain_2, ain_2d, aout_2, aout_2d])\n",
    "tf = solns.args[0][-6] / ain_1"
   ]
  },
  {
   "cell_type": "code",
   "execution_count": 65,
   "metadata": {
    "scrolled": false
   },
   "outputs": [
    {
     "data": {
      "text/latex": [
       "$\\displaystyle \\frac{\\gamma_{1} \\gamma_{f} s + \\gamma_{1} \\omega_{s}^{2} + \\gamma_{1} s^{2} + \\omega_{s}^{2} s + s^{3}}{\\gamma_{1} \\gamma_{f} s - \\gamma_{1} \\omega_{s}^{2} - \\gamma_{1} s^{2} + \\omega_{s}^{2} s + s^{3}}$"
      ],
      "text/plain": [
       "(gamma_1*gamma_f*s + gamma_1*omega_s**2 + gamma_1*s**2 + omega_s**2*s + s**3)/(gamma_1*gamma_f*s - gamma_1*omega_s**2 - gamma_1*s**2 + omega_s**2*s + s**3)"
      ]
     },
     "execution_count": 65,
     "metadata": {},
     "output_type": "execute_result"
    }
   ],
   "source": [
    "tf.simplify()"
   ]
  },
  {
   "cell_type": "code",
   "execution_count": 66,
   "metadata": {},
   "outputs": [
    {
     "name": "stdout",
     "output_type": "stream",
     "text": [
      "(gamma_1*gamma_f*s + gamma_1*omega_s**2 + gamma_1*s**2 + omega_s**2*s + s**3)/(gamma_1*gamma_f*s - gamma_1*omega_s**2 - gamma_1*s**2 + omega_s**2*s + s**3)\n"
     ]
    }
   ],
   "source": [
    "print(tf.simplify())"
   ]
  },
  {
   "cell_type": "code",
   "execution_count": 69,
   "metadata": {},
   "outputs": [
    {
     "data": {
      "text/latex": [
       "$\\displaystyle \\frac{\\gamma_{f} s + \\omega_{s}^{2} + s^{2}}{- \\gamma_{f} s + \\omega_{s}^{2} + s^{2}}$"
      ],
      "text/plain": [
       "(gamma_f*s + omega_s**2 + s**2)/(-gamma_f*s + omega_s**2 + s**2)"
      ]
     },
     "execution_count": 69,
     "metadata": {},
     "output_type": "execute_result"
    }
   ],
   "source": [
    "tf = (gamma_1*gamma_f*s + gamma_1*omega_s**2 + gamma_1*s**2)/(gamma_1*gamma_f*s - gamma_1*omega_s**2 - gamma_1*s**2)\n",
    "-tf.simplify()"
   ]
  },
  {
   "cell_type": "code",
   "execution_count": 70,
   "metadata": {},
   "outputs": [
    {
     "data": {
      "text/latex": [
       "$\\displaystyle \\frac{\\gamma_{f} s + \\omega_{s}^{2} + s^{2}}{- \\gamma_{f} s + \\omega_{s}^{2} + s^{2}}$"
      ],
      "text/plain": [
       "(gamma_f*s + omega_s**2 + s**2)/(-gamma_f*s + omega_s**2 + s**2)"
      ]
     },
     "execution_count": 70,
     "metadata": {},
     "output_type": "execute_result"
    }
   ],
   "source": [
    "(s**2 + s * gamma_f + omega_s**2) / (s**2 - s * gamma_f + omega_s**2)"
   ]
  },
  {
   "cell_type": "markdown",
   "metadata": {},
   "source": [
    "Active ($g \\neq 0$)"
   ]
  },
  {
   "cell_type": "code",
   "execution_count": 71,
   "metadata": {
    "pycharm": {
     "name": "#%%\n"
    }
   },
   "outputs": [
    {
     "name": "stdout",
     "output_type": "stream",
     "text": [
      "wrote active_coupled_cavity.png\n"
     ]
    }
   ],
   "source": [
    "# parameterise with lambda = g**2 - omega_s**2 > 0\n",
    "lmbda = symbols('lambda', real=True, positive=True)\n",
    "tf = (s**2 + s * gamma_f - lmbda) / (s**2 - s * gamma_f - lmbda)\n",
    "\n",
    "transfer_function_to_graph(tf, 'active_coupled_cavity.png', layout='dot')"
   ]
  },
  {
   "cell_type": "markdown",
   "metadata": {},
   "source": [
    "![](active_coupled_cavity.png)"
   ]
  },
  {
   "cell_type": "code",
   "execution_count": 72,
   "metadata": {},
   "outputs": [
    {
     "data": {
      "text/latex": [
       "$\\displaystyle i \\left(- \\sqrt{\\gamma_{1}} \\sqrt{\\gamma_{f}} a_{1} \\overline{a'_{1}} + \\sqrt{\\gamma_{1}} \\sqrt{\\gamma_{f}} \\overline{a_{1}} a'_{1} - \\sqrt{\\lambda} a_{1} a_{2} + \\sqrt{\\lambda} \\overline{a_{1}} \\overline{a_{2}}\\right)$"
      ],
      "text/plain": [
       "I*(-sqrt(gamma_1)*sqrt(gamma_f)*a_1*conjugate(a'_1) + sqrt(gamma_1)*sqrt(gamma_f)*conjugate(a_1)*a'_1 - sqrt(lambda)*a_1*a_2 + sqrt(lambda)*conjugate(a_1)*conjugate(a_2))"
      ]
     },
     "execution_count": 72,
     "metadata": {},
     "output_type": "execute_result"
    }
   ],
   "source": [
    "split_network = tf2rss(tf).to_slh().split()\n",
    "h_int = split_network.interaction_hamiltonian\n",
    "h_int.expr.simplify()"
   ]
  },
  {
   "cell_type": "code",
   "execution_count": 73,
   "metadata": {},
   "outputs": [
    {
     "data": {
      "text/latex": [
       "$\\displaystyle \\left[\\begin{matrix}0 & 0 & 0 & \\sqrt{\\lambda} & \\sqrt{\\gamma_{1}} \\sqrt{\\gamma_{f}} & 0 & 0 & 0\\\\0 & 0 & \\sqrt{\\lambda} & 0 & 0 & \\sqrt{\\gamma_{1}} \\sqrt{\\gamma_{f}} & 0 & 0\\\\0 & \\sqrt{\\lambda} & 0 & 0 & 0 & 0 & 0 & 0\\\\\\sqrt{\\lambda} & 0 & 0 & 0 & 0 & 0 & 0 & 0\\\\- \\sqrt{\\gamma_{1}} \\sqrt{\\gamma_{f}} & 0 & 0 & 0 & 0 & 0 & 0 & 0\\\\0 & - \\sqrt{\\gamma_{1}} \\sqrt{\\gamma_{f}} & 0 & 0 & 0 & 0 & 0 & 0\\\\0 & 0 & 0 & 0 & 0 & 0 & 0 & 0\\\\0 & 0 & 0 & 0 & 0 & 0 & 0 & 0\\end{matrix}\\right]$"
      ],
      "text/plain": [
       "Matrix([\n",
       "[                           0,                            0,            0, sqrt(lambda), sqrt(gamma_1)*sqrt(gamma_f),                           0, 0, 0],\n",
       "[                           0,                            0, sqrt(lambda),            0,                           0, sqrt(gamma_1)*sqrt(gamma_f), 0, 0],\n",
       "[                           0,                 sqrt(lambda),            0,            0,                           0,                           0, 0, 0],\n",
       "[                sqrt(lambda),                            0,            0,            0,                           0,                           0, 0, 0],\n",
       "[-sqrt(gamma_1)*sqrt(gamma_f),                            0,            0,            0,                           0,                           0, 0, 0],\n",
       "[                           0, -sqrt(gamma_1)*sqrt(gamma_f),            0,            0,                           0,                           0, 0, 0],\n",
       "[                           0,                            0,            0,            0,                           0,                           0, 0, 0],\n",
       "[                           0,                            0,            0,            0,                           0,                           0, 0, 0]])"
      ]
     },
     "execution_count": 73,
     "metadata": {},
     "output_type": "execute_result"
    }
   ],
   "source": [
    "simplify(h_int.dynamical_matrix)"
   ]
  },
  {
   "cell_type": "code",
   "execution_count": 74,
   "metadata": {
    "scrolled": false
   },
   "outputs": [
    {
     "data": {
      "text/latex": [
       "$\\displaystyle \\left[\\begin{matrix}\\sqrt{\\gamma_{1}} \\sqrt{\\gamma_{f}} a'_{1} + \\sqrt{\\lambda} \\overline{a_{2}} + s a_{1}\\\\\\sqrt{\\gamma_{1}} \\sqrt{\\gamma_{f}} \\overline{a'_{1}} + \\sqrt{\\lambda} a_{2} + s \\overline{a_{1}}\\\\\\sqrt{\\lambda} \\overline{a_{1}} + s a_{2}\\\\\\sqrt{\\lambda} a_{1} + s \\overline{a_{2}}\\\\- \\sqrt{\\gamma_{1}} \\sqrt{\\gamma_{f}} a_{1} + \\sqrt{2} \\sqrt{\\gamma_{1}} ain_{1} - \\gamma_{1} a'_{1} + s a'_{1}\\\\- \\sqrt{\\gamma_{1}} \\sqrt{\\gamma_{f}} \\overline{a_{1}} + \\sqrt{2} \\sqrt{\\gamma_{1}} \\overline{ain_{1}} - \\gamma_{1} \\overline{a'_{1}} + s \\overline{a'_{1}}\\\\s a'_{2}\\\\s \\overline{a'_{2}}\\\\- \\sqrt{2} \\sqrt{\\gamma_{1}} a'_{1} + ain_{1} - aout_{1}\\\\- \\sqrt{2} \\sqrt{\\gamma_{1}} \\overline{a'_{1}} + \\overline{ain_{1}} - \\overline{aout_{1}}\\\\ain_{2} - aout_{2}\\\\\\overline{ain_{2}} - \\overline{aout_{2}}\\\\- ain_{2} + aout_{1}\\\\- \\overline{ain_{2}} + \\overline{aout_{1}}\\end{matrix}\\right]$"
      ],
      "text/plain": [
       "Matrix([\n",
       "[                                                            sqrt(gamma_1)*sqrt(gamma_f)*a'_1 + sqrt(lambda)*conjugate(a_2) + s*a_1],\n",
       "[                                                 sqrt(gamma_1)*sqrt(gamma_f)*conjugate(a'_1) + sqrt(lambda)*a_2 + s*conjugate(a_1)],\n",
       "[                                                                                               sqrt(lambda)*conjugate(a_1) + s*a_2],\n",
       "[                                                                                               sqrt(lambda)*a_1 + s*conjugate(a_2)],\n",
       "[                                            -sqrt(gamma_1)*sqrt(gamma_f)*a_1 + sqrt(2)*sqrt(gamma_1)*ain_1 - gamma_1*a'_1 + s*a'_1],\n",
       "[-sqrt(gamma_1)*sqrt(gamma_f)*conjugate(a_1) + sqrt(2)*sqrt(gamma_1)*conjugate(ain_1) - gamma_1*conjugate(a'_1) + s*conjugate(a'_1)],\n",
       "[                                                                                                                            s*a'_2],\n",
       "[                                                                                                                 s*conjugate(a'_2)],\n",
       "[                                                                                      -sqrt(2)*sqrt(gamma_1)*a'_1 + ain_1 - aout_1],\n",
       "[                                                     -sqrt(2)*sqrt(gamma_1)*conjugate(a'_1) + conjugate(ain_1) - conjugate(aout_1)],\n",
       "[                                                                                                                    ain_2 - aout_2],\n",
       "[                                                                                              conjugate(ain_2) - conjugate(aout_2)],\n",
       "[                                                                                                                   -ain_2 + aout_1],\n",
       "[                                                                                             -conjugate(ain_2) + conjugate(aout_1)]])"
      ]
     },
     "execution_count": 74,
     "metadata": {},
     "output_type": "execute_result"
    }
   ],
   "source": [
    "eqns = split_network.frequency_domain_eqns\n",
    "eqns.eqns"
   ]
  },
  {
   "cell_type": "code",
   "execution_count": 75,
   "metadata": {},
   "outputs": [],
   "source": [
    "gamma_1, gamma_2 = split_network.aux_coupling_constants\n",
    "a1, a1d, a2, a2d, a1p, a1dp, a2p, a2dp = split_network.states\n",
    "ain_1, ain_1d, aout_1, aout_1d, ain_2, ain_2d, aout_2, aout_2d = split_network.input_output_symbols\n",
    "solns = eqns.solve([a1, a1d, a2, a2d, a1p, a1dp, a2p, a2dp, aout_1, aout_1d, ain_2, ain_2d, aout_2, aout_2d])\n",
    "tf = solns.args[0][-2] / ain_1"
   ]
  },
  {
   "cell_type": "code",
   "execution_count": 76,
   "metadata": {},
   "outputs": [
    {
     "name": "stdout",
     "output_type": "stream",
     "text": [
      "(gamma_1*gamma_f*s - gamma_1*lambda + gamma_1*s**2 - lambda*s + s**3)/(gamma_1*gamma_f*s + gamma_1*lambda - gamma_1*s**2 - lambda*s + s**3)\n"
     ]
    },
    {
     "data": {
      "text/latex": [
       "$\\displaystyle \\frac{\\gamma_{1} \\gamma_{f} s - \\gamma_{1} \\lambda + \\gamma_{1} s^{2} - \\lambda s + s^{3}}{\\gamma_{1} \\gamma_{f} s + \\gamma_{1} \\lambda - \\gamma_{1} s^{2} - \\lambda s + s^{3}}$"
      ],
      "text/plain": [
       "(gamma_1*gamma_f*s - gamma_1*lambda + gamma_1*s**2 - lambda*s + s**3)/(gamma_1*gamma_f*s + gamma_1*lambda - gamma_1*s**2 - lambda*s + s**3)"
      ]
     },
     "execution_count": 76,
     "metadata": {},
     "output_type": "execute_result"
    }
   ],
   "source": [
    "print(tf.simplify())\n",
    "tf.simplify()"
   ]
  },
  {
   "cell_type": "code",
   "execution_count": 81,
   "metadata": {},
   "outputs": [
    {
     "data": {
      "text/latex": [
       "$\\displaystyle \\frac{\\gamma_{f} s - \\lambda + s^{2}}{\\gamma_{f} s + \\lambda - s^{2}}$"
      ],
      "text/plain": [
       "(gamma_f*s - lambda + s**2)/(gamma_f*s + lambda - s**2)"
      ]
     },
     "execution_count": 81,
     "metadata": {},
     "output_type": "execute_result"
    }
   ],
   "source": [
    "tf = (gamma_1*gamma_f*s - gamma_1*lmbda + gamma_1*s**2)/(gamma_1*gamma_f*s + gamma_1*lmbda - gamma_1*s**2)\n",
    "tf.simplify()"
   ]
  },
  {
   "cell_type": "code",
   "execution_count": 85,
   "metadata": {},
   "outputs": [
    {
     "data": {
      "text/latex": [
       "$\\displaystyle \\frac{\\gamma_{f} s - \\lambda + s^{2}}{- \\gamma_{f} s - \\lambda + s^{2}}$"
      ],
      "text/plain": [
       "(gamma_f*s - lambda + s**2)/(-gamma_f*s - lambda + s**2)"
      ]
     },
     "execution_count": 85,
     "metadata": {},
     "output_type": "execute_result"
    }
   ],
   "source": [
    "(s**2 + s * gamma_f - lmbda) / (s**2 - s * gamma_f - lmbda)"
   ]
  },
  {
   "cell_type": "markdown",
   "metadata": {},
   "source": [
    "Differs by phase shift of $\\pi$ at output"
   ]
  },
  {
   "cell_type": "code",
   "execution_count": null,
   "metadata": {},
   "outputs": [],
   "source": []
  }
 ],
 "metadata": {
  "kernelspec": {
   "display_name": "Python 3",
   "language": "python",
   "name": "python3"
  },
  "language_info": {
   "codemirror_mode": {
    "name": "ipython",
    "version": 3
   },
   "file_extension": ".py",
   "mimetype": "text/x-python",
   "name": "python",
   "nbconvert_exporter": "python",
   "pygments_lexer": "ipython3",
   "version": "3.7.6"
  }
 },
 "nbformat": 4,
 "nbformat_minor": 1
}
