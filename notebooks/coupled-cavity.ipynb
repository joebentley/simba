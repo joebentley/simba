{
 "cells": [
  {
   "cell_type": "code",
   "execution_count": 1,
   "metadata": {
    "pycharm": {
     "name": "#%%\n"
    }
   },
   "outputs": [],
   "source": [
    "%load_ext autoreload\n",
    "%autoreload\n",
    "from simba import transfer_function_to_graph, tf2rss, adiabatically_eliminate\n",
    "from sympy import symbols, simplify, Matrix, sqrt, conjugate"
   ]
  },
  {
   "cell_type": "markdown",
   "metadata": {},
   "source": [
    "First looking at passive realisation of coupled cavity setup with coupling constant $g = 0$"
   ]
  },
  {
   "cell_type": "code",
   "execution_count": 2,
   "metadata": {
    "pycharm": {
     "name": "#%%\n"
    }
   },
   "outputs": [
    {
     "name": "stdout",
     "output_type": "stream",
     "text": [
      "wrote passive_coupled_cavity.png\n"
     ]
    }
   ],
   "source": [
    "s = symbols('s')\n",
    "gamma_f, omega_s = symbols('gamma_f omega_s', real=True, positive=True)\n",
    "tf = (s**2 + s * gamma_f + omega_s**2) / (s**2 - s * gamma_f + omega_s**2)\n",
    "\n",
    "transfer_function_to_graph(tf, 'passive_coupled_cavity.png', layout='dot')"
   ]
  },
  {
   "cell_type": "markdown",
   "metadata": {},
   "source": [
    "\n",
    "![](passive_coupled_cavity.png)"
   ]
  },
  {
   "cell_type": "code",
   "execution_count": 3,
   "metadata": {},
   "outputs": [],
   "source": [
    "split_network = tf2rss(tf).to_slh().split()"
   ]
  },
  {
   "cell_type": "code",
   "execution_count": 4,
   "metadata": {
    "pycharm": {
     "name": "#%%\n"
    },
    "scrolled": true
   },
   "outputs": [
    {
     "data": {
      "text/latex": [
       "$\\displaystyle i \\left(- \\sqrt{\\gamma_{1}} \\sqrt{\\gamma_{f}} a_{1} \\overline{a'_{1}} + \\sqrt{\\gamma_{1}} \\sqrt{\\gamma_{f}} \\overline{a_{1}} a'_{1} + \\omega_{s} a_{1} \\overline{a_{2}} - \\omega_{s} \\overline{a_{1}} a_{2}\\right)$"
      ],
      "text/plain": [
       "I*(-sqrt(gamma_1)*sqrt(gamma_f)*a_1*conjugate(a'_1) + sqrt(gamma_1)*sqrt(gamma_f)*conjugate(a_1)*a'_1 + omega_s*a_1*conjugate(a_2) - omega_s*conjugate(a_1)*a_2)"
      ]
     },
     "execution_count": 4,
     "metadata": {},
     "output_type": "execute_result"
    }
   ],
   "source": [
    "h_int = split_network.interaction_hamiltonian\n",
    "h_int.expr.simplify()"
   ]
  },
  {
   "cell_type": "code",
   "execution_count": 5,
   "metadata": {},
   "outputs": [
    {
     "data": {
      "text/latex": [
       "$\\displaystyle \\left[\\begin{matrix}0 & 0 & - i \\omega_{s} & 0 & i \\sqrt{\\gamma_{1}} \\sqrt{\\gamma_{f}} & 0 & 0 & 0\\\\0 & 0 & 0 & i \\omega_{s} & 0 & - i \\sqrt{\\gamma_{1}} \\sqrt{\\gamma_{f}} & 0 & 0\\\\0 & 0 & 0 & 0 & 0 & 0 & 0 & 0\\\\0 & 0 & 0 & 0 & 0 & 0 & 0 & 0\\\\0 & 0 & 0 & 0 & 0 & 0 & 0 & 0\\\\0 & 0 & 0 & 0 & 0 & 0 & 0 & 0\\\\0 & 0 & 0 & 0 & 0 & 0 & 0 & 0\\\\0 & 0 & 0 & 0 & 0 & 0 & 0 & 0\\end{matrix}\\right]$"
      ],
      "text/plain": [
       "Matrix([\n",
       "[0, 0, -I*omega_s,         0, I*sqrt(gamma_1)*sqrt(gamma_f),                              0, 0, 0],\n",
       "[0, 0,          0, I*omega_s,                             0, -I*sqrt(gamma_1)*sqrt(gamma_f), 0, 0],\n",
       "[0, 0,          0,         0,                             0,                              0, 0, 0],\n",
       "[0, 0,          0,         0,                             0,                              0, 0, 0],\n",
       "[0, 0,          0,         0,                             0,                              0, 0, 0],\n",
       "[0, 0,          0,         0,                             0,                              0, 0, 0],\n",
       "[0, 0,          0,         0,                             0,                              0, 0, 0],\n",
       "[0, 0,          0,         0,                             0,                              0, 0, 0]])"
      ]
     },
     "execution_count": 5,
     "metadata": {},
     "output_type": "execute_result"
    }
   ],
   "source": [
    "split_network.interaction_hamiltonian.h"
   ]
  },
  {
   "cell_type": "code",
   "execution_count": 6,
   "metadata": {},
   "outputs": [
    {
     "data": {
      "text/latex": [
       "$\\displaystyle \\left[\\begin{matrix}a_{1}\\\\\\overline{a_{1}}\\\\a_{2}\\\\\\overline{a_{2}}\\\\a'_{1}\\\\\\overline{a'_{1}}\\\\a'_{2}\\\\\\overline{a'_{2}}\\end{matrix}\\right]$"
      ],
      "text/plain": [
       "Matrix([\n",
       "[            a_1],\n",
       "[ conjugate(a_1)],\n",
       "[            a_2],\n",
       "[ conjugate(a_2)],\n",
       "[           a'_1],\n",
       "[conjugate(a'_1)],\n",
       "[           a'_2],\n",
       "[conjugate(a'_2)]])"
      ]
     },
     "execution_count": 6,
     "metadata": {},
     "output_type": "execute_result"
    }
   ],
   "source": [
    "h_int.states"
   ]
  },
  {
   "cell_type": "code",
   "execution_count": 7,
   "metadata": {},
   "outputs": [
    {
     "data": {
      "text/latex": [
       "$\\displaystyle \\left[\\begin{matrix}0 & 0 & - \\omega_{s} & 0 & \\sqrt{\\gamma_{1}} \\sqrt{\\gamma_{f}} & 0 & 0 & 0\\\\0 & 0 & 0 & - \\omega_{s} & 0 & \\sqrt{\\gamma_{1}} \\sqrt{\\gamma_{f}} & 0 & 0\\\\\\omega_{s} & 0 & 0 & 0 & 0 & 0 & 0 & 0\\\\0 & \\omega_{s} & 0 & 0 & 0 & 0 & 0 & 0\\\\- \\sqrt{\\gamma_{1}} \\sqrt{\\gamma_{f}} & 0 & 0 & 0 & 0 & 0 & 0 & 0\\\\0 & - \\sqrt{\\gamma_{1}} \\sqrt{\\gamma_{f}} & 0 & 0 & 0 & 0 & 0 & 0\\\\0 & 0 & 0 & 0 & 0 & 0 & 0 & 0\\\\0 & 0 & 0 & 0 & 0 & 0 & 0 & 0\\end{matrix}\\right]$"
      ],
      "text/plain": [
       "Matrix([\n",
       "[                           0,                            0, -omega_s,        0, sqrt(gamma_1)*sqrt(gamma_f),                           0, 0, 0],\n",
       "[                           0,                            0,        0, -omega_s,                           0, sqrt(gamma_1)*sqrt(gamma_f), 0, 0],\n",
       "[                     omega_s,                            0,        0,        0,                           0,                           0, 0, 0],\n",
       "[                           0,                      omega_s,        0,        0,                           0,                           0, 0, 0],\n",
       "[-sqrt(gamma_1)*sqrt(gamma_f),                            0,        0,        0,                           0,                           0, 0, 0],\n",
       "[                           0, -sqrt(gamma_1)*sqrt(gamma_f),        0,        0,                           0,                           0, 0, 0],\n",
       "[                           0,                            0,        0,        0,                           0,                           0, 0, 0],\n",
       "[                           0,                            0,        0,        0,                           0,                           0, 0, 0]])"
      ]
     },
     "execution_count": 7,
     "metadata": {},
     "output_type": "execute_result"
    }
   ],
   "source": [
    "simplify(h_int.dynamical_matrix)"
   ]
  },
  {
   "cell_type": "code",
   "execution_count": 8,
   "metadata": {
    "scrolled": false
   },
   "outputs": [
    {
     "data": {
      "text/latex": [
       "$\\displaystyle \\left[\\begin{matrix}\\sqrt{\\gamma_{1}} \\sqrt{\\gamma_{f}} a'_{1} - \\omega_{s} a_{2} + s a_{1}\\\\\\sqrt{\\gamma_{1}} \\sqrt{\\gamma_{f}} \\overline{a'_{1}} - \\omega_{s} \\overline{a_{2}} + s \\overline{a_{1}}\\\\\\omega_{s} a_{1} + s a_{2}\\\\\\omega_{s} \\overline{a_{1}} + s \\overline{a_{2}}\\\\- \\sqrt{\\gamma_{1}} \\sqrt{\\gamma_{f}} a_{1} + \\sqrt{2} \\sqrt{\\gamma_{1}} ain_{1} - \\gamma_{1} a'_{1} + s a'_{1}\\\\- \\sqrt{\\gamma_{1}} \\sqrt{\\gamma_{f}} \\overline{a_{1}} + \\sqrt{2} \\sqrt{\\gamma_{1}} \\overline{ain_{1}} - \\gamma_{1} \\overline{a'_{1}} + s \\overline{a'_{1}}\\\\s a'_{2}\\\\s \\overline{a'_{2}}\\\\- \\sqrt{2} \\sqrt{\\gamma_{1}} a'_{1} + ain_{1} - aout_{1}\\\\- \\sqrt{2} \\sqrt{\\gamma_{1}} \\overline{a'_{1}} + \\overline{ain_{1}} - \\overline{aout_{1}}\\\\ain_{2} - aout_{2}\\\\\\overline{ain_{2}} - \\overline{aout_{2}}\\\\- ain_{2} + aout_{1}\\\\- \\overline{ain_{2}} + \\overline{aout_{1}}\\end{matrix}\\right]$"
      ],
      "text/plain": [
       "Matrix([\n",
       "[                                                                            sqrt(gamma_1)*sqrt(gamma_f)*a'_1 - omega_s*a_2 + s*a_1],\n",
       "[                                           sqrt(gamma_1)*sqrt(gamma_f)*conjugate(a'_1) - omega_s*conjugate(a_2) + s*conjugate(a_1)],\n",
       "[                                                                                                               omega_s*a_1 + s*a_2],\n",
       "[                                                                                         omega_s*conjugate(a_1) + s*conjugate(a_2)],\n",
       "[                                            -sqrt(gamma_1)*sqrt(gamma_f)*a_1 + sqrt(2)*sqrt(gamma_1)*ain_1 - gamma_1*a'_1 + s*a'_1],\n",
       "[-sqrt(gamma_1)*sqrt(gamma_f)*conjugate(a_1) + sqrt(2)*sqrt(gamma_1)*conjugate(ain_1) - gamma_1*conjugate(a'_1) + s*conjugate(a'_1)],\n",
       "[                                                                                                                            s*a'_2],\n",
       "[                                                                                                                 s*conjugate(a'_2)],\n",
       "[                                                                                      -sqrt(2)*sqrt(gamma_1)*a'_1 + ain_1 - aout_1],\n",
       "[                                                     -sqrt(2)*sqrt(gamma_1)*conjugate(a'_1) + conjugate(ain_1) - conjugate(aout_1)],\n",
       "[                                                                                                                    ain_2 - aout_2],\n",
       "[                                                                                              conjugate(ain_2) - conjugate(aout_2)],\n",
       "[                                                                                                                   -ain_2 + aout_1],\n",
       "[                                                                                             -conjugate(ain_2) + conjugate(aout_1)]])"
      ]
     },
     "execution_count": 8,
     "metadata": {},
     "output_type": "execute_result"
    }
   ],
   "source": [
    "eqns = split_network.frequency_domain_eqns\n",
    "eqns.eqns"
   ]
  },
  {
   "cell_type": "code",
   "execution_count": 9,
   "metadata": {
    "scrolled": true
   },
   "outputs": [
    {
     "data": {
      "text/latex": [
       "$\\displaystyle \\left[\\begin{array}{cccccccccccccccc}a_{1} & \\overline{a_{1}} & a_{2} & \\overline{a_{2}} & a'_{1} & \\overline{a'_{1}} & a'_{2} & \\overline{a'_{2}} & ain_{1} & \\overline{ain_{1}} & aout_{1} & \\overline{aout_{1}} & ain_{2} & \\overline{ain_{2}} & aout_{2} & \\overline{aout_{2}}\\end{array}\\right]$"
      ],
      "text/plain": [
       "Matrix([[a_1, conjugate(a_1), a_2, conjugate(a_2), a'_1, conjugate(a'_1), a'_2, conjugate(a'_2), ain_1, conjugate(ain_1), aout_1, conjugate(aout_1), ain_2, conjugate(ain_2), aout_2, conjugate(aout_2)]])"
      ]
     },
     "execution_count": 9,
     "metadata": {},
     "output_type": "execute_result"
    }
   ],
   "source": [
    "eqns.states.T"
   ]
  },
  {
   "cell_type": "code",
   "execution_count": 10,
   "metadata": {
    "scrolled": false
   },
   "outputs": [
    {
     "data": {
      "text/latex": [
       "$\\displaystyle \\frac{\\gamma_{f} s + \\omega_{s}^{2} + s^{2}}{\\gamma_{f} s - \\omega_{s}^{2} - s^{2}}$"
      ],
      "text/plain": [
       "(gamma_f*s + omega_s**2 + s**2)/(gamma_f*s - omega_s**2 - s**2)"
      ]
     },
     "execution_count": 10,
     "metadata": {},
     "output_type": "execute_result"
    }
   ],
   "source": [
    "# Calculating the input-output transfer function\n",
    "ain1, aout1 = eqns.get_symbols(['ain_1', 'aout_1'])\n",
    "aout1 = eqns.solve([ain1, conjugate(ain1)])[aout1]\n",
    "tf = (aout1 / ain1).simplify()\n",
    "gamma_1, _ = split_network.aux_coupling_constants\n",
    "adiabatically_eliminate(tf, gamma_1)"
   ]
  },
  {
   "cell_type": "code",
   "execution_count": 11,
   "metadata": {},
   "outputs": [
    {
     "data": {
      "text/latex": [
       "$\\displaystyle \\frac{\\gamma_{f} s + \\omega_{s}^{2} + s^{2}}{- \\gamma_{f} s + \\omega_{s}^{2} + s^{2}}$"
      ],
      "text/plain": [
       "(gamma_f*s + omega_s**2 + s**2)/(-gamma_f*s + omega_s**2 + s**2)"
      ]
     },
     "execution_count": 11,
     "metadata": {},
     "output_type": "execute_result"
    }
   ],
   "source": [
    "(s**2 + s * gamma_f + omega_s**2) / (s**2 - s * gamma_f + omega_s**2)"
   ]
  },
  {
   "cell_type": "markdown",
   "metadata": {},
   "source": [
    "Now looking at the active realisation ($g \\neq 0$)"
   ]
  },
  {
   "cell_type": "code",
   "execution_count": 12,
   "metadata": {
    "pycharm": {
     "name": "#%%\n"
    }
   },
   "outputs": [
    {
     "name": "stdout",
     "output_type": "stream",
     "text": [
      "wrote active_coupled_cavity.png\n"
     ]
    }
   ],
   "source": [
    "# parameterise with lambda = g**2 - omega_s**2 > 0\n",
    "lmbda = symbols('lambda', real=True, positive=True)\n",
    "tf = (s**2 + s * gamma_f - lmbda) / (s**2 - s * gamma_f - lmbda)\n",
    "\n",
    "transfer_function_to_graph(tf, 'active_coupled_cavity.png', layout='dot')"
   ]
  },
  {
   "cell_type": "markdown",
   "metadata": {},
   "source": [
    "![](active_coupled_cavity.png)"
   ]
  },
  {
   "cell_type": "code",
   "execution_count": 13,
   "metadata": {},
   "outputs": [
    {
     "data": {
      "text/latex": [
       "$\\displaystyle i \\left(- \\sqrt{\\gamma_{1}} \\sqrt{\\gamma_{f}} a_{1} \\overline{a'_{1}} + \\sqrt{\\gamma_{1}} \\sqrt{\\gamma_{f}} \\overline{a_{1}} a'_{1} - \\sqrt{\\lambda} a_{1} a_{2} + \\sqrt{\\lambda} \\overline{a_{1}} \\overline{a_{2}}\\right)$"
      ],
      "text/plain": [
       "I*(-sqrt(gamma_1)*sqrt(gamma_f)*a_1*conjugate(a'_1) + sqrt(gamma_1)*sqrt(gamma_f)*conjugate(a_1)*a'_1 - sqrt(lambda)*a_1*a_2 + sqrt(lambda)*conjugate(a_1)*conjugate(a_2))"
      ]
     },
     "execution_count": 13,
     "metadata": {},
     "output_type": "execute_result"
    }
   ],
   "source": [
    "split_network = tf2rss(tf).to_slh().split()\n",
    "h_int = split_network.interaction_hamiltonian\n",
    "h_int.expr.simplify()"
   ]
  },
  {
   "cell_type": "code",
   "execution_count": 14,
   "metadata": {},
   "outputs": [
    {
     "data": {
      "text/latex": [
       "$\\displaystyle \\left[\\begin{matrix}0 & 0 & 0 & \\sqrt{\\lambda} & \\sqrt{\\gamma_{1}} \\sqrt{\\gamma_{f}} & 0 & 0 & 0\\\\0 & 0 & \\sqrt{\\lambda} & 0 & 0 & \\sqrt{\\gamma_{1}} \\sqrt{\\gamma_{f}} & 0 & 0\\\\0 & \\sqrt{\\lambda} & 0 & 0 & 0 & 0 & 0 & 0\\\\\\sqrt{\\lambda} & 0 & 0 & 0 & 0 & 0 & 0 & 0\\\\- \\sqrt{\\gamma_{1}} \\sqrt{\\gamma_{f}} & 0 & 0 & 0 & 0 & 0 & 0 & 0\\\\0 & - \\sqrt{\\gamma_{1}} \\sqrt{\\gamma_{f}} & 0 & 0 & 0 & 0 & 0 & 0\\\\0 & 0 & 0 & 0 & 0 & 0 & 0 & 0\\\\0 & 0 & 0 & 0 & 0 & 0 & 0 & 0\\end{matrix}\\right]$"
      ],
      "text/plain": [
       "Matrix([\n",
       "[                           0,                            0,            0, sqrt(lambda), sqrt(gamma_1)*sqrt(gamma_f),                           0, 0, 0],\n",
       "[                           0,                            0, sqrt(lambda),            0,                           0, sqrt(gamma_1)*sqrt(gamma_f), 0, 0],\n",
       "[                           0,                 sqrt(lambda),            0,            0,                           0,                           0, 0, 0],\n",
       "[                sqrt(lambda),                            0,            0,            0,                           0,                           0, 0, 0],\n",
       "[-sqrt(gamma_1)*sqrt(gamma_f),                            0,            0,            0,                           0,                           0, 0, 0],\n",
       "[                           0, -sqrt(gamma_1)*sqrt(gamma_f),            0,            0,                           0,                           0, 0, 0],\n",
       "[                           0,                            0,            0,            0,                           0,                           0, 0, 0],\n",
       "[                           0,                            0,            0,            0,                           0,                           0, 0, 0]])"
      ]
     },
     "execution_count": 14,
     "metadata": {},
     "output_type": "execute_result"
    }
   ],
   "source": [
    "simplify(h_int.dynamical_matrix)"
   ]
  },
  {
   "cell_type": "code",
   "execution_count": 15,
   "metadata": {
    "scrolled": false
   },
   "outputs": [
    {
     "data": {
      "text/latex": [
       "$\\displaystyle \\left[\\begin{matrix}\\sqrt{\\gamma_{1}} \\sqrt{\\gamma_{f}} a'_{1} + \\sqrt{\\lambda} \\overline{a_{2}} + s a_{1}\\\\\\sqrt{\\gamma_{1}} \\sqrt{\\gamma_{f}} \\overline{a'_{1}} + \\sqrt{\\lambda} a_{2} + s \\overline{a_{1}}\\\\\\sqrt{\\lambda} \\overline{a_{1}} + s a_{2}\\\\\\sqrt{\\lambda} a_{1} + s \\overline{a_{2}}\\\\- \\sqrt{\\gamma_{1}} \\sqrt{\\gamma_{f}} a_{1} + \\sqrt{2} \\sqrt{\\gamma_{1}} ain_{1} - \\gamma_{1} a'_{1} + s a'_{1}\\\\- \\sqrt{\\gamma_{1}} \\sqrt{\\gamma_{f}} \\overline{a_{1}} + \\sqrt{2} \\sqrt{\\gamma_{1}} \\overline{ain_{1}} - \\gamma_{1} \\overline{a'_{1}} + s \\overline{a'_{1}}\\\\s a'_{2}\\\\s \\overline{a'_{2}}\\\\- \\sqrt{2} \\sqrt{\\gamma_{1}} a'_{1} + ain_{1} - aout_{1}\\\\- \\sqrt{2} \\sqrt{\\gamma_{1}} \\overline{a'_{1}} + \\overline{ain_{1}} - \\overline{aout_{1}}\\\\ain_{2} - aout_{2}\\\\\\overline{ain_{2}} - \\overline{aout_{2}}\\\\- ain_{2} + aout_{1}\\\\- \\overline{ain_{2}} + \\overline{aout_{1}}\\end{matrix}\\right]$"
      ],
      "text/plain": [
       "Matrix([\n",
       "[                                                            sqrt(gamma_1)*sqrt(gamma_f)*a'_1 + sqrt(lambda)*conjugate(a_2) + s*a_1],\n",
       "[                                                 sqrt(gamma_1)*sqrt(gamma_f)*conjugate(a'_1) + sqrt(lambda)*a_2 + s*conjugate(a_1)],\n",
       "[                                                                                               sqrt(lambda)*conjugate(a_1) + s*a_2],\n",
       "[                                                                                               sqrt(lambda)*a_1 + s*conjugate(a_2)],\n",
       "[                                            -sqrt(gamma_1)*sqrt(gamma_f)*a_1 + sqrt(2)*sqrt(gamma_1)*ain_1 - gamma_1*a'_1 + s*a'_1],\n",
       "[-sqrt(gamma_1)*sqrt(gamma_f)*conjugate(a_1) + sqrt(2)*sqrt(gamma_1)*conjugate(ain_1) - gamma_1*conjugate(a'_1) + s*conjugate(a'_1)],\n",
       "[                                                                                                                            s*a'_2],\n",
       "[                                                                                                                 s*conjugate(a'_2)],\n",
       "[                                                                                      -sqrt(2)*sqrt(gamma_1)*a'_1 + ain_1 - aout_1],\n",
       "[                                                     -sqrt(2)*sqrt(gamma_1)*conjugate(a'_1) + conjugate(ain_1) - conjugate(aout_1)],\n",
       "[                                                                                                                    ain_2 - aout_2],\n",
       "[                                                                                              conjugate(ain_2) - conjugate(aout_2)],\n",
       "[                                                                                                                   -ain_2 + aout_1],\n",
       "[                                                                                             -conjugate(ain_2) + conjugate(aout_1)]])"
      ]
     },
     "execution_count": 15,
     "metadata": {},
     "output_type": "execute_result"
    }
   ],
   "source": [
    "eqns = split_network.frequency_domain_eqns\n",
    "eqns.eqns"
   ]
  },
  {
   "cell_type": "code",
   "execution_count": 17,
   "metadata": {},
   "outputs": [
    {
     "ename": "ValueError",
     "evalue": "list.remove(x): x not in list",
     "output_type": "error",
     "traceback": [
      "\u001b[0;31m---------------------------------------------------------------------------\u001b[0m",
      "\u001b[0;31mValueError\u001b[0m                                Traceback (most recent call last)",
      "\u001b[0;32m<ipython-input-17-810e68b201a8>\u001b[0m in \u001b[0;36m<module>\u001b[0;34m\u001b[0m\n\u001b[1;32m      1\u001b[0m \u001b[0main1\u001b[0m \u001b[0;34m=\u001b[0m \u001b[0meqns\u001b[0m\u001b[0;34m.\u001b[0m\u001b[0mstates\u001b[0m\u001b[0;34m[\u001b[0m\u001b[0;36m8\u001b[0m\u001b[0;34m]\u001b[0m\u001b[0;34m\u001b[0m\u001b[0;34m\u001b[0m\u001b[0m\n\u001b[0;32m----> 2\u001b[0;31m \u001b[0maout1\u001b[0m \u001b[0;34m=\u001b[0m \u001b[0meqns\u001b[0m\u001b[0;34m.\u001b[0m\u001b[0msolve\u001b[0m\u001b[0;34m(\u001b[0m\u001b[0;34m[\u001b[0m\u001b[0;36m8\u001b[0m\u001b[0;34m,\u001b[0m \u001b[0;36m9\u001b[0m\u001b[0;34m]\u001b[0m\u001b[0;34m)\u001b[0m\u001b[0;34m[\u001b[0m\u001b[0;36m10\u001b[0m\u001b[0;34m]\u001b[0m\u001b[0;34m\u001b[0m\u001b[0;34m\u001b[0m\u001b[0m\n\u001b[0m\u001b[1;32m      3\u001b[0m \u001b[0mtf\u001b[0m \u001b[0;34m=\u001b[0m \u001b[0;34m(\u001b[0m\u001b[0maout1\u001b[0m \u001b[0;34m/\u001b[0m \u001b[0main1\u001b[0m\u001b[0;34m)\u001b[0m\u001b[0;34m.\u001b[0m\u001b[0msimplify\u001b[0m\u001b[0;34m(\u001b[0m\u001b[0;34m)\u001b[0m\u001b[0;34m\u001b[0m\u001b[0;34m\u001b[0m\u001b[0m\n\u001b[1;32m      4\u001b[0m \u001b[0mgamma_1\u001b[0m\u001b[0;34m,\u001b[0m \u001b[0m_\u001b[0m \u001b[0;34m=\u001b[0m \u001b[0msplit_network\u001b[0m\u001b[0;34m.\u001b[0m\u001b[0maux_coupling_constants\u001b[0m\u001b[0;34m\u001b[0m\u001b[0;34m\u001b[0m\u001b[0m\n\u001b[1;32m      5\u001b[0m \u001b[0madiabatically_eliminate\u001b[0m\u001b[0;34m(\u001b[0m\u001b[0mtf\u001b[0m\u001b[0;34m,\u001b[0m \u001b[0mgamma_1\u001b[0m\u001b[0;34m)\u001b[0m\u001b[0;34m\u001b[0m\u001b[0;34m\u001b[0m\u001b[0m\n",
      "\u001b[0;32m~/repos-phd/simba/simba/core.py\u001b[0m in \u001b[0;36msolve\u001b[0;34m(self, states)\u001b[0m\n\u001b[1;32m    997\u001b[0m             \u001b[0m_states\u001b[0m \u001b[0;34m=\u001b[0m \u001b[0mlist\u001b[0m\u001b[0;34m(\u001b[0m\u001b[0mself\u001b[0m\u001b[0;34m.\u001b[0m\u001b[0mstates\u001b[0m\u001b[0;34m)\u001b[0m\u001b[0;34m\u001b[0m\u001b[0;34m\u001b[0m\u001b[0m\n\u001b[1;32m    998\u001b[0m             \u001b[0;32mfor\u001b[0m \u001b[0msymbol\u001b[0m \u001b[0;32min\u001b[0m \u001b[0mstates\u001b[0m\u001b[0;34m:\u001b[0m\u001b[0;34m\u001b[0m\u001b[0;34m\u001b[0m\u001b[0m\n\u001b[0;32m--> 999\u001b[0;31m                 \u001b[0m_states\u001b[0m\u001b[0;34m.\u001b[0m\u001b[0mremove\u001b[0m\u001b[0;34m(\u001b[0m\u001b[0msymbol\u001b[0m\u001b[0;34m)\u001b[0m\u001b[0;34m\u001b[0m\u001b[0;34m\u001b[0m\u001b[0m\n\u001b[0m\u001b[1;32m   1000\u001b[0m \u001b[0;34m\u001b[0m\u001b[0m\n\u001b[1;32m   1001\u001b[0m             \u001b[0;31m# get all the solutions\u001b[0m\u001b[0;34m\u001b[0m\u001b[0;34m\u001b[0m\u001b[0;34m\u001b[0m\u001b[0m\n",
      "\u001b[0;31mValueError\u001b[0m: list.remove(x): x not in list"
     ]
    }
   ],
   "source": [
    "# Calculating the input-output transfer function\n",
    "ain1, aout1 = eqns.get_symbols(['ain_1', 'aout_1'])\n",
    "aout1 = eqns.solve([ain1, conjugate(ain1)])[aout1]\n",
    "tf = (aout1 / ain1).simplify()\n",
    "gamma_1, _ = split_network.aux_coupling_constants\n",
    "adiabatically_eliminate(tf, gamma_1)"
   ]
  },
  {
   "cell_type": "code",
   "execution_count": null,
   "metadata": {},
   "outputs": [],
   "source": [
    "(s**2 + s * gamma_f - lmbda) / (s**2 - s * gamma_f - lmbda)"
   ]
  },
  {
   "cell_type": "markdown",
   "metadata": {},
   "source": [
    "Differs by phase shift of $\\pi$"
   ]
  },
  {
   "cell_type": "markdown",
   "metadata": {},
   "source": [
    "Now let's look at the transfer function from $a_1$ to $aout_1$"
   ]
  },
  {
   "cell_type": "code",
   "execution_count": null,
   "metadata": {},
   "outputs": [],
   "source": [
    "eqns.states.T"
   ]
  },
  {
   "cell_type": "code",
   "execution_count": null,
   "metadata": {},
   "outputs": [],
   "source": [
    "a1, a1d, aout_1 = eqns.get_symbols(['a_1', 'conjugate(a_1)', 'aout_1'])\n",
    "aout1 = eqns.solve([a1, a1d])[aout_1]\n",
    "tf = (aout1 / a1).simplify()\n",
    "gamma_1, _ = split_network.aux_coupling_constants\n",
    "tf = adiabatically_eliminate(tf, gamma_1)\n",
    "tf"
   ]
  },
  {
   "cell_type": "code",
   "execution_count": null,
   "metadata": {},
   "outputs": [],
   "source": [
    "from sympy import I, pi, lambdify\n",
    "params = {gamma_f: 1000, lmbda: 2000}\n",
    "f = symbols('f')\n",
    "replaced = tf.subs(params).subs(s, I*2*pi*f).simplify()\n",
    "fn = lambdify(f, replaced, 'numpy')\n",
    "\n",
    "import numpy as np\n",
    "import matplotlib.pyplot as plt\n",
    "\n",
    "fs = np.logspace(0, 3, num=1000)\n",
    "ys = fn(fs)\n",
    "\n",
    "fig, ax = plt.subplots()\n",
    "ax.loglog(fs, abs(ys))\n",
    "plt.show()"
   ]
  },
  {
   "cell_type": "code",
   "execution_count": null,
   "metadata": {},
   "outputs": [],
   "source": []
  }
 ],
 "metadata": {
  "kernelspec": {
   "display_name": "Python 3",
   "language": "python",
   "name": "python3"
  },
  "language_info": {
   "codemirror_mode": {
    "name": "ipython",
    "version": 3
   },
   "file_extension": ".py",
   "mimetype": "text/x-python",
   "name": "python",
   "nbconvert_exporter": "python",
   "pygments_lexer": "ipython3",
   "version": "3.7.6"
  }
 },
 "nbformat": 4,
 "nbformat_minor": 1
}
