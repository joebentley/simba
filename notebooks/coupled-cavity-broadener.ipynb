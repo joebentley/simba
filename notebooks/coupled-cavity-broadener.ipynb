{
 "cells": [
  {
   "cell_type": "markdown",
   "metadata": {},
   "source": [
    "Coupled cavity broadening device"
   ]
  },
  {
   "cell_type": "code",
   "execution_count": 1,
   "metadata": {},
   "outputs": [],
   "source": [
    "from simba.core import StateSpace\n",
    "from simba.graph import nodes_from_network\n",
    "from sympy import symbols, Matrix, sqrt"
   ]
  },
  {
   "cell_type": "code",
   "execution_count": 2,
   "metadata": {},
   "outputs": [],
   "source": [
    "alpha, beta = symbols('alpha beta', positive=True)\n",
    "\n",
    "a = Matrix([[0, 0, 1, 0], [0, 0, 0, 1], [-1, 0, alpha, 0], [0, -1, 0, alpha]])\n",
    "b = Matrix([[0, 0], [0, 0], [0, beta], [beta, 0]])\n",
    "c = Matrix([[0, 0, 0, beta], [0, 0, beta, 0]])\n",
    "d = Matrix([[1, 0], [0, 1]])\n",
    "\n",
    "ss = StateSpace(a, b, c, d, paired_operator_form=True)"
   ]
  },
  {
   "cell_type": "code",
   "execution_count": 3,
   "metadata": {},
   "outputs": [
    {
     "data": {
      "text/latex": [
       "$$\\displaystyle \\left(I_{2\\times2}, \\left[\\begin{matrix}0 & 0 & 0 & \\beta\\end{matrix}\\right] \\left[\\begin{matrix}a_{1}\\\\\\overline{a_{1}}\\\\a_{2}\\\\\\overline{a_{2}}\\end{matrix}\\right], \\left[\\begin{matrix}\\overline{a_{1}} & a_{1} & \\overline{a_{2}} & a_{2}\\end{matrix}\\right] \\left[\\begin{matrix}0 & 0 & \\frac{i}{2} & 0\\\\0 & 0 & 0 & - \\frac{i}{2}\\\\- \\frac{i}{2} & 0 & 0 & 0\\\\0 & \\frac{i}{2} & 0 & 0\\end{matrix}\\right] \\left[\\begin{matrix}a_{1}\\\\\\overline{a_{1}}\\\\a_{2}\\\\\\overline{a_{2}}\\end{matrix}\\right]\\right)$$"
      ],
      "text/plain": [
       "(S = Matrix([\n",
       "[1, 0],\n",
       "[0, 1]]), K = Matrix([[0, 0, 0, beta]]), R = Matrix([\n",
       "[   0,   0, I/2,    0],\n",
       "[   0,   0,   0, -I/2],\n",
       "[-I/2,   0,   0,    0],\n",
       "[   0, I/2,   0,    0]]))"
      ]
     },
     "execution_count": 3,
     "metadata": {},
     "output_type": "execute_result"
    }
   ],
   "source": [
    "ss.to_slh()"
   ]
  },
  {
   "cell_type": "code",
   "execution_count": 4,
   "metadata": {},
   "outputs": [],
   "source": [
    "split_network = ss.to_slh().split()\n",
    "nodes = nodes_from_network(split_network)\n",
    "g = nodes.as_graphviz_agraph()\n",
    "g.layout(prog='dot')\n",
    "g.draw(\"coupled-cavity-broadener.png\")\n",
    "g.draw(\"coupled-cavity-broadener.pdf\")"
   ]
  },
  {
   "cell_type": "markdown",
   "metadata": {},
   "source": [
    "<img src=\"coupled-cavity-broadener.png\">"
   ]
  },
  {
   "cell_type": "code",
   "execution_count": 5,
   "metadata": {},
   "outputs": [
    {
     "data": {
      "text/latex": [
       "$\\displaystyle \\left[\\begin{matrix}0 & 0 & i & 0\\\\0 & 0 & 0 & - i\\\\0 & 0 & 0 & 0\\\\0 & 0 & 0 & 0\\end{matrix}\\right]$"
      ],
      "text/plain": [
       "Matrix([\n",
       "[0, 0, I,  0],\n",
       "[0, 0, 0, -I],\n",
       "[0, 0, 0,  0],\n",
       "[0, 0, 0,  0]])"
      ]
     },
     "execution_count": 5,
     "metadata": {},
     "output_type": "execute_result"
    }
   ],
   "source": [
    "split_network.h_d"
   ]
  },
  {
   "cell_type": "code",
   "execution_count": 6,
   "metadata": {},
   "outputs": [
    {
     "data": {
      "text/plain": [
       "[(S = Matrix([\n",
       " [1, 0],\n",
       " [0, 1]]), K = Matrix([[0, 0]]), R = Matrix([\n",
       " [0, 0],\n",
       " [0, 0]])), (S = Matrix([\n",
       " [1, 0],\n",
       " [0, 1]]), K = Matrix([[0, beta]]), R = Matrix([\n",
       " [0, 0],\n",
       " [0, 0]]))]"
      ]
     },
     "execution_count": 6,
     "metadata": {},
     "output_type": "execute_result"
    }
   ],
   "source": [
    "split_network.gs"
   ]
  },
  {
   "cell_type": "code",
   "execution_count": 7,
   "metadata": {},
   "outputs": [
    {
     "data": {
      "text/latex": [
       "$\\displaystyle \\left[\\begin{matrix}a_{1}\\\\\\overline{a_{1}}\\\\a_{2}\\\\\\overline{a_{2}}\\\\a'_{1}\\\\\\overline{a'_{1}}\\\\a'_{2}\\\\\\overline{a'_{2}}\\\\ain_{1}\\\\\\overline{ain_{1}}\\\\aout_{1}\\\\\\overline{aout_{1}}\\\\ain_{2}\\\\\\overline{ain_{2}}\\\\aout_{2}\\\\\\overline{aout_{2}}\\end{matrix}\\right]$"
      ],
      "text/plain": [
       "Matrix([\n",
       "[              a_1],\n",
       "[   conjugate(a_1)],\n",
       "[              a_2],\n",
       "[   conjugate(a_2)],\n",
       "[             a'_1],\n",
       "[  conjugate(a'_1)],\n",
       "[             a'_2],\n",
       "[  conjugate(a'_2)],\n",
       "[            ain_1],\n",
       "[ conjugate(ain_1)],\n",
       "[           aout_1],\n",
       "[conjugate(aout_1)],\n",
       "[            ain_2],\n",
       "[ conjugate(ain_2)],\n",
       "[           aout_2],\n",
       "[conjugate(aout_2)]])"
      ]
     },
     "execution_count": 7,
     "metadata": {},
     "output_type": "execute_result"
    }
   ],
   "source": [
    "split_network.dynamical_matrix.states.states"
   ]
  },
  {
   "cell_type": "code",
   "execution_count": 8,
   "metadata": {},
   "outputs": [
    {
     "data": {
      "text/latex": [
       "$\\displaystyle \\left[\\begin{array}{cccccccccccccccc}0 & 0 & - \\frac{1}{s} & 0 & 0 & 0 & 0 & 0 & 0 & 0 & 0 & 0 & 0 & 0 & 0 & 0\\\\0 & 0 & 0 & - \\frac{1}{s} & 0 & 0 & 0 & 0 & 0 & 0 & 0 & 0 & 0 & 0 & 0 & 0\\\\\\frac{1}{s} & 0 & 0 & 0 & 0 & 0 & 0 & - \\frac{\\sqrt{2} \\beta \\sqrt{\\gamma_{2}}}{2 s} & 0 & 0 & 0 & 0 & 0 & 0 & 0 & 0\\\\0 & \\frac{1}{s} & 0 & 0 & 0 & 0 & - \\frac{\\sqrt{2} \\beta \\sqrt{\\gamma_{2}}}{2 s} & 0 & 0 & 0 & 0 & 0 & 0 & 0 & 0 & 0\\\\0 & 0 & 0 & 0 & 0 & 0 & 0 & 0 & 0 & 0 & 0 & 0 & 0 & 0 & 0 & 0\\\\0 & 0 & 0 & 0 & 0 & 0 & 0 & 0 & 0 & 0 & 0 & 0 & 0 & 0 & 0 & 0\\\\0 & 0 & 0 & - \\frac{\\sqrt{2} \\beta \\sqrt{\\gamma_{2}}}{2 s} & 0 & 0 & \\frac{\\gamma_{2}}{s} & 0 & 0 & - \\frac{\\sqrt{2} \\sqrt{\\gamma_{2}}}{s} & 0 & 0 & 0 & 0 & 0 & 0\\\\0 & 0 & - \\frac{\\sqrt{2} \\beta \\sqrt{\\gamma_{2}}}{2 s} & 0 & 0 & 0 & 0 & \\frac{\\gamma_{2}}{s} & 0 & 0 & - \\frac{\\sqrt{2} \\sqrt{\\gamma_{2}}}{s} & 0 & 0 & 0 & 0 & 0\\\\0 & 0 & 0 & 0 & 0 & 0 & 0 & 0 & 0 & 0 & 0 & 0 & 0 & 0 & 0 & 0\\\\0 & 0 & 0 & 0 & 0 & 0 & 0 & 0 & 0 & 0 & 0 & 0 & 0 & 0 & 0 & 0\\\\0 & 0 & 0 & 0 & 0 & 0 & 0 & 0 & 0 & 0 & 0 & 0 & 1 & 0 & 0 & 0\\\\0 & 0 & 0 & 0 & 0 & 0 & 0 & 0 & 0 & 0 & 0 & 0 & 0 & 1 & 0 & 0\\\\0 & 0 & 0 & 0 & 0 & 0 & 0 & 0 & 1 & 0 & 0 & 0 & 0 & 0 & 0 & 0\\\\0 & 0 & 0 & 0 & 0 & 0 & 0 & 0 & 0 & 1 & 0 & 0 & 0 & 0 & 0 & 0\\\\0 & 0 & 0 & 0 & 0 & 0 & - \\sqrt{2} \\sqrt{\\gamma_{2}} & 0 & 0 & 1 & 0 & 0 & 0 & 0 & 0 & 0\\\\0 & 0 & 0 & 0 & 0 & 0 & 0 & - \\sqrt{2} \\sqrt{\\gamma_{2}} & 0 & 0 & 1 & 0 & 0 & 0 & 0 & 0\\end{array}\\right]$"
      ],
      "text/plain": [
       "Matrix([\n",
       "[  0,   0,                              -1/s,                                 0, 0, 0,                                 0,                                 0, 0,                        0,                        0, 0, 0, 0, 0, 0],\n",
       "[  0,   0,                                 0,                              -1/s, 0, 0,                                 0,                                 0, 0,                        0,                        0, 0, 0, 0, 0, 0],\n",
       "[1/s,   0,                                 0,                                 0, 0, 0,                                 0, -sqrt(2)*beta*sqrt(gamma_2)/(2*s), 0,                        0,                        0, 0, 0, 0, 0, 0],\n",
       "[  0, 1/s,                                 0,                                 0, 0, 0, -sqrt(2)*beta*sqrt(gamma_2)/(2*s),                                 0, 0,                        0,                        0, 0, 0, 0, 0, 0],\n",
       "[  0,   0,                                 0,                                 0, 0, 0,                                 0,                                 0, 0,                        0,                        0, 0, 0, 0, 0, 0],\n",
       "[  0,   0,                                 0,                                 0, 0, 0,                                 0,                                 0, 0,                        0,                        0, 0, 0, 0, 0, 0],\n",
       "[  0,   0,                                 0, -sqrt(2)*beta*sqrt(gamma_2)/(2*s), 0, 0,                         gamma_2/s,                                 0, 0, -sqrt(2)*sqrt(gamma_2)/s,                        0, 0, 0, 0, 0, 0],\n",
       "[  0,   0, -sqrt(2)*beta*sqrt(gamma_2)/(2*s),                                 0, 0, 0,                                 0,                         gamma_2/s, 0,                        0, -sqrt(2)*sqrt(gamma_2)/s, 0, 0, 0, 0, 0],\n",
       "[  0,   0,                                 0,                                 0, 0, 0,                                 0,                                 0, 0,                        0,                        0, 0, 0, 0, 0, 0],\n",
       "[  0,   0,                                 0,                                 0, 0, 0,                                 0,                                 0, 0,                        0,                        0, 0, 0, 0, 0, 0],\n",
       "[  0,   0,                                 0,                                 0, 0, 0,                                 0,                                 0, 0,                        0,                        0, 0, 1, 0, 0, 0],\n",
       "[  0,   0,                                 0,                                 0, 0, 0,                                 0,                                 0, 0,                        0,                        0, 0, 0, 1, 0, 0],\n",
       "[  0,   0,                                 0,                                 0, 0, 0,                                 0,                                 0, 1,                        0,                        0, 0, 0, 0, 0, 0],\n",
       "[  0,   0,                                 0,                                 0, 0, 0,                                 0,                                 0, 0,                        1,                        0, 0, 0, 0, 0, 0],\n",
       "[  0,   0,                                 0,                                 0, 0, 0,            -sqrt(2)*sqrt(gamma_2),                                 0, 0,                        1,                        0, 0, 0, 0, 0, 0],\n",
       "[  0,   0,                                 0,                                 0, 0, 0,                                 0,            -sqrt(2)*sqrt(gamma_2), 0,                        0,                        1, 0, 0, 0, 0, 0]])"
      ]
     },
     "execution_count": 8,
     "metadata": {},
     "output_type": "execute_result"
    }
   ],
   "source": [
    "split_network.dynamical_matrix.matrix"
   ]
  },
  {
   "cell_type": "code",
   "execution_count": 9,
   "metadata": {},
   "outputs": [
    {
     "data": {
      "text/latex": [
       "$$\\displaystyle \\left[\\begin{matrix}a_{1}\\\\\\overline{a_{1}}\\\\a_{2}\\\\\\overline{a_{2}}\\\\a'_{1}\\\\\\overline{a'_{1}}\\\\a'_{2}\\\\\\overline{a'_{2}}\\\\ain_{1}\\\\\\overline{ain_{1}}\\\\aout_{1}\\\\\\overline{aout_{1}}\\\\ain_{2}\\\\\\overline{ain_{2}}\\\\aout_{2}\\\\\\overline{aout_{2}}\\end{matrix}\\right]$$"
      ],
      "text/plain": [
       "<simba.core.States at 0x7f94ebab8190>"
      ]
     },
     "execution_count": 9,
     "metadata": {},
     "output_type": "execute_result"
    }
   ],
   "source": [
    "split_network.dynamical_matrix.states"
   ]
  },
  {
   "cell_type": "code",
   "execution_count": null,
   "metadata": {},
   "outputs": [],
   "source": []
  }
 ],
 "metadata": {
  "kernelspec": {
   "display_name": "Python 3",
   "language": "python",
   "name": "python3"
  },
  "language_info": {
   "codemirror_mode": {
    "name": "ipython",
    "version": 3
   },
   "file_extension": ".py",
   "mimetype": "text/x-python",
   "name": "python",
   "nbconvert_exporter": "python",
   "pygments_lexer": "ipython3",
   "version": "3.7.6"
  }
 },
 "nbformat": 4,
 "nbformat_minor": 2
}
