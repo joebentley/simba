{
 "cells": [
  {
   "cell_type": "markdown",
   "metadata": {},
   "source": [
    "Coupled cavity broadening device"
   ]
  },
  {
   "cell_type": "code",
   "execution_count": 25,
   "metadata": {},
   "outputs": [],
   "source": [
    "from simba.core import StateSpace\n",
    "from simba.graph import nodes_from_network\n",
    "from sympy import symbols, Matrix, sqrt"
   ]
  },
  {
   "cell_type": "code",
   "execution_count": 34,
   "metadata": {},
   "outputs": [],
   "source": [
    "alpha, beta = symbols('alpha beta', positive=True)\n",
    "\n",
    "a = Matrix([[0, 0, 1, 0], [0, 0, 0, 1], [-1, 0, alpha, 0], [0, -1, 0, alpha]])\n",
    "b = Matrix([[0, 0], [0, 0], [0, beta], [beta, 0]])\n",
    "c = Matrix([[0, 0, 0, beta], [0, 0, beta, 0]])\n",
    "d = Matrix([[1, 0], [0, 1]])\n",
    "\n",
    "ss = StateSpace(a, b, c, d, paired_operator_form=True)"
   ]
  },
  {
   "cell_type": "code",
   "execution_count": 35,
   "metadata": {},
   "outputs": [
    {
     "data": {
      "text/latex": [
       "$$\\displaystyle \\left(I_{2\\times2}, \\left[\\begin{matrix}0 & 0 & 0 & \\beta\\end{matrix}\\right] \\left[\\begin{matrix}a_{1}\\\\\\overline{a_{1}}\\\\a_{2}\\\\\\overline{a_{2}}\\end{matrix}\\right], \\frac{1}{2} \\left[\\begin{matrix}\\overline{a_{1}} & a_{1} & \\overline{a_{2}} & a_{2}\\end{matrix}\\right] \\left[\\begin{matrix}0 & 0 & \\frac{i}{2} & 0\\\\0 & 0 & 0 & - \\frac{i}{2}\\\\- \\frac{i}{2} & 0 & 0 & 0\\\\0 & \\frac{i}{2} & 0 & 0\\end{matrix}\\right] \\left[\\begin{matrix}a_{1}\\\\\\overline{a_{1}}\\\\a_{2}\\\\\\overline{a_{2}}\\end{matrix}\\right]\\right)$$"
      ],
      "text/plain": [
       "(S = Matrix([\n",
       "[1, 0],\n",
       "[0, 1]]), K = Matrix([[0, 0, 0, beta]]), R = Matrix([\n",
       "[   0,   0, I/2,    0],\n",
       "[   0,   0,   0, -I/2],\n",
       "[-I/2,   0,   0,    0],\n",
       "[   0, I/2,   0,    0]]))"
      ]
     },
     "execution_count": 35,
     "metadata": {},
     "output_type": "execute_result"
    }
   ],
   "source": [
    "ss.to_slh()"
   ]
  },
  {
   "cell_type": "code",
   "execution_count": 30,
   "metadata": {},
   "outputs": [],
   "source": [
    "split_network = ss.to_slh().split()\n",
    "nodes = nodes_from_network(split_network)\n",
    "g = nodes.as_graphviz_agraph()\n",
    "g.layout(prog='neato')\n",
    "g.draw(\"coupled-cavity-broadener.png\")\n",
    "g.draw(\"coupled-cavity-broadener.pdf\")"
   ]
  },
  {
   "cell_type": "markdown",
   "metadata": {},
   "source": [
    "<img src=\"coupled-cavity-broadener.png\">"
   ]
  },
  {
   "cell_type": "code",
   "execution_count": 31,
   "metadata": {},
   "outputs": [
    {
     "data": {
      "text/latex": [
       "$\\displaystyle \\left[\\begin{matrix}0 & 0 & i & 0\\\\0 & 0 & 0 & - i\\\\0 & 0 & 0 & 0\\\\0 & 0 & 0 & 0\\end{matrix}\\right]$"
      ],
      "text/plain": [
       "Matrix([\n",
       "[0, 0, I,  0],\n",
       "[0, 0, 0, -I],\n",
       "[0, 0, 0,  0],\n",
       "[0, 0, 0,  0]])"
      ]
     },
     "execution_count": 31,
     "metadata": {},
     "output_type": "execute_result"
    }
   ],
   "source": [
    "split_network.h_d"
   ]
  },
  {
   "cell_type": "code",
   "execution_count": 32,
   "metadata": {},
   "outputs": [
    {
     "data": {
      "text/plain": [
       "[(S = Matrix([\n",
       " [1, 0],\n",
       " [0, 1]]), K = Matrix([[0, 0]]), R = Matrix([\n",
       " [0, 0],\n",
       " [0, 0]])), (S = Matrix([\n",
       " [1, 0],\n",
       " [0, 1]]), K = Matrix([[0, beta]]), R = Matrix([\n",
       " [0, 0],\n",
       " [0, 0]]))]"
      ]
     },
     "execution_count": 32,
     "metadata": {},
     "output_type": "execute_result"
    }
   ],
   "source": [
    "split_network.gs"
   ]
  }
 ],
 "metadata": {
  "kernelspec": {
   "display_name": "Python 3",
   "language": "python",
   "name": "python3"
  },
  "language_info": {
   "codemirror_mode": {
    "name": "ipython",
    "version": 3
   },
   "file_extension": ".py",
   "mimetype": "text/x-python",
   "name": "python",
   "nbconvert_exporter": "python",
   "pygments_lexer": "ipython3",
   "version": "3.7.6"
  }
 },
 "nbformat": 4,
 "nbformat_minor": 2
}
