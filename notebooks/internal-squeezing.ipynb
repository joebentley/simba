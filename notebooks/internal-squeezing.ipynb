{
 "cells": [
  {
   "cell_type": "markdown",
   "metadata": {},
   "source": [
    "See the Mathematica notebook with the same name"
   ]
  },
  {
   "cell_type": "markdown",
   "metadata": {},
   "source": [
    "First we consider the limiting case where $s_0 = \\gamma$. Here we get infinite squeezing of the amplitude quadrature at DC."
   ]
  },
  {
   "cell_type": "code",
   "execution_count": 5,
   "metadata": {},
   "outputs": [],
   "source": [
    "from sympy import symbols, Matrix, sqrt\n",
    "from simba import StateSpace\n",
    "import simba.config as config\n",
    "config.params['wolframscript'] = config.Param.OFF"
   ]
  },
  {
   "cell_type": "code",
   "execution_count": 6,
   "metadata": {},
   "outputs": [
    {
     "name": "stdout",
     "output_type": "stream",
     "text": [
      "(gamma^4*(2*gamma^2 + 1)^2*(4*gamma^2 + 1)^2*(32*gamma^4 + 24*gamma^2 + 4) - s^2*(4*gamma^2 + 1)^2*(8*gamma^4 + 6*gamma^2 + 1)*(4*gamma^3 - 2*gamma^2*s + 2*gamma - s)*(4*gamma^3 + 2*gamma^2*s + 2*gamma + s) + (gamma^4*(-16*gamma^2 - 4)*(8*gamma^4 + 6*gamma^2 + 1)^(1/2) + 2*gamma*(2*gamma^2 + 1)^(1/2)*(4*gamma^2 + 1)^(3/2)*(2*gamma^2*s - gamma + s) - s*(4*gamma^3 - 2*gamma^2*s + 2*gamma - s)*(128*gamma^8 + 160*gamma^6 + 72*gamma^4 + 14*gamma^2 + 1)^(1/2))*(gamma^4*(16*gamma^2 + 4)*(8*gamma^4 + 6*gamma^2 + 1)^(1/2) + 2*gamma*(2*gamma^2 + 1)^(1/2)*(4*gamma^2 + 1)^(3/2)*(2*gamma^2*s + gamma + s) - s*(4*gamma^3 + 2*gamma^2*s + 2*gamma + s)*(128*gamma^8 + 160*gamma^6 + 72*gamma^4 + 14*gamma^2 + 1)^(1/2)))/(s^2*(4*gamma^2 + 1)^2*(8*gamma^4 + 6*gamma^2 + 1)*(4*gamma^3 - 2*gamma^2*s + 2*gamma - s)*(4*gamma^3 + 2*gamma^2*s + 2*gamma + s))\n"
     ]
    },
    {
     "ename": "StateSpaceError",
     "evalue": "Not possible to realise: Matrix([[(gamma**4*(2*gamma**2 + 1)**2*(4*gamma**2 + 1)**2*(32*gamma**4 + 24*gamma**2 + 4) - s**2*(4*gamma**2 + 1)**2*(8*gamma**4 + 6*gamma**2 + 1)*(4*gamma**3 - 2*gamma**2*s + 2*gamma - s)*(4*gamma**3 + 2*gamma**2*s + 2*gamma + s) + (gamma**4*(-16*gamma**2 - 4)*sqrt(8*gamma**4 + 6*gamma**2 + 1) + 2*gamma*sqrt(2*gamma**2 + 1)*(4*gamma**2 + 1)**(3/2)*(2*gamma**2*s - gamma + s) - s*(4*gamma**3 - 2*gamma**2*s + 2*gamma - s)*sqrt(128*gamma**8 + 160*gamma**6 + 72*gamma**4 + 14*gamma**2 + 1))*(gamma**4*(16*gamma**2 + 4)*sqrt(8*gamma**4 + 6*gamma**2 + 1) + 2*gamma*sqrt(2*gamma**2 + 1)*(4*gamma**2 + 1)**(3/2)*(2*gamma**2*s + gamma + s) - s*(4*gamma**3 + 2*gamma**2*s + 2*gamma + s)*sqrt(128*gamma**8 + 160*gamma**6 + 72*gamma**4 + 14*gamma**2 + 1)))/(s**2*(4*gamma**2 + 1)**2*(8*gamma**4 + 6*gamma**2 + 1)*(4*gamma**3 - 2*gamma**2*s + 2*gamma - s)*(4*gamma**3 + 2*gamma**2*s + 2*gamma + s)), gamma**2*(-2*(4*gamma**2 + 1)*(2*gamma*(2*gamma**2 + 1)*(gamma**3*(-8*gamma**2 - 2)*sqrt(8*gamma**4 + 6*gamma**2 + 1) + sqrt(2*gamma**2 + 1)*(4*gamma**2 + 1)**(3/2)*(2*gamma**2*s - gamma + s)) + (4*gamma**2 + 2*gamma*(4*gamma**3 - 2*gamma**2*s + gamma - s) + 1)*(8*gamma**4 + 6*gamma**2 + 1)**(3/2))*(gamma**4*(16*gamma**2 + 4)*sqrt(8*gamma**4 + 6*gamma**2 + 1) + 2*gamma*sqrt(2*gamma**2 + 1)*(4*gamma**2 + 1)**(3/2)*(2*gamma**2*s + gamma + s) - s*(4*gamma**3 + 2*gamma**2*s + 2*gamma + s)*sqrt(128*gamma**8 + 160*gamma**6 + 72*gamma**4 + 14*gamma**2 + 1))*sqrt(256*gamma**10 + 448*gamma**8 + 304*gamma**6 + 100*gamma**4 + 16*gamma**2 + 1) + 2*(8*gamma**4 + 6*gamma**2 + 1)**(9/2)*(gamma**4*(-16*gamma**2 - 4)*sqrt(2*gamma**2 + 1) + 2*gamma*(4*gamma**3 - 2*gamma**2*s + gamma - s)*sqrt(32*gamma**6 + 32*gamma**4 + 10*gamma**2 + 1) + s*(4*gamma**3 - 2*gamma**2*s + 2*gamma - s)*sqrt(32*gamma**6 + 32*gamma**4 + 10*gamma**2 + 1)))/(s**2*(2*gamma**2 + 1)**(3/2)*(4*gamma**2 + 1)**3*(8*gamma**4 + 6*gamma**2 + 1)**(5/2)*(4*gamma**3 - 2*gamma**2*s + 2*gamma - s)*(4*gamma**3 + 2*gamma**2*s + 2*gamma + s))], [2*gamma**2*(-(4*gamma**2 + 1)*(2*gamma*(2*gamma**2 + 1)*(2*gamma**3*(4*gamma**2 + 1)*sqrt(8*gamma**4 + 6*gamma**2 + 1) + sqrt(2*gamma**2 + 1)*(4*gamma**2 + 1)**(3/2)*(2*gamma**2*s + gamma + s)) - (4*gamma**2 + 2*gamma*(4*gamma**3 + 2*gamma**2*s + gamma + s) + 1)*(8*gamma**4 + 6*gamma**2 + 1)**(3/2))*(-4*gamma**4*(4*gamma**2 + 1)*sqrt(8*gamma**4 + 6*gamma**2 + 1) + 2*gamma*sqrt(2*gamma**2 + 1)*(4*gamma**2 + 1)**(3/2)*(2*gamma**2*s - gamma + s) - s*(4*gamma**3 - 2*gamma**2*s + 2*gamma - s)*sqrt(128*gamma**8 + 160*gamma**6 + 72*gamma**4 + 14*gamma**2 + 1))*sqrt(256*gamma**10 + 448*gamma**8 + 304*gamma**6 + 100*gamma**4 + 16*gamma**2 + 1) + (8*gamma**4 + 6*gamma**2 + 1)**(9/2)*(-4*gamma**4*sqrt(2*gamma**2 + 1)*(4*gamma**2 + 1) + 2*gamma*(4*gamma**3 + 2*gamma**2*s + gamma + s)*sqrt(32*gamma**6 + 32*gamma**4 + 10*gamma**2 + 1) - s*(4*gamma**3 + 2*gamma**2*s + 2*gamma + s)*sqrt(32*gamma**6 + 32*gamma**4 + 10*gamma**2 + 1)))/(s**2*(2*gamma**2 + 1)**(3/2)*(4*gamma**2 + 1)**3*(8*gamma**4 + 6*gamma**2 + 1)**(5/2)*(4*gamma**3 - 2*gamma**2*s + 2*gamma - s)*(4*gamma**3 + 2*gamma**2*s + 2*gamma + s)), 8*gamma**4*(64*gamma**10*s**2 - 192*gamma**10 + 144*gamma**8*s**2 - 240*gamma**8 - 8*gamma**6*s**2*sqrt(64*gamma**8 + 96*gamma**6 + 52*gamma**4 + 12*gamma**2 + 1) + 128*gamma**6*s**2 + 24*gamma**6*sqrt(64*gamma**8 + 96*gamma**6 + 52*gamma**4 + 12*gamma**2 + 1) - 112*gamma**6 - 12*gamma**4*s**2*sqrt(64*gamma**8 + 96*gamma**6 + 52*gamma**4 + 12*gamma**2 + 1) + 56*gamma**4*s**2 + 12*gamma**4*sqrt(64*gamma**8 + 96*gamma**6 + 52*gamma**4 + 12*gamma**2 + 1) - 24*gamma**4 - 6*gamma**2*s**2*sqrt(64*gamma**8 + 96*gamma**6 + 52*gamma**4 + 12*gamma**2 + 1) + 12*gamma**2*s**2 + 2*gamma**2*sqrt(64*gamma**8 + 96*gamma**6 + 52*gamma**4 + 12*gamma**2 + 1) - 2*gamma**2 - s**2*sqrt(64*gamma**8 + 96*gamma**6 + 52*gamma**4 + 12*gamma**2 + 1) + s**2)/(s**2*(-512*gamma**14 + 128*gamma**12*s**2 - 1408*gamma**12 + 352*gamma**10*s**2 - 1600*gamma**10 + 400*gamma**8*s**2 - 960*gamma**8 + 240*gamma**6*s**2 - 320*gamma**6 + 80*gamma**4*s**2 - 56*gamma**4 + 14*gamma**2*s**2 - 4*gamma**2 + s**2))]]) != 0",
     "output_type": "error",
     "traceback": [
      "\u001b[0;31m---------------------------------------------------------------------------\u001b[0m",
      "\u001b[0;31mStateSpaceError\u001b[0m                           Traceback (most recent call last)",
      "\u001b[0;32m<ipython-input-6-6c10e6a53a1d>\u001b[0m in \u001b[0;36m<module>\u001b[0;34m\u001b[0m\n\u001b[1;32m     14\u001b[0m \u001b[0mss\u001b[0m \u001b[0;34m=\u001b[0m \u001b[0mStateSpace\u001b[0m\u001b[0;34m(\u001b[0m\u001b[0ma\u001b[0m\u001b[0;34m,\u001b[0m \u001b[0mb\u001b[0m\u001b[0;34m,\u001b[0m \u001b[0mc\u001b[0m\u001b[0;34m,\u001b[0m \u001b[0md\u001b[0m\u001b[0;34m,\u001b[0m \u001b[0mpaired_operator_form\u001b[0m\u001b[0;34m=\u001b[0m\u001b[0;32mTrue\u001b[0m\u001b[0;34m)\u001b[0m\u001b[0;34m\u001b[0m\u001b[0;34m\u001b[0m\u001b[0m\n\u001b[1;32m     15\u001b[0m \u001b[0;34m\u001b[0m\u001b[0m\n\u001b[0;32m---> 16\u001b[0;31m \u001b[0mrss\u001b[0m \u001b[0;34m=\u001b[0m \u001b[0mss\u001b[0m\u001b[0;34m.\u001b[0m\u001b[0mto_physically_realisable\u001b[0m\u001b[0;34m(\u001b[0m\u001b[0;34m)\u001b[0m\u001b[0;34m\u001b[0m\u001b[0;34m\u001b[0m\u001b[0m\n\u001b[0m",
      "\u001b[0;32m~/repos-phd/simba/simba/core.py\u001b[0m in \u001b[0;36mto_physically_realisable\u001b[0;34m(self)\u001b[0m\n\u001b[1;32m    378\u001b[0m         \u001b[0mss\u001b[0m \u001b[0;34m=\u001b[0m \u001b[0mself\u001b[0m\u001b[0;34m.\u001b[0m\u001b[0mreorder_to_paired_form\u001b[0m\u001b[0;34m(\u001b[0m\u001b[0;34m)\u001b[0m\u001b[0;34m\u001b[0m\u001b[0;34m\u001b[0m\u001b[0m\n\u001b[1;32m    379\u001b[0m         \u001b[0ma\u001b[0m\u001b[0;34m,\u001b[0m \u001b[0mb\u001b[0m\u001b[0;34m,\u001b[0m \u001b[0mc\u001b[0m\u001b[0;34m,\u001b[0m \u001b[0md\u001b[0m \u001b[0;34m=\u001b[0m \u001b[0mss\u001b[0m\u001b[0;34m\u001b[0m\u001b[0;34m\u001b[0m\u001b[0m\n\u001b[0;32m--> 380\u001b[0;31m         \u001b[0mt\u001b[0m \u001b[0;34m=\u001b[0m \u001b[0mss\u001b[0m\u001b[0;34m.\u001b[0m\u001b[0mfind_transformation_to_physically_realisable\u001b[0m\u001b[0;34m(\u001b[0m\u001b[0;34m)\u001b[0m\u001b[0;34m\u001b[0m\u001b[0;34m\u001b[0m\u001b[0m\n\u001b[0m\u001b[1;32m    381\u001b[0m \u001b[0;34m\u001b[0m\u001b[0m\n\u001b[1;32m    382\u001b[0m         \u001b[0;31m# apply transformation\u001b[0m\u001b[0;34m\u001b[0m\u001b[0;34m\u001b[0m\u001b[0;34m\u001b[0m\u001b[0m\n",
      "\u001b[0;32m~/repos-phd/simba/simba/core.py\u001b[0m in \u001b[0;36mfind_transformation_to_physically_realisable\u001b[0;34m(self)\u001b[0m\n\u001b[1;32m    268\u001b[0m \u001b[0;34m\u001b[0m\u001b[0m\n\u001b[1;32m    269\u001b[0m         \u001b[0;32mif\u001b[0m \u001b[0mconfig\u001b[0m\u001b[0;34m.\u001b[0m\u001b[0mparams\u001b[0m\u001b[0;34m[\u001b[0m\u001b[0;34m'checks'\u001b[0m\u001b[0;34m]\u001b[0m\u001b[0;34m:\u001b[0m\u001b[0;34m\u001b[0m\u001b[0;34m\u001b[0m\u001b[0m\n\u001b[0;32m--> 270\u001b[0;31m             \u001b[0mself\u001b[0m\u001b[0;34m.\u001b[0m\u001b[0mraise_error_if_not_possible_to_realise\u001b[0m\u001b[0;34m(\u001b[0m\u001b[0;34m)\u001b[0m\u001b[0;34m\u001b[0m\u001b[0;34m\u001b[0m\u001b[0m\n\u001b[0m\u001b[1;32m    271\u001b[0m \u001b[0;34m\u001b[0m\u001b[0m\n\u001b[1;32m    272\u001b[0m         \u001b[0;32mif\u001b[0m \u001b[0mconfig\u001b[0m\u001b[0;34m.\u001b[0m\u001b[0mparams\u001b[0m\u001b[0;34m[\u001b[0m\u001b[0;34m'checks'\u001b[0m\u001b[0;34m]\u001b[0m \u001b[0;32mand\u001b[0m \u001b[0mself\u001b[0m\u001b[0;34m.\u001b[0m\u001b[0mis_physically_realisable\u001b[0m\u001b[0;34m:\u001b[0m\u001b[0;34m\u001b[0m\u001b[0;34m\u001b[0m\u001b[0m\n",
      "\u001b[0;32m~/repos-phd/simba/simba/core.py\u001b[0m in \u001b[0;36mraise_error_if_not_possible_to_realise\u001b[0;34m(self)\u001b[0m\n\u001b[1;32m    436\u001b[0m \u001b[0;34m\u001b[0m\u001b[0m\n\u001b[1;32m    437\u001b[0m             \u001b[0;32mif\u001b[0m \u001b[0mcond1\u001b[0m \u001b[0;34m!=\u001b[0m \u001b[0mMatrix\u001b[0m\u001b[0;34m.\u001b[0m\u001b[0mzeros\u001b[0m\u001b[0;34m(\u001b[0m\u001b[0;34m*\u001b[0m\u001b[0mj\u001b[0m\u001b[0;34m.\u001b[0m\u001b[0mshape\u001b[0m\u001b[0;34m)\u001b[0m\u001b[0;34m:\u001b[0m\u001b[0;34m\u001b[0m\u001b[0;34m\u001b[0m\u001b[0m\n\u001b[0;32m--> 438\u001b[0;31m                 \u001b[0;32mraise\u001b[0m \u001b[0mStateSpaceError\u001b[0m\u001b[0;34m(\u001b[0m\u001b[0;34mf\"Not possible to realise: {cond1} != 0\"\u001b[0m\u001b[0;34m)\u001b[0m\u001b[0;34m\u001b[0m\u001b[0;34m\u001b[0m\u001b[0m\n\u001b[0m\u001b[1;32m    439\u001b[0m \u001b[0;34m\u001b[0m\u001b[0m\n\u001b[1;32m    440\u001b[0m             \u001b[0mj\u001b[0m \u001b[0;34m=\u001b[0m \u001b[0mj_matrix\u001b[0m\u001b[0;34m(\u001b[0m\u001b[0mself\u001b[0m\u001b[0;34m.\u001b[0m\u001b[0md\u001b[0m\u001b[0;34m.\u001b[0m\u001b[0mshape\u001b[0m\u001b[0;34m[\u001b[0m\u001b[0;36m1\u001b[0m\u001b[0;34m]\u001b[0m\u001b[0;34m)\u001b[0m\u001b[0;34m\u001b[0m\u001b[0;34m\u001b[0m\u001b[0m\n",
      "\u001b[0;31mStateSpaceError\u001b[0m: Not possible to realise: Matrix([[(gamma**4*(2*gamma**2 + 1)**2*(4*gamma**2 + 1)**2*(32*gamma**4 + 24*gamma**2 + 4) - s**2*(4*gamma**2 + 1)**2*(8*gamma**4 + 6*gamma**2 + 1)*(4*gamma**3 - 2*gamma**2*s + 2*gamma - s)*(4*gamma**3 + 2*gamma**2*s + 2*gamma + s) + (gamma**4*(-16*gamma**2 - 4)*sqrt(8*gamma**4 + 6*gamma**2 + 1) + 2*gamma*sqrt(2*gamma**2 + 1)*(4*gamma**2 + 1)**(3/2)*(2*gamma**2*s - gamma + s) - s*(4*gamma**3 - 2*gamma**2*s + 2*gamma - s)*sqrt(128*gamma**8 + 160*gamma**6 + 72*gamma**4 + 14*gamma**2 + 1))*(gamma**4*(16*gamma**2 + 4)*sqrt(8*gamma**4 + 6*gamma**2 + 1) + 2*gamma*sqrt(2*gamma**2 + 1)*(4*gamma**2 + 1)**(3/2)*(2*gamma**2*s + gamma + s) - s*(4*gamma**3 + 2*gamma**2*s + 2*gamma + s)*sqrt(128*gamma**8 + 160*gamma**6 + 72*gamma**4 + 14*gamma**2 + 1)))/(s**2*(4*gamma**2 + 1)**2*(8*gamma**4 + 6*gamma**2 + 1)*(4*gamma**3 - 2*gamma**2*s + 2*gamma - s)*(4*gamma**3 + 2*gamma**2*s + 2*gamma + s)), gamma**2*(-2*(4*gamma**2 + 1)*(2*gamma*(2*gamma**2 + 1)*(gamma**3*(-8*gamma**2 - 2)*sqrt(8*gamma**4 + 6*gamma**2 + 1) + sqrt(2*gamma**2 + 1)*(4*gamma**2 + 1)**(3/2)*(2*gamma**2*s - gamma + s)) + (4*gamma**2 + 2*gamma*(4*gamma**3 - 2*gamma**2*s + gamma - s) + 1)*(8*gamma**4 + 6*gamma**2 + 1)**(3/2))*(gamma**4*(16*gamma**2 + 4)*sqrt(8*gamma**4 + 6*gamma**2 + 1) + 2*gamma*sqrt(2*gamma**2 + 1)*(4*gamma**2 + 1)**(3/2)*(2*gamma**2*s + gamma + s) - s*(4*gamma**3 + 2*gamma**2*s + 2*gamma + s)*sqrt(128*gamma**8 + 160*gamma**6 + 72*gamma**4 + 14*gamma**2 + 1))*sqrt(256*gamma**10 + 448*gamma**8 + 304*gamma**6 + 100*gamma**4 + 16*gamma**2 + 1) + 2*(8*gamma**4 + 6*gamma**2 + 1)**(9/2)*(gamma**4*(-16*gamma**2 - 4)*sqrt(2*gamma**2 + 1) + 2*gamma*(4*gamma**3 - 2*gamma**2*s + gamma - s)*sqrt(32*gamma**6 + 32*gamma**4 + 10*gamma**2 + 1) + s*(4*gamma**3 - 2*gamma**2*s + 2*gamma - s)*sqrt(32*gamma**6 + 32*gamma**4 + 10*gamma**2 + 1)))/(s**2*(2*gamma**2 + 1)**(3/2)*(4*gamma**2 + 1)**3*(8*gamma**4 + 6*gamma**2 + 1)**(5/2)*(4*gamma**3 - 2*gamma**2*s + 2*gamma - s)*(4*gamma**3 + 2*gamma**2*s + 2*gamma + s))], [2*gamma**2*(-(4*gamma**2 + 1)*(2*gamma*(2*gamma**2 + 1)*(2*gamma**3*(4*gamma**2 + 1)*sqrt(8*gamma**4 + 6*gamma**2 + 1) + sqrt(2*gamma**2 + 1)*(4*gamma**2 + 1)**(3/2)*(2*gamma**2*s + gamma + s)) - (4*gamma**2 + 2*gamma*(4*gamma**3 + 2*gamma**2*s + gamma + s) + 1)*(8*gamma**4 + 6*gamma**2 + 1)**(3/2))*(-4*gamma**4*(4*gamma**2 + 1)*sqrt(8*gamma**4 + 6*gamma**2 + 1) + 2*gamma*sqrt(2*gamma**2 + 1)*(4*gamma**2 + 1)**(3/2)*(2*gamma**2*s - gamma + s) - s*(4*gamma**3 - 2*gamma**2*s + 2*gamma - s)*sqrt(128*gamma**8 + 160*gamma**6 + 72*gamma**4 + 14*gamma**2 + 1))*sqrt(256*gamma**10 + 448*gamma**8 + 304*gamma**6 + 100*gamma**4 + 16*gamma**2 + 1) + (8*gamma**4 + 6*gamma**2 + 1)**(9/2)*(-4*gamma**4*sqrt(2*gamma**2 + 1)*(4*gamma**2 + 1) + 2*gamma*(4*gamma**3 + 2*gamma**2*s + gamma + s)*sqrt(32*gamma**6 + 32*gamma**4 + 10*gamma**2 + 1) - s*(4*gamma**3 + 2*gamma**2*s + 2*gamma + s)*sqrt(32*gamma**6 + 32*gamma**4 + 10*gamma**2 + 1)))/(s**2*(2*gamma**2 + 1)**(3/2)*(4*gamma**2 + 1)**3*(8*gamma**4 + 6*gamma**2 + 1)**(5/2)*(4*gamma**3 - 2*gamma**2*s + 2*gamma - s)*(4*gamma**3 + 2*gamma**2*s + 2*gamma + s)), 8*gamma**4*(64*gamma**10*s**2 - 192*gamma**10 + 144*gamma**8*s**2 - 240*gamma**8 - 8*gamma**6*s**2*sqrt(64*gamma**8 + 96*gamma**6 + 52*gamma**4 + 12*gamma**2 + 1) + 128*gamma**6*s**2 + 24*gamma**6*sqrt(64*gamma**8 + 96*gamma**6 + 52*gamma**4 + 12*gamma**2 + 1) - 112*gamma**6 - 12*gamma**4*s**2*sqrt(64*gamma**8 + 96*gamma**6 + 52*gamma**4 + 12*gamma**2 + 1) + 56*gamma**4*s**2 + 12*gamma**4*sqrt(64*gamma**8 + 96*gamma**6 + 52*gamma**4 + 12*gamma**2 + 1) - 24*gamma**4 - 6*gamma**2*s**2*sqrt(64*gamma**8 + 96*gamma**6 + 52*gamma**4 + 12*gamma**2 + 1) + 12*gamma**2*s**2 + 2*gamma**2*sqrt(64*gamma**8 + 96*gamma**6 + 52*gamma**4 + 12*gamma**2 + 1) - 2*gamma**2 - s**2*sqrt(64*gamma**8 + 96*gamma**6 + 52*gamma**4 + 12*gamma**2 + 1) + s**2)/(s**2*(-512*gamma**14 + 128*gamma**12*s**2 - 1408*gamma**12 + 352*gamma**10*s**2 - 1600*gamma**10 + 400*gamma**8*s**2 - 960*gamma**8 + 240*gamma**6*s**2 - 320*gamma**6 + 80*gamma**4*s**2 - 56*gamma**4 + 14*gamma**2*s**2 - 4*gamma**2 + s**2))]]) != 0"
     ]
    }
   ],
   "source": [
    "gamma = symbols('gamma', real=True, positive=True)\n",
    "\n",
    "a = Matrix([[1 / (1 / gamma + 2 * gamma), gamma * sqrt(1 + 4 * gamma**2) / (1 + 2 * gamma**2)],\n",
    "            [gamma * sqrt(1 + 4 * gamma**2) / (1 + 2 * gamma**2), (gamma + 4 * gamma**3) / (1 + 2 * gamma**2)]])\n",
    "\n",
    "b = Matrix([[0, -1 / sqrt(1 + 2 * gamma**2)],\n",
    "            [sqrt((1 + 2 * gamma**2)/(1 + 4 * gamma**2)), -2 * gamma**2 / sqrt(1 + 6 * gamma**2 + 8 * gamma**4)]])\n",
    "\n",
    "c = Matrix([[-4 * gamma**2 / sqrt(2 + 1/gamma**2), 2*(gamma + 4 * gamma**3) / sqrt(1 + 6 * gamma**2 + 8 * gamma**4)],\n",
    "            [-2 * gamma * sqrt(1 + 2 * gamma**2), 0]])\n",
    "\n",
    "d = Matrix.eye(2)\n",
    "\n",
    "ss = StateSpace(a, b, c, d, paired_operator_form=True)\n",
    "\n",
    "rss = ss.to_physically_realisable()"
   ]
  },
  {
   "cell_type": "code",
   "execution_count": null,
   "metadata": {},
   "outputs": [],
   "source": []
  }
 ],
 "metadata": {
  "kernelspec": {
   "display_name": "Python 3",
   "language": "python",
   "name": "python3"
  },
  "language_info": {
   "codemirror_mode": {
    "name": "ipython",
    "version": 3
   },
   "file_extension": ".py",
   "mimetype": "text/x-python",
   "name": "python",
   "nbconvert_exporter": "python",
   "pygments_lexer": "ipython3",
   "version": "3.7.6"
  }
 },
 "nbformat": 4,
 "nbformat_minor": 2
}
