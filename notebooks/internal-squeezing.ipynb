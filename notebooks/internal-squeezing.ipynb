{
 "cells": [
  {
   "cell_type": "markdown",
   "metadata": {},
   "source": [
    "See the Mathematica notebook with the same name"
   ]
  },
  {
   "cell_type": "markdown",
   "metadata": {},
   "source": [
    "First we consider the limiting case where $s_0 = \\gamma$. Here we get infinite squeezing of the amplitude quadrature at DC."
   ]
  },
  {
   "cell_type": "code",
   "execution_count": 1,
   "metadata": {},
   "outputs": [],
   "source": [
    "from sympy import symbols, Matrix, sqrt\n",
    "from simba import StateSpace\n",
    "from simba.graph import nodes_from_network"
   ]
  },
  {
   "cell_type": "code",
   "execution_count": 2,
   "metadata": {},
   "outputs": [
    {
     "data": {
      "text/plain": [
       "True"
      ]
     },
     "execution_count": 2,
     "metadata": {},
     "output_type": "execute_result"
    }
   ],
   "source": [
    "gamma, s_0 = symbols('gamma s_0', real=True, positive=True)\n",
    "ss = StateSpace(\n",
    "    Matrix([[-gamma, sqrt(s_0*gamma)], [sqrt(s_0*gamma), -gamma]]),\n",
    "    sqrt(2*gamma)*Matrix.eye(2),\n",
    "    -sqrt(2*gamma)*Matrix.eye(2),\n",
    "    Matrix.eye(2),\n",
    "    paired_operator_form=True\n",
    ")\n",
    "ss.is_physically_realisable"
   ]
  },
  {
   "cell_type": "code",
   "execution_count": 3,
   "metadata": {},
   "outputs": [],
   "source": [
    "split_network = ss.to_slh().split()"
   ]
  },
  {
   "cell_type": "code",
   "execution_count": 4,
   "metadata": {},
   "outputs": [],
   "source": [
    "g = nodes_from_network(split_network).as_graphviz_agraph()\n",
    "g.layout(prog=\"neato\")\n",
    "g.draw(\"internal-squeezing.png\")"
   ]
  },
  {
   "cell_type": "markdown",
   "metadata": {},
   "source": [
    "<img src=\"internal-squeezing.png\"></img>"
   ]
  },
  {
   "cell_type": "code",
   "execution_count": null,
   "metadata": {},
   "outputs": [],
   "source": []
  }
 ],
 "metadata": {
  "kernelspec": {
   "display_name": "Python 3",
   "language": "python",
   "name": "python3"
  },
  "language_info": {
   "codemirror_mode": {
    "name": "ipython",
    "version": 3
   },
   "file_extension": ".py",
   "mimetype": "text/x-python",
   "name": "python",
   "nbconvert_exporter": "python",
   "pygments_lexer": "ipython3",
   "version": "3.7.6"
  }
 },
 "nbformat": 4,
 "nbformat_minor": 2
}
