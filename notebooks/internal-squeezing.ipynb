{
 "cells": [
  {
   "cell_type": "markdown",
   "metadata": {},
   "source": [
    "See the Mathematica notebook with the same name"
   ]
  },
  {
   "cell_type": "markdown",
   "metadata": {},
   "source": [
    "First we consider the limiting case where $s_0 = \\gamma$. Here we get infinite squeezing of the amplitude quadrature at DC."
   ]
  },
  {
   "cell_type": "code",
   "execution_count": 1,
   "metadata": {},
   "outputs": [],
   "source": [
    "from sympy import symbols, Matrix, sqrt, simplify, I, Rational\n",
    "from simba import StateSpace\n",
    "from simba.graph import nodes_from_network"
   ]
  },
  {
   "cell_type": "code",
   "execution_count": 2,
   "metadata": {},
   "outputs": [
    {
     "data": {
      "text/plain": [
       "True"
      ]
     },
     "execution_count": 2,
     "metadata": {},
     "output_type": "execute_result"
    }
   ],
   "source": [
    "gamma_0, s_0 = symbols('gamma_0 s_0', real=True, positive=True)\n",
    "ss = StateSpace(\n",
    "    Matrix([[-gamma_0, sqrt(s_0*gamma_0)], [sqrt(s_0*gamma_0), -gamma_0]]),\n",
    "    sqrt(2*gamma_0)*Matrix.eye(2),\n",
    "    -sqrt(2*gamma_0)*Matrix.eye(2),\n",
    "    Matrix.eye(2),\n",
    "    paired_operator_form=True\n",
    ")\n",
    "ss.is_physically_realisable"
   ]
  },
  {
   "cell_type": "code",
   "execution_count": 3,
   "metadata": {},
   "outputs": [
    {
     "data": {
      "text/latex": [
       "$$\\displaystyle \\left(I_{2\\times2}, \\left[\\begin{matrix}- \\sqrt{2} \\sqrt{\\gamma_{0}} & 0\\end{matrix}\\right] \\left[\\begin{matrix}a\\\\\\overline{a}\\end{matrix}\\right], \\left[\\begin{matrix}\\overline{a} & a\\end{matrix}\\right] \\left[\\begin{matrix}0 & \\frac{i \\sqrt{\\gamma_{0}} \\sqrt{s_{0}}}{2}\\\\- \\frac{i \\sqrt{\\gamma_{0}} \\sqrt{s_{0}}}{2} & 0\\end{matrix}\\right] \\left[\\begin{matrix}a\\\\\\overline{a}\\end{matrix}\\right]\\right)$$"
      ],
      "text/plain": [
       "(S = Matrix([\n",
       "[1, 0],\n",
       "[0, 1]]), K = Matrix([[-sqrt(2)*sqrt(gamma_0), 0]]), R = Matrix([\n",
       "[                           0, I*sqrt(gamma_0)*sqrt(s_0)/2],\n",
       "[-I*sqrt(gamma_0)*sqrt(s_0)/2,                           0]]))"
      ]
     },
     "execution_count": 3,
     "metadata": {},
     "output_type": "execute_result"
    }
   ],
   "source": [
    "ss.to_slh()"
   ]
  },
  {
   "cell_type": "code",
   "execution_count": 4,
   "metadata": {},
   "outputs": [],
   "source": [
    "split_network = ss.to_slh().split()"
   ]
  },
  {
   "cell_type": "code",
   "execution_count": 5,
   "metadata": {},
   "outputs": [
    {
     "data": {
      "text/plain": [
       "[(S = Matrix([\n",
       " [1, 0],\n",
       " [0, 1]]), K = Matrix([[-sqrt(2)*sqrt(gamma_0), 0]]), R = Matrix([\n",
       " [                           0, I*sqrt(gamma_0)*sqrt(s_0)/2],\n",
       " [-I*sqrt(gamma_0)*sqrt(s_0)/2,                           0]]))]"
      ]
     },
     "execution_count": 5,
     "metadata": {},
     "output_type": "execute_result"
    }
   ],
   "source": [
    "split_network.gs"
   ]
  },
  {
   "cell_type": "code",
   "execution_count": 10,
   "metadata": {},
   "outputs": [],
   "source": [
    "g = nodes_from_network(split_network).as_graphviz_agraph()\n",
    "g.layout(prog=\"neato\")\n",
    "g.draw(\"internal-squeezing.png\")\n",
    "g.draw(\"internal-squeezing.pdf\")"
   ]
  },
  {
   "cell_type": "markdown",
   "metadata": {},
   "source": [
    "<img src=\"internal-squeezing.png\"></img>"
   ]
  },
  {
   "cell_type": "code",
   "execution_count": 7,
   "metadata": {},
   "outputs": [
    {
     "data": {
      "text/latex": [
       "$\\displaystyle \\left[\\begin{matrix}0 & \\frac{\\sqrt{\\gamma_{0}} \\sqrt{s_{0}}}{s} & - \\frac{\\sqrt{\\gamma} \\sqrt{\\gamma_{0}}}{s} & 0 & 0 & 0 & 0 & 0\\\\\\frac{\\sqrt{\\gamma_{0}} \\sqrt{s_{0}}}{s} & 0 & 0 & - \\frac{\\sqrt{\\gamma} \\sqrt{\\gamma_{0}}}{s} & 0 & 0 & 0 & 0\\\\\\frac{\\sqrt{\\gamma} \\sqrt{\\gamma_{0}}}{s} & 0 & \\frac{\\gamma}{s} & 0 & - \\frac{\\sqrt{2} \\sqrt{\\gamma}}{s} & 0 & 0 & 0\\\\0 & \\frac{\\sqrt{\\gamma} \\sqrt{\\gamma_{0}}}{s} & 0 & \\frac{\\gamma}{s} & 0 & - \\frac{\\sqrt{2} \\sqrt{\\gamma}}{s} & 0 & 0\\\\0 & 0 & 0 & 0 & 0 & 0 & 0 & 0\\\\0 & 0 & 0 & 0 & 0 & 0 & 0 & 0\\\\0 & 0 & - \\sqrt{2} \\sqrt{\\gamma} & 0 & 1 & 0 & 0 & 0\\\\0 & 0 & 0 & - \\sqrt{2} \\sqrt{\\gamma} & 0 & 1 & 0 & 0\\end{matrix}\\right]$"
      ],
      "text/plain": [
       "Matrix([\n",
       "[                          0,   sqrt(gamma_0)*sqrt(s_0)/s, -sqrt(gamma)*sqrt(gamma_0)/s,                            0,                      0,                      0, 0, 0],\n",
       "[  sqrt(gamma_0)*sqrt(s_0)/s,                           0,                            0, -sqrt(gamma)*sqrt(gamma_0)/s,                      0,                      0, 0, 0],\n",
       "[sqrt(gamma)*sqrt(gamma_0)/s,                           0,                      gamma/s,                            0, -sqrt(2)*sqrt(gamma)/s,                      0, 0, 0],\n",
       "[                          0, sqrt(gamma)*sqrt(gamma_0)/s,                            0,                      gamma/s,                      0, -sqrt(2)*sqrt(gamma)/s, 0, 0],\n",
       "[                          0,                           0,                            0,                            0,                      0,                      0, 0, 0],\n",
       "[                          0,                           0,                            0,                            0,                      0,                      0, 0, 0],\n",
       "[                          0,                           0,         -sqrt(2)*sqrt(gamma),                            0,                      1,                      0, 0, 0],\n",
       "[                          0,                           0,                            0,         -sqrt(2)*sqrt(gamma),                      0,                      1, 0, 0]])"
      ]
     },
     "execution_count": 7,
     "metadata": {},
     "output_type": "execute_result"
    }
   ],
   "source": [
    "split_network.dynamical_matrix.matrix"
   ]
  },
  {
   "cell_type": "code",
   "execution_count": 8,
   "metadata": {},
   "outputs": [],
   "source": [
    "tfm = split_network.transfer_matrix"
   ]
  },
  {
   "cell_type": "code",
   "execution_count": null,
   "metadata": {},
   "outputs": [],
   "source": [
    "tfm.states.states"
   ]
  },
  {
   "cell_type": "markdown",
   "metadata": {},
   "source": [
    "Using generic $\\alpha$ and $\\beta$ parameters"
   ]
  },
  {
   "cell_type": "code",
   "execution_count": null,
   "metadata": {},
   "outputs": [],
   "source": [
    "alpha, beta = symbols('alpha beta', real=True)\n",
    "ss = StateSpace(\n",
    "    Rational(1,2) * Matrix([[-alpha-beta, alpha-beta],[alpha-beta, -alpha-beta]]),\n",
    "    Matrix.diag([sqrt(alpha+beta), I*sqrt(alpha+beta)]),\n",
    "    Matrix.diag([-sqrt(alpha+beta), I*sqrt(alpha+beta)]),\n",
    "    Matrix.eye(2),\n",
    "    paired_operator_form=True\n",
    ")\n",
    "ss.is_physically_realisable"
   ]
  },
  {
   "cell_type": "code",
   "execution_count": null,
   "metadata": {},
   "outputs": [],
   "source": [
    "split_network = ss.to_slh().split()\n",
    "simplify(split_network.dynamical_matrix.matrix)"
   ]
  },
  {
   "cell_type": "code",
   "execution_count": null,
   "metadata": {},
   "outputs": [],
   "source": [
    "tfm=split_network.transfer_matrix"
   ]
  },
  {
   "cell_type": "code",
   "execution_count": null,
   "metadata": {},
   "outputs": [],
   "source": [
    "simplify(tfm.open_loop('ain','a'))"
   ]
  }
 ],
 "metadata": {
  "kernelspec": {
   "display_name": "Python 3",
   "language": "python",
   "name": "python3"
  },
  "language_info": {
   "codemirror_mode": {
    "name": "ipython",
    "version": 3
   },
   "file_extension": ".py",
   "mimetype": "text/x-python",
   "name": "python",
   "nbconvert_exporter": "python",
   "pygments_lexer": "ipython3",
   "version": "3.7.6"
  }
 },
 "nbformat": 4,
 "nbformat_minor": 2
}
