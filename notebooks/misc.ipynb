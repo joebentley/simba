{
 "cells": [
  {
   "cell_type": "code",
   "execution_count": 1,
   "metadata": {},
   "outputs": [],
   "source": [
    "from simba.core import linear_coupling_operator_from_k_matrix, hamiltonian_from_r_matrix, make_complex_ladder_state\n",
    "from sympy import Matrix, init_printing\n",
    "from IPython.display import display\n",
    "init_printing(use_latex='mathjax')"
   ]
  },
  {
   "cell_type": "code",
   "execution_count": 2,
   "metadata": {},
   "outputs": [
    {
     "data": {
      "text/latex": [
       "$\\displaystyle \\left( \\left[\\begin{matrix}\\overline{a_{1}} & a_{1}\\end{matrix}\\right], \\  \\left[\\begin{matrix}-2 & 1\\\\1 & 2\\end{matrix}\\right], \\  \\left[\\begin{matrix}a_{1}\\\\\\overline{a_{1}}\\end{matrix}\\right]\\right)$"
      ],
      "text/plain": [
       "⎛                   ⎡a₁⎤⎞\n",
       "⎜⎡__    ⎤  ⎡-2  1⎤  ⎢  ⎥⎟\n",
       "⎜⎣a₁  a₁⎦, ⎢     ⎥, ⎢__⎥⎟\n",
       "⎝          ⎣1   2⎦  ⎣a₁⎦⎠"
      ]
     },
     "execution_count": 2,
     "metadata": {},
     "output_type": "execute_result"
    }
   ],
   "source": [
    "r_matrix = Matrix([[-2, 1], [1, 2]])\n",
    "state = make_complex_ladder_state(1)\n",
    "(state.H, r_matrix, state)"
   ]
  },
  {
   "cell_type": "code",
   "execution_count": 3,
   "metadata": {},
   "outputs": [
    {
     "data": {
      "text/latex": [
       "$\\displaystyle \\left(a_{1} - 2 \\overline{a_{1}}\\right) a_{1} + \\left(2 a_{1} + \\overline{a_{1}}\\right) \\overline{a_{1}}$"
      ],
      "text/plain": [
       "⎛       __⎞      ⎛       __⎞ __\n",
       "⎝a₁ - 2⋅a₁⎠⋅a₁ + ⎝2⋅a₁ + a₁⎠⋅a₁"
      ]
     },
     "execution_count": 3,
     "metadata": {},
     "output_type": "execute_result"
    }
   ],
   "source": [
    "hamiltonian_from_r_matrix(r_matrix)"
   ]
  },
  {
   "cell_type": "code",
   "execution_count": 4,
   "metadata": {},
   "outputs": [
    {
     "data": {
      "text/latex": [
       "$\\displaystyle \\left( \\left[\\begin{matrix}\\overline{a_{1}} & a_{1} & \\overline{a_{2}} & a_{2}\\end{matrix}\\right], \\  \\left[\\begin{matrix}-2 & 0 & 3 & 1\\\\0 & 3 & 0 & 2\\\\0 & 3 & 3 & 0\\\\0 & 0 & 5 & 1\\end{matrix}\\right], \\  \\left[\\begin{matrix}a_{1}\\\\\\overline{a_{1}}\\\\a_{2}\\\\\\overline{a_{2}}\\end{matrix}\\right]\\right)$"
      ],
      "text/plain": [
       "⎛                                 ⎡a₁⎤⎞\n",
       "⎜                  ⎡-2  0  3  1⎤  ⎢  ⎥⎟\n",
       "⎜                  ⎢           ⎥  ⎢__⎥⎟\n",
       "⎜⎡__      __    ⎤  ⎢0   3  0  2⎥  ⎢a₁⎥⎟\n",
       "⎜⎣a₁  a₁  a₂  a₂⎦, ⎢           ⎥, ⎢  ⎥⎟\n",
       "⎜                  ⎢0   3  3  0⎥  ⎢a₂⎥⎟\n",
       "⎜                  ⎢           ⎥  ⎢  ⎥⎟\n",
       "⎜                  ⎣0   0  5  1⎦  ⎢__⎥⎟\n",
       "⎝                                 ⎣a₂⎦⎠"
      ]
     },
     "execution_count": 4,
     "metadata": {},
     "output_type": "execute_result"
    }
   ],
   "source": [
    "r_matrix = Matrix([[-2, 0, 3, 1], [0, 3, 0, 2], [0, 3, 3, 0], [0, 0, 5, 1]])\n",
    "state = make_complex_ladder_state(2)\n",
    "(state.H, r_matrix, state)"
   ]
  },
  {
   "cell_type": "code",
   "execution_count": 4,
   "metadata": {},
   "outputs": [
    {
     "data": {
      "text/latex": [
       "$\\displaystyle \\left(a_{1} - 2 \\overline{a_{1}}\\right) a_{1} + \\left(2 a_{1} + \\overline{a_{1}}\\right) \\overline{a_{1}}$"
      ],
      "text/plain": [
       "⎛       __⎞      ⎛       __⎞ __\n",
       "⎝a₁ - 2⋅a₁⎠⋅a₁ + ⎝2⋅a₁ + a₁⎠⋅a₁"
      ]
     },
     "execution_count": 4,
     "metadata": {},
     "output_type": "execute_result"
    }
   ],
   "source": [
    "hamiltonian_from_r_matrix(r_matrix)"
   ]
  },
  {
   "cell_type": "code",
   "execution_count": 17,
   "metadata": {},
   "outputs": [
    {
     "data": {
      "text/latex": [
       "$$\\displaystyle \\left(I_{4\\times4}, \\left[\\begin{matrix}0 & 2 & 0 & 0\\\\2 & 0 & 0 & 0\\\\0 & 0 & 0 & 2\\\\0 & 0 & 2 & 0\\end{matrix}\\right] \\left[\\begin{matrix}a_{1}\\\\\\overline{a_{1}}\\\\b_{1}\\\\\\overline{b_{1}}\\end{matrix}\\right], \\frac{1}{2} \\left[\\begin{matrix}\\overline{a_{1}} & a_{1} & \\overline{b_{1}} & b_{1}\\end{matrix}\\right] \\left[\\begin{matrix}0 & 0 & 0 & 0\\\\0 & 0 & 0 & 0\\\\0 & 0 & 0 & 0\\\\0 & 0 & 0 & 0\\end{matrix}\\right] \\left[\\begin{matrix}a_{1}\\\\\\overline{a_{1}}\\\\b_{1}\\\\\\overline{b_{1}}\\end{matrix}\\right]\\right)$$"
      ],
      "text/plain": [
       "(Matrix([\n",
       "[1, 0, 0, 0],\n",
       "[0, 1, 0, 0],\n",
       "[0, 0, 1, 0],\n",
       "[0, 0, 0, 1]]), Matrix([\n",
       "[0, 2, 0, 0],\n",
       "[2, 0, 0, 0],\n",
       "[0, 0, 0, 2],\n",
       "[0, 0, 2, 0]]), Matrix([\n",
       "[0, 0, 0, 0],\n",
       "[0, 0, 0, 0],\n",
       "[0, 0, 0, 0],\n",
       "[0, 0, 0, 0]]))"
      ]
     },
     "execution_count": 17,
     "metadata": {},
     "output_type": "execute_result"
    }
   ],
   "source": [
    "from simba.core import transfer_function_to_state_space, SLH, concat\n",
    "from sympy import symbols\n",
    "\n",
    "s, a, b = symbols('s a b')\n",
    "tf = (s - 2) / (s + 2)\n",
    "system = transfer_function_to_state_space(tf).extended_to_quantum().to_physically_realisable()\n",
    "g_a, g_b = system.to_slh(a), system.to_slh(b)\n",
    "g_ab = concat(g_a, g_b)\n",
    "g_ab"
   ]
  },
  {
   "cell_type": "code",
   "execution_count": 16,
   "metadata": {},
   "outputs": [
    {
     "data": {
      "text/latex": [
       "$$\\displaystyle \\left(I_{2\\times2}, \\left[\\begin{matrix}0 & 2\\\\2 & 0\\end{matrix}\\right] \\left[\\begin{matrix}a_{1}\\\\\\overline{a_{1}}\\end{matrix}\\right], \\frac{1}{2} \\left[\\begin{matrix}\\overline{a_{1}} & a_{1}\\end{matrix}\\right] \\left[\\begin{matrix}0 & 0\\\\0 & 0\\end{matrix}\\right] \\left[\\begin{matrix}a_{1}\\\\\\overline{a_{1}}\\end{matrix}\\right]\\right)$$"
      ],
      "text/plain": [
       "(Matrix([\n",
       "[1, 0],\n",
       "[0, 1]]), Matrix([\n",
       "[0, 2],\n",
       "[2, 0]]), Matrix([\n",
       "[0, 0],\n",
       "[0, 0]]))"
      ]
     },
     "execution_count": 16,
     "metadata": {},
     "output_type": "execute_result"
    }
   ],
   "source": [
    "g_a"
   ]
  }
 ],
 "metadata": {
  "kernelspec": {
   "display_name": "Python 3",
   "language": "python",
   "name": "python3"
  },
  "language_info": {
   "codemirror_mode": {
    "name": "ipython",
    "version": 3
   },
   "file_extension": ".py",
   "mimetype": "text/x-python",
   "name": "python",
   "nbconvert_exporter": "python",
   "pygments_lexer": "ipython3",
   "version": "3.7.6"
  }
 },
 "nbformat": 4,
 "nbformat_minor": 4
}
