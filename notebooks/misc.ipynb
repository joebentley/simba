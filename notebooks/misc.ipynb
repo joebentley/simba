{
 "cells": [
  {
   "cell_type": "code",
   "execution_count": 30,
   "metadata": {},
   "outputs": [],
   "source": [
    "from simba.core import hamiltonian_from_r_matrix, make_complex_ladder_state\n",
    "from sympy import Matrix, init_printing\n",
    "from IPython.display import display\n",
    "init_printing(use_latex='mathjax')"
   ]
  },
  {
   "cell_type": "code",
   "execution_count": 31,
   "metadata": {},
   "outputs": [
    {
     "data": {
      "text/latex": [
       "$\\displaystyle \\left( \\left[\\begin{matrix}\\overline{a_{1}} & a_{1}\\end{matrix}\\right], \\  \\left[\\begin{matrix}-2 & 1\\\\1 & 2\\end{matrix}\\right], \\  \\left[\\begin{matrix}a_{1}\\\\\\overline{a_{1}}\\end{matrix}\\right]\\right)$"
      ],
      "text/plain": [
       "⎛                   ⎡a₁⎤⎞\n",
       "⎜⎡__    ⎤  ⎡-2  1⎤  ⎢  ⎥⎟\n",
       "⎜⎣a₁  a₁⎦, ⎢     ⎥, ⎢__⎥⎟\n",
       "⎝          ⎣1   2⎦  ⎣a₁⎦⎠"
      ]
     },
     "execution_count": 31,
     "metadata": {},
     "output_type": "execute_result"
    }
   ],
   "source": [
    "r_matrix = Matrix([[-2, 1], [1, 2]])\n",
    "state = make_complex_ladder_state(1)\n",
    "(state.H, r_matrix, state)"
   ]
  },
  {
   "cell_type": "code",
   "execution_count": 32,
   "metadata": {},
   "outputs": [
    {
     "data": {
      "text/latex": [
       "$\\displaystyle \\left(a_{1} - 2 \\overline{a_{1}}\\right) a_{1} + \\left(2 a_{1} + \\overline{a_{1}}\\right) \\overline{a_{1}}$"
      ],
      "text/plain": [
       "⎛       __⎞      ⎛       __⎞ __\n",
       "⎝a₁ - 2⋅a₁⎠⋅a₁ + ⎝2⋅a₁ + a₁⎠⋅a₁"
      ]
     },
     "execution_count": 32,
     "metadata": {},
     "output_type": "execute_result"
    }
   ],
   "source": [
    "hamiltonian_from_r_matrix(r_matrix)"
   ]
  },
  {
   "cell_type": "code",
   "execution_count": 33,
   "metadata": {},
   "outputs": [
    {
     "data": {
      "text/latex": [
       "$\\displaystyle \\left( \\left[\\begin{matrix}\\overline{a_{1}} & a_{1} & \\overline{a_{2}} & a_{2}\\end{matrix}\\right], \\  \\left[\\begin{matrix}-2 & 0 & 3 & 1\\\\0 & 3 & 0 & 2\\\\0 & 3 & 3 & 0\\\\0 & 0 & 5 & 1\\end{matrix}\\right], \\  \\left[\\begin{matrix}a_{1}\\\\\\overline{a_{1}}\\\\a_{2}\\\\\\overline{a_{2}}\\end{matrix}\\right]\\right)$"
      ],
      "text/plain": [
       "⎛                                 ⎡a₁⎤⎞\n",
       "⎜                  ⎡-2  0  3  1⎤  ⎢  ⎥⎟\n",
       "⎜                  ⎢           ⎥  ⎢__⎥⎟\n",
       "⎜⎡__      __    ⎤  ⎢0   3  0  2⎥  ⎢a₁⎥⎟\n",
       "⎜⎣a₁  a₁  a₂  a₂⎦, ⎢           ⎥, ⎢  ⎥⎟\n",
       "⎜                  ⎢0   3  3  0⎥  ⎢a₂⎥⎟\n",
       "⎜                  ⎢           ⎥  ⎢  ⎥⎟\n",
       "⎜                  ⎣0   0  5  1⎦  ⎢__⎥⎟\n",
       "⎝                                 ⎣a₂⎦⎠"
      ]
     },
     "execution_count": 33,
     "metadata": {},
     "output_type": "execute_result"
    }
   ],
   "source": [
    "r_matrix = Matrix([[-2, 0, 3, 1], [0, 3, 0, 2], [0, 3, 3, 0], [0, 0, 5, 1]])\n",
    "state = make_complex_ladder_state(2)\n",
    "(state.H, r_matrix, state)"
   ]
  },
  {
   "cell_type": "code",
   "execution_count": 34,
   "metadata": {},
   "outputs": [
    {
     "data": {
      "text/latex": [
       "$\\displaystyle \\left(3 a_{1} + 3 \\overline{a_{2}}\\right) \\overline{a_{1}} + \\left(2 a_{1} + a_{2} + \\overline{a_{1}}\\right) \\overline{a_{2}} + \\left(5 a_{2} + 3 \\overline{a_{1}} + 3 \\overline{a_{2}}\\right) a_{2} - 2 \\overline{a_{1}} a_{1}$"
      ],
      "text/plain": [
       "⎛         __⎞ __   ⎛            __⎞ __   ⎛         __     __⎞        __   \n",
       "⎝3⋅a₁ + 3⋅a₂⎠⋅a₁ + ⎝2⋅a₁ + a₂ + a₁⎠⋅a₂ + ⎝5⋅a₂ + 3⋅a₁ + 3⋅a₂⎠⋅a₂ - 2⋅a₁⋅a₁"
      ]
     },
     "execution_count": 34,
     "metadata": {},
     "output_type": "execute_result"
    }
   ],
   "source": [
    "hamiltonian_from_r_matrix(r_matrix)"
   ]
  }
 ],
 "metadata": {
  "kernelspec": {
   "display_name": "Python 3",
   "language": "python",
   "name": "python3"
  },
  "language_info": {
   "codemirror_mode": {
    "name": "ipython",
    "version": 3
   },
   "file_extension": ".py",
   "mimetype": "text/x-python",
   "name": "python",
   "nbconvert_exporter": "python",
   "pygments_lexer": "ipython3",
   "version": "3.7.6"
  }
 },
 "nbformat": 4,
 "nbformat_minor": 4
}
