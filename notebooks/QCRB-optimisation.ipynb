{
 "cells": [
  {
   "cell_type": "markdown",
   "metadata": {},
   "source": [
    "Aim: compute QCRB for different lossless systems with input-output transfer functions of the form\n",
    "\n",
    "$$\n",
    "T_{uy}(\\omega) = \\prod_{j=0}^n \\frac{\\omega + \\Delta_j + i\\gamma_j}{\\omega + \\Delta_j - i\\gamma_j},\n",
    "$$\n",
    "\n",
    "where $\\gamma_j \\in \\mathbb{R}$ is the bandwidth for each mode and $\\Delta_j \\in \\mathbb{R}$ is the detuning. Then calculate QCRB for each internal mode,\n",
    "\n",
    "$$\n",
    "\\sigma_{xx}^\\text{QCRB}(\\omega) = \\frac{\\hbar^2}{4 \\bar{S}_{FF}(\\omega)} = \\frac{\\hbar^2}{4 |T_{uF}(\\omega)|^2},\n",
    "$$\n",
    "\n",
    "assuming measurement shot noise at the input and where $T_{uF}$ is the transfer function from the input $\\hat{u}$ to an internal degree of freedom $\\hat{F}$ which is coupled to a classical signal $x(t)$ via $\\hat{H}_\\text{int} = - \\hat{F} x$.\n",
    "\n",
    "So for each $\\hat{F}$ want to optimise with respect to $\\gamma_j, \\Delta_j, \\forall j$, then choose the $\\hat{F}$ that maximises the QCRB."
   ]
  },
  {
   "cell_type": "code",
   "execution_count": 364,
   "metadata": {},
   "outputs": [
    {
     "name": "stdout",
     "output_type": "stream",
     "text": [
      "The autoreload extension is already loaded. To reload it, use:\n",
      "  %reload_ext autoreload\n"
     ]
    }
   ],
   "source": [
    "%load_ext autoreload\n",
    "%autoreload\n",
    "from simba import transfer_function_to_graph, tf2rss, adiabatically_eliminate\n",
    "from sympy import symbols, simplify, Matrix, sqrt,\\\n",
    "    conjugate, lambdify, I, pi, fraction, solve, Eq, limit\n",
    "import matplotlib.pyplot as plt"
   ]
  },
  {
   "cell_type": "markdown",
   "metadata": {},
   "source": [
    "## $n = 1$ Detuned Resonator\n",
    "\n",
    "Note: due to how the transformation to a realisable state space is performed, we have to treat the negative bandwidth and positive bandwidth separately. Need to fix at some point (else will need to perform the transformation $2^n$ times for an $n$ degree-of-freedom system for all possible combinations)"
   ]
  },
  {
   "cell_type": "code",
   "execution_count": 251,
   "metadata": {},
   "outputs": [],
   "source": [
    "s = symbols('s')\n",
    "gamma_f = symbols('gamma_f', real=True, positive=True)\n",
    "Delta = symbols('Delta', real=True)\n",
    "tf = (s + I * Delta + gamma_f) / (s + I * Delta - gamma_f)\n",
    "\n",
    "split_network = tf2rss(tf).to_slh().split()\n",
    "gamma, = split_network.aux_coupling_constants"
   ]
  },
  {
   "cell_type": "code",
   "execution_count": 252,
   "metadata": {},
   "outputs": [
    {
     "data": {
      "text/latex": [
       "$\\displaystyle \\left[\\begin{matrix}a\\\\\\overline{a}\\\\a'\\\\\\overline{a'}\\\\ain\\\\\\overline{ain}\\\\aout\\\\\\overline{aout}\\end{matrix}\\right]$"
      ],
      "text/plain": [
       "Matrix([\n",
       "[              a],\n",
       "[   conjugate(a)],\n",
       "[             a'],\n",
       "[  conjugate(a')],\n",
       "[            ain],\n",
       "[ conjugate(ain)],\n",
       "[           aout],\n",
       "[conjugate(aout)]])"
      ]
     },
     "execution_count": 252,
     "metadata": {},
     "output_type": "execute_result"
    }
   ],
   "source": [
    "split_network.state_vector"
   ]
  },
  {
   "cell_type": "code",
   "execution_count": 253,
   "metadata": {},
   "outputs": [
    {
     "data": {
      "text/latex": [
       "$\\displaystyle \\frac{- i \\Delta + \\gamma_{f} + s}{i \\Delta + \\gamma_{f} - s}$"
      ],
      "text/plain": [
       "(-I*Delta + gamma_f + s)/(I*Delta + gamma_f - s)"
      ]
     },
     "execution_count": 253,
     "metadata": {},
     "output_type": "execute_result"
    }
   ],
   "source": [
    "tfm = split_network.tfm\n",
    "input_output = tfm.open_loop('l', 'aout').simplify()\n",
    "adiabatically_eliminate(input_output, gamma)"
   ]
  },
  {
   "cell_type": "code",
   "execution_count": 290,
   "metadata": {},
   "outputs": [
    {
     "data": {
      "text/latex": [
       "$\\displaystyle \\frac{\\sqrt{2} \\gamma \\sqrt{\\gamma_{f}}}{\\gamma \\gamma_{f} + \\left(i \\Delta - i \\Omega\\right) \\left(- i \\Omega + \\gamma\\right)}$"
      ],
      "text/plain": [
       "sqrt(2)*gamma*sqrt(gamma_f)/(gamma*gamma_f + (I*Delta - I*Omega)*(-I*Omega + gamma))"
      ]
     },
     "execution_count": 290,
     "metadata": {},
     "output_type": "execute_result"
    }
   ],
   "source": [
    "Omega = symbols('Omega')\n",
    "tf_a = tfm.open_loop('ain', 'a').simplify().subs(s, I * Omega)\n",
    "tf_a"
   ]
  },
  {
   "cell_type": "code",
   "execution_count": 294,
   "metadata": {},
   "outputs": [
    {
     "data": {
      "text/latex": [
       "$\\displaystyle \\frac{\\sqrt{2} \\sqrt{\\gamma_{f}}}{i \\Delta - i \\Omega + \\gamma_{f}}$"
      ],
      "text/plain": [
       "sqrt(2)*sqrt(gamma_f)/(I*Delta - I*Omega + gamma_f)"
      ]
     },
     "execution_count": 294,
     "metadata": {},
     "output_type": "execute_result"
    }
   ],
   "source": [
    "tf = adiabatically_eliminate(tf_a, gamma)\n",
    "tf"
   ]
  },
  {
   "cell_type": "code",
   "execution_count": 295,
   "metadata": {},
   "outputs": [
    {
     "data": {
      "text/latex": [
       "$\\displaystyle \\Delta - i \\gamma_{f}$"
      ],
      "text/plain": [
       "Delta - I*gamma_f"
      ]
     },
     "execution_count": 295,
     "metadata": {},
     "output_type": "execute_result"
    }
   ],
   "source": [
    "numer, denom = fraction(tf)\n",
    "solns = solve(denom, Omega)[0]\n",
    "solns"
   ]
  },
  {
   "cell_type": "markdown",
   "metadata": {},
   "source": [
    "We want to evaluate\n",
    "\n",
    "$$\n",
    "\\int_{-\\infty}^{\\infty} d\\Omega \\frac{2 \\gamma_f}{(\\Omega - \\Delta - i \\gamma_f)(\\Omega - \\Delta + i \\gamma_f)}\n",
    "$$\n",
    "\n",
    "Since the modulus of the integrand $\\to 0$ as $\\Omega \\to \\infty$ then we can use Jordan's lemma and this integral is equivalent to,\n",
    "\n",
    "$$\n",
    "\\oint_C dz \\frac{2 \\gamma_f}{(z - \\Delta - i \\gamma_f)(z - \\Delta + i \\gamma_f)}\n",
    "$$\n",
    "\n",
    "where $C$ is an anti-clockwise contour containing the entire upper-half plane.\n",
    "\n",
    "The function has one simple pole in the upper-half plane: $z = \\Delta + i \\gamma_f$. The residue of the integrand here is $-i$.\n",
    "\n",
    "So the integral is\n",
    "\n",
    "$$\n",
    "\\int_{-\\infty}^{\\infty} d\\Omega \\frac{2 \\gamma_f}{(\\Omega - \\Delta - i \\gamma_f)(\\Omega - \\Delta + i \\gamma_f)} = 2 \\pi\n",
    "$$\n",
    "\n",
    "and so it is independent of detuning and bandwidth (Mizuno limit)"
   ]
  },
  {
   "cell_type": "markdown",
   "metadata": {},
   "source": [
    "## $n = 2$ Coupled Cavity"
   ]
  },
  {
   "cell_type": "code",
   "execution_count": 302,
   "metadata": {},
   "outputs": [],
   "source": [
    "gamma_f, omega_s = symbols('gamma_f omega_s', real=True, positive=True)\n",
    "tf = (s**2 + s * gamma_f + omega_s**2) / (s**2 - s * gamma_f + omega_s**2)\n",
    "split_network = tf2rss(tf).to_slh().split()\n",
    "tfm = split_network.tfm\n",
    "gamma_1, _ = split_network.aux_coupling_constants"
   ]
  },
  {
   "cell_type": "code",
   "execution_count": 303,
   "metadata": {},
   "outputs": [
    {
     "data": {
      "text/latex": [
       "$\\displaystyle \\left[\\begin{array}{cccccccccccccccc}a_{1} & \\overline{a_{1}} & a_{2} & \\overline{a_{2}} & a'_{1} & \\overline{a'_{1}} & a'_{2} & \\overline{a'_{2}} & ain_{1} & \\overline{ain_{1}} & aout_{1} & \\overline{aout_{1}} & ain_{2} & \\overline{ain_{2}} & aout_{2} & \\overline{aout_{2}}\\end{array}\\right]$"
      ],
      "text/plain": [
       "Matrix([[a_1, conjugate(a_1), a_2, conjugate(a_2), a'_1, conjugate(a'_1), a'_2, conjugate(a'_2), ain_1, conjugate(ain_1), aout_1, conjugate(aout_1), ain_2, conjugate(ain_2), aout_2, conjugate(aout_2)]])"
      ]
     },
     "execution_count": 303,
     "metadata": {},
     "output_type": "execute_result"
    }
   ],
   "source": [
    "split_network.state_vector.T"
   ]
  },
  {
   "cell_type": "code",
   "execution_count": 305,
   "metadata": {},
   "outputs": [],
   "source": [
    "tf = tfm.open_loop('ain_1', 'a_1').simplify()\n",
    "tf_1 = adiabatically_eliminate(tf, gamma_1).simplify().subs(s, I * Omega)\n",
    "tf = tfm.open_loop('ain_1', 'a_2').simplify()\n",
    "tf_2 = adiabatically_eliminate(tf, gamma_1).simplify().subs(s, I * Omega)"
   ]
  },
  {
   "cell_type": "code",
   "execution_count": 306,
   "metadata": {},
   "outputs": [
    {
     "data": {
      "text/latex": [
       "$\\displaystyle - \\frac{\\sqrt{2} i \\Omega \\sqrt{\\gamma_{f}}}{- \\Omega^{2} - i \\Omega \\gamma_{f} + \\omega_{s}^{2}}$"
      ],
      "text/plain": [
       "-sqrt(2)*I*Omega*sqrt(gamma_f)/(-Omega**2 - I*Omega*gamma_f + omega_s**2)"
      ]
     },
     "execution_count": 306,
     "metadata": {},
     "output_type": "execute_result"
    }
   ],
   "source": [
    "tf_1"
   ]
  },
  {
   "cell_type": "code",
   "execution_count": 307,
   "metadata": {},
   "outputs": [
    {
     "data": {
      "text/latex": [
       "$\\displaystyle \\frac{\\sqrt{2} \\sqrt{\\gamma_{f}} \\omega_{s}}{- \\Omega^{2} - i \\Omega \\gamma_{f} + \\omega_{s}^{2}}$"
      ],
      "text/plain": [
       "sqrt(2)*sqrt(gamma_f)*omega_s/(-Omega**2 - I*Omega*gamma_f + omega_s**2)"
      ]
     },
     "execution_count": 307,
     "metadata": {},
     "output_type": "execute_result"
    }
   ],
   "source": [
    "tf_2"
   ]
  },
  {
   "cell_type": "code",
   "execution_count": 322,
   "metadata": {},
   "outputs": [
    {
     "data": {
      "text/latex": [
       "$\\displaystyle \\left[\\begin{matrix}- \\frac{i \\gamma_{f}}{2} - \\frac{\\sqrt{- \\gamma_{f}^{2} + 4 \\omega_{s}^{2}}}{2}\\\\- \\frac{i \\gamma_{f}}{2} + \\frac{\\sqrt{- \\gamma_{f}^{2} + 4 \\omega_{s}^{2}}}{2}\\end{matrix}\\right]$"
      ],
      "text/plain": [
       "Matrix([\n",
       "[-I*gamma_f/2 - sqrt(-gamma_f**2 + 4*omega_s**2)/2],\n",
       "[-I*gamma_f/2 + sqrt(-gamma_f**2 + 4*omega_s**2)/2]])"
      ]
     },
     "execution_count": 322,
     "metadata": {},
     "output_type": "execute_result"
    }
   ],
   "source": [
    "numer, denom = fraction(tf_1)\n",
    "solns = solve(denom, Omega)\n",
    "Matrix(solns)"
   ]
  },
  {
   "cell_type": "code",
   "execution_count": 327,
   "metadata": {},
   "outputs": [
    {
     "data": {
      "text/latex": [
       "$\\displaystyle 2 \\gamma_{f} \\left|{\\frac{\\Omega}{\\Omega^{2} + i \\Omega \\gamma_{f} - \\omega_{s}^{2}}}\\right|^{2}$"
      ],
      "text/plain": [
       "2*gamma_f*Abs(Omega/(Omega**2 + I*Omega*gamma_f - omega_s**2))**2"
      ]
     },
     "execution_count": 327,
     "metadata": {},
     "output_type": "execute_result"
    }
   ],
   "source": [
    "abs(tf_1)**2"
   ]
  },
  {
   "cell_type": "markdown",
   "metadata": {},
   "source": [
    "Note that it goes to zero as $\\Omega \\to \\infty$\n",
    "\n",
    "For now we assume that $C^2 \\equiv -\\gamma_f^2 + 4 \\omega_s^2 > 0$.\n",
    "\n",
    "We want to evaluate\n",
    "\n",
    "$$\n",
    "\\int_{\\infty}^{\\infty} 2 \\gamma_f \\frac{d\\Omega \\Omega^2}{(\\Omega - i \\gamma_f/2 - C/2)(\\Omega - i \\gamma_f/2 + C/2)(\\Omega + i \\gamma_f/2 - C/2)(\\Omega + i \\gamma_f/2 + C/2)}\n",
    "$$\n",
    "\n",
    "Follow same method as before. We have two simple poles in upper half plane: $z = i \\gamma_f / 2 + C/2$, $z = i \\gamma_f / 2 - C/2$.\n",
    "\n",
    "The residues are $-i/2 \\left(\\frac{i \\gamma_f}{C} + 1\\right)$ and $i/2 \\left(\\frac{i \\gamma_f}{C} - 1\\right)$\n",
    "\n",
    "So the integral is equal to $2 \\pi$ and the Mizuno limit is not surpassed.\n",
    "\n",
    "Now will consider $-C^2 \\equiv -\\gamma_f^2 + 4 \\omega_s^2 < 0$ so the integral is instead,\n",
    "\n",
    "$$\n",
    "\\int_{\\infty}^{\\infty} 2 \\gamma_f \\frac{d\\Omega \\Omega^2}{(\\Omega - i \\gamma_f/2 - i C /2)(\\Omega - i \\gamma_f/2 + i C /2)(\\Omega + i \\gamma_f/2 - i C /2)(\\Omega + i \\gamma_f/2 + i C /2)}\n",
    "$$\n",
    "\n",
    "Without loss of generality we will choose the positive root so that $C > 0$, so that $C /2 = \\sqrt{\\gamma_f^2 / 4 - \\omega_s^2} < \\gamma_f / 2$. So we have two simple poles in the upper-half plane: $z = i \\gamma_f / 2 + i C / 2$ and $z = i \\gamma_f / 2 - i C / 2$.\n",
    "\n",
    "The residues are $-i/2 (\\gamma_f / C + 1)$ and $i/2 (\\gamma_f / C- 1)$ and so, again, the integral is equal to $2 \\pi$."
   ]
  },
  {
   "cell_type": "code",
   "execution_count": 341,
   "metadata": {},
   "outputs": [
    {
     "data": {
      "text/latex": [
       "$\\displaystyle 2 \\gamma_{f} \\omega_{s}^{2} \\left|{\\frac{1}{\\Omega^{2} + i \\Omega \\gamma_{f} - \\omega_{s}^{2}}}\\right|^{2}$"
      ],
      "text/plain": [
       "2*gamma_f*omega_s**2*Abs(1/(Omega**2 + I*Omega*gamma_f - omega_s**2))**2"
      ]
     },
     "execution_count": 341,
     "metadata": {},
     "output_type": "execute_result"
    }
   ],
   "source": [
    "abs(tf_2)**2"
   ]
  },
  {
   "cell_type": "markdown",
   "metadata": {},
   "source": [
    "Same process for other degree of freedom:\n",
    "\n",
    "$$\n",
    "\\int_{\\infty}^{\\infty} 2 \\gamma_f \\omega_s^2 \\frac{d\\Omega}{(\\Omega - i \\gamma_f/2 - C/2)(\\Omega - i \\gamma_f/2 + C/2)(\\Omega + i \\gamma_f/2 - C/2)(\\Omega + i \\gamma_f/2 + C/2)}\n",
    "$$\n",
    "\n",
    "Same simple poles $z = i \\gamma_f / 2 + C/2$, $z = i \\gamma_f / 2 - C/2$. Residues are\n",
    "\n",
    "$$\n",
    "-i 2 \\omega_s^2 \\frac{1}{C(i \\gamma_f +C)}\n",
    "$$\n",
    "\n",
    "$$i 2 \\omega_s^2 \\frac{1}{C(i \\gamma_f - C)}$$\n",
    "\n",
    "The sum is $$-i 2 \\omega_s^2 (\\frac{1}{C(i \\gamma_f +C)} - \\frac{1}{C(i \\gamma_f - C)})$$\n",
    "\n",
    "$$-2 i \\omega_s^2 \\frac{(i \\gamma_f - C) - (i \\gamma_f + C)}{C(i \\gamma_f + C)(i \\gamma_f - C)} = -2 i \\omega_s^2 \\frac{-2}{-\\gamma_f^2 - C^2} = -2 i \\omega_s^2 \\frac{2}{4\\omega_s^2} = -i.$$\n",
    "\n",
    "So the integral is equal to $2 \\pi$ as expected.\n",
    "\n",
    "I will assume it is the same for the case where $\\gamma_f > 4 \\omega_s^2$."
   ]
  },
  {
   "cell_type": "markdown",
   "metadata": {},
   "source": [
    "## $n = 2$ Active Coupled Cavity"
   ]
  },
  {
   "cell_type": "code",
   "execution_count": 392,
   "metadata": {},
   "outputs": [],
   "source": [
    "# parameterise with lambda = g**2 - omega_s**2 > 0\n",
    "lmbda = symbols('lambda', real=True, positive=True)\n",
    "tf = (s**2 + s * gamma_f - lmbda) / (s**2 - s * gamma_f - lmbda)\n",
    "split_network = tf2rss(tf).to_slh().split()\n",
    "tfm = split_network.tfm"
   ]
  },
  {
   "cell_type": "code",
   "execution_count": 393,
   "metadata": {},
   "outputs": [],
   "source": [
    "tf = tfm.open_loop('ain_1', 'a_1').simplify()\n",
    "tf_1 = adiabatically_eliminate(tf, gamma_1).simplify().subs(s, I * Omega)\n",
    "tf = tfm.open_loop('conjugate(ain_1)', 'a_2').simplify()\n",
    "tf_2 = adiabatically_eliminate(tf, gamma_1).simplify().subs(s, I * Omega)"
   ]
  },
  {
   "cell_type": "code",
   "execution_count": 394,
   "metadata": {},
   "outputs": [
    {
     "data": {
      "text/latex": [
       "$\\displaystyle 2 \\gamma_{f} \\left|{\\frac{\\Omega}{\\Omega^{2} + i \\Omega \\gamma_{f} + \\lambda}}\\right|^{2}$"
      ],
      "text/plain": [
       "2*gamma_f*Abs(Omega/(Omega**2 + I*Omega*gamma_f + lambda))**2"
      ]
     },
     "execution_count": 394,
     "metadata": {},
     "output_type": "execute_result"
    }
   ],
   "source": [
    "abs(tf_1)**2"
   ]
  },
  {
   "cell_type": "code",
   "execution_count": 395,
   "metadata": {},
   "outputs": [
    {
     "data": {
      "text/latex": [
       "$\\displaystyle \\left[\\begin{matrix}\\frac{i \\left(- \\gamma_{f} + \\sqrt{\\gamma_{f}^{2} + 4 \\lambda}\\right)}{2}\\\\- \\frac{i \\left(\\gamma_{f} + \\sqrt{\\gamma_{f}^{2} + 4 \\lambda}\\right)}{2}\\end{matrix}\\right]$"
      ],
      "text/plain": [
       "Matrix([\n",
       "[I*(-gamma_f + sqrt(gamma_f**2 + 4*lambda))/2],\n",
       "[-I*(gamma_f + sqrt(gamma_f**2 + 4*lambda))/2]])"
      ]
     },
     "execution_count": 395,
     "metadata": {},
     "output_type": "execute_result"
    }
   ],
   "source": [
    "numer, denom = fraction(tf_1)\n",
    "solns = solve(denom, Omega)\n",
    "Matrix(solns)"
   ]
  },
  {
   "cell_type": "markdown",
   "metadata": {},
   "source": [
    "Note that square root is always positive here, so the root is always pure imaginary. Let us calculate the residue of the 2 simple poles that lie in the upper-half plane."
   ]
  },
  {
   "cell_type": "code",
   "execution_count": 405,
   "metadata": {},
   "outputs": [
    {
     "data": {
      "text/latex": [
       "$\\displaystyle 2 \\pi$"
      ],
      "text/plain": [
       "2*pi"
      ]
     },
     "execution_count": 405,
     "metadata": {},
     "output_type": "execute_result"
    }
   ],
   "source": [
    "integrand = (2*gamma_f*abs(Omega)**2)/ \\\n",
    "    ((Omega + solns[0])*(Omega + solns[0].conjugate())*\n",
    "     (Omega + solns[1])*(Omega + solns[1].conjugate()))\n",
    "\n",
    "def get_residue(expr, c):\n",
    "    return (expr * (Omega - c)).subs(Omega, c).simplify()\n",
    "\n",
    "first_residue = get_residue(integrand, solns[0])\n",
    "second_residue = get_residue(integrand, solns[1])\n",
    "\n",
    "2 * pi * I * (first_residue + second_residue)"
   ]
  },
  {
   "cell_type": "markdown",
   "metadata": {},
   "source": [
    "No improvement over Mizuno limit when coupling signal into first cavity"
   ]
  },
  {
   "cell_type": "markdown",
   "metadata": {},
   "source": [
    "Let's look at the transfer function from $a_\\text{in}^\\dagger$ to $a_2$"
   ]
  },
  {
   "cell_type": "code",
   "execution_count": 397,
   "metadata": {
    "scrolled": false
   },
   "outputs": [
    {
     "data": {
      "text/latex": [
       "$\\displaystyle 2 \\gamma_{f} \\lambda \\left|{\\frac{1}{\\Omega^{2} + i \\Omega \\gamma_{f} + \\lambda}}\\right|^{2}$"
      ],
      "text/plain": [
       "2*gamma_f*lambda*Abs(1/(Omega**2 + I*Omega*gamma_f + lambda))**2"
      ]
     },
     "execution_count": 397,
     "metadata": {},
     "output_type": "execute_result"
    }
   ],
   "source": [
    "abs(tf_2)**2"
   ]
  },
  {
   "cell_type": "markdown",
   "metadata": {},
   "source": [
    "Roots are the same again."
   ]
  },
  {
   "cell_type": "code",
   "execution_count": 404,
   "metadata": {},
   "outputs": [
    {
     "data": {
      "text/latex": [
       "$\\displaystyle 2 \\pi$"
      ],
      "text/plain": [
       "2*pi"
      ]
     },
     "execution_count": 404,
     "metadata": {},
     "output_type": "execute_result"
    }
   ],
   "source": [
    "integrand = (2*gamma_f*lmbda)/ \\\n",
    "    ((Omega + solns[0])*(Omega + solns[0].conjugate())*\n",
    "     (Omega + solns[1])*(Omega + solns[1].conjugate()))\n",
    "\n",
    "first_residue = get_residue(integrand, solns[0])\n",
    "second_residue = get_residue(integrand, solns[1])\n",
    "\n",
    "2 * pi * I * (first_residue + second_residue).simplify()"
   ]
  }
 ],
 "metadata": {
  "kernelspec": {
   "display_name": "Python 3",
   "language": "python",
   "name": "python3"
  },
  "language_info": {
   "codemirror_mode": {
    "name": "ipython",
    "version": 3
   },
   "file_extension": ".py",
   "mimetype": "text/x-python",
   "name": "python",
   "nbconvert_exporter": "python",
   "pygments_lexer": "ipython3",
   "version": "3.7.6"
  }
 },
 "nbformat": 4,
 "nbformat_minor": 2
}
