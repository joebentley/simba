{
 "cells": [
  {
   "cell_type": "code",
   "execution_count": 4,
   "metadata": {},
   "outputs": [],
   "source": [
    "from simba.core import StateSpace\n",
    "from simba.graph import nodes_from_network\n",
    "from sympy import symbols, sqrt, Matrix, I"
   ]
  },
  {
   "cell_type": "code",
   "execution_count": 5,
   "metadata": {},
   "outputs": [
    {
     "data": {
      "text/latex": [
       "$$\\displaystyle \\left(I_{2\\times2}, \\left[\\begin{matrix}0 & 0 & \\sqrt{2} \\sqrt{\\gamma} & 0\\end{matrix}\\right] \\left[\\begin{matrix}a_{1}\\\\\\overline{a_{1}}\\\\a_{2}\\\\\\overline{a_{2}}\\end{matrix}\\right], \\left[\\begin{matrix}\\overline{a_{1}} & a_{1} & \\overline{a_{2}} & a_{2}\\end{matrix}\\right] \\left[\\begin{matrix}0 & 0 & \\frac{\\omega_{s}}{2} & 0\\\\0 & 0 & 0 & \\frac{\\omega_{s}}{2}\\\\\\frac{\\omega_{s}}{2} & 0 & 0 & - \\frac{i \\chi}{2}\\\\0 & \\frac{\\omega_{s}}{2} & \\frac{i \\chi}{2} & 0\\end{matrix}\\right] \\left[\\begin{matrix}a_{1}\\\\\\overline{a_{1}}\\\\a_{2}\\\\\\overline{a_{2}}\\end{matrix}\\right]\\right)$$"
      ],
      "text/plain": [
       "(S = Matrix([\n",
       "[1, 0],\n",
       "[0, 1]]), K = Matrix([[0, 0, sqrt(2)*sqrt(gamma), 0]]), R = Matrix([\n",
       "[        0,         0, omega_s/2,         0],\n",
       "[        0,         0,         0, omega_s/2],\n",
       "[omega_s/2,         0,         0,  -I*chi/2],\n",
       "[        0, omega_s/2,   I*chi/2,         0]]))"
      ]
     },
     "execution_count": 5,
     "metadata": {},
     "output_type": "execute_result"
    }
   ],
   "source": [
    "omega_s, chi, gamma = symbols('omega_s chi gamma', real=True)\n",
    "\n",
    "a = Matrix([[0, 0, -I*omega_s, 0],\n",
    "            [0, 0, 0, I*omega_s],\n",
    "            [-I*omega_s, 0, -gamma, -chi],\n",
    "            [0, I*omega_s, -chi, -gamma]])\n",
    "b = -sqrt(2*gamma) * Matrix([[0, 0], [0, 0], [1, 0], [0, 1]])\n",
    "c = sqrt(2*gamma) * Matrix([[0, 0, 1, 0], [0, 0, 0, 1]])\n",
    "d = Matrix.eye(2)\n",
    "ss = StateSpace(a, b, c, d, paired_operator_form=True)\n",
    "slh = ss.to_slh()\n",
    "slh"
   ]
  },
  {
   "cell_type": "code",
   "execution_count": 7,
   "metadata": {},
   "outputs": [],
   "source": [
    "split_network = slh.split()\n",
    "g = nodes_from_network(split_network).as_graphviz_agraph()\n",
    "g.layout(prog='dot')\n",
    "g.draw('quantum-expander.png')\n",
    "g.draw('quantum-expander.pdf')"
   ]
  },
  {
   "cell_type": "markdown",
   "metadata": {},
   "source": [
    "<img src=\"quantum-expander.png\">"
   ]
  },
  {
   "cell_type": "code",
   "execution_count": null,
   "metadata": {},
   "outputs": [],
   "source": []
  }
 ],
 "metadata": {
  "kernelspec": {
   "display_name": "Python 3",
   "language": "python",
   "name": "python3"
  },
  "language_info": {
   "codemirror_mode": {
    "name": "ipython",
    "version": 3
   },
   "file_extension": ".py",
   "mimetype": "text/x-python",
   "name": "python",
   "nbconvert_exporter": "python",
   "pygments_lexer": "ipython3",
   "version": "3.7.6"
  }
 },
 "nbformat": 4,
 "nbformat_minor": 2
}
