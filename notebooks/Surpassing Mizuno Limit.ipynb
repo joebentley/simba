{
 "cells": [
  {
   "cell_type": "markdown",
   "metadata": {},
   "source": [
    "**Q**: is it ever possible to pass the Mizuno limit when the transfer matrix between the input and output is diagonal? I.e. for input-output transfer functions of the form,\n",
    "\n",
    "$$\n",
    "T_{uy}(\\omega) = \\prod_{j=0}^n \\frac{\\omega + \\Delta_j - i\\gamma_j}{\\omega + \\Delta_j + i\\gamma_j}.\n",
    "$$\n",
    "\n",
    "We need to know whether or not a given realisation produced using the framework for a given transfer function is unique. For now we will assume that it is."
   ]
  },
  {
   "cell_type": "code",
   "execution_count": 1,
   "metadata": {},
   "outputs": [],
   "source": [
    "from simba import tf2rss, adiabatically_eliminate\n",
    "import sympy\n",
    "from sympy import I\n",
    "from functools import reduce\n",
    "\n",
    "omega = sympy.Symbol('omega')\n",
    "s = sympy.Symbol('s')\n",
    "\n",
    "def generate_tf(n, signs=None):\n",
    "    \"\"\"\n",
    "    Generate n-dof lossless transfer function with the signs of the\n",
    "    bandwidth of each mode being described by signs.\n",
    "    \n",
    "    e.g. generate_tf(2, [1, -1]) for transfer function for lossless\n",
    "    coupled-cavity with second d.o.f. having negative dispersion.\n",
    "    (Zero is treated as positive)\n",
    "    \n",
    "    If signs is not given assume all positive.\n",
    "    \"\"\"\n",
    "    if n <= 0:\n",
    "        raise ValueError(\"n must be > 0\")\n",
    "    if signs is None:\n",
    "        signs = [1] * n\n",
    "    if len(signs) != n:\n",
    "        raise ValueError(\"signs must have length n\")\n",
    "        \n",
    "    tfs = []\n",
    "    \n",
    "    for i in range(1, n + 1):\n",
    "        Delta_i = sympy.Symbol(f'Delta_{i}', real=True)\n",
    "        is_positive = signs[i - 1] >= 0\n",
    "        gamma_i = sympy.Symbol(f'gamma_{i}', real=True, positive=is_positive)\n",
    "\n",
    "        tfs.append((omega + Delta_i - I*gamma_i) / (omega + Delta_i + I*gamma_i))\n",
    "    \n",
    "    return reduce(lambda a, b: a * b, tfs).subs(omega, -I * s).simplify()"
   ]
  },
  {
   "cell_type": "code",
   "execution_count": 2,
   "metadata": {},
   "outputs": [],
   "source": [
    "def get_all_tfs_to_internals(tf, num_dofs):\n",
    "    \"\"\"\n",
    "    Get all transfer functions from the input to internal degrees\n",
    "    of freedom.\n",
    "    \"\"\"\n",
    "\n",
    "    split_network = tf2rss(tf).to_slh().split()\n",
    "    tfm = split_network.tfm\n",
    "    gamma, = split_network.aux_coupling_constants\n",
    "    \n",
    "    # special case for num_dofs == 1\n",
    "    if num_dofs == 1:\n",
    "        tfs = [tfm.open_loop('ain', 'a').simplify(),\n",
    "               tfm.open_loop('ain', \"a'\").simplify(),\n",
    "               tfm.open_loop('ain', 'conjugate(a)').simplify(),\n",
    "               tfm.open_loop('ain', \"conjugate(a')\").simplify()]\n",
    "    else:\n",
    "        tfs = []\n",
    "\n",
    "        for i in range(1, num_dofs + 1):\n",
    "            tfs.append(tfm.open_loop('ain_1', f'a_{i}').simplify())\n",
    "            tfs.append(tfm.open_loop('ain_1', f'conjugate(a_{i})').simplify())\n",
    "            tfs.append(tfm.open_loop('ain_1', f'a_{i}\\'').simplify())\n",
    "            tfs.append(tfm.open_loop('ain_1', f'conjugate(a_{i}\\')').simplify())\n",
    "    \n",
    "    tfs = list(map(lambda expr: adiabatically_eliminate(expr, gamma), tfs))\n",
    "    return sympy.Matrix(tfs)\n",
    "    "
   ]
  },
  {
   "cell_type": "code",
   "execution_count": 3,
   "metadata": {},
   "outputs": [
    {
     "data": {
      "text/latex": [
       "$\\displaystyle \\left[\\begin{matrix}\\frac{\\sqrt{2} \\sqrt{\\gamma_{1}}}{i \\Delta_{1} + \\gamma_{1} - s}\\\\0\\\\0\\\\0\\end{matrix}\\right]$"
      ],
      "text/plain": [
       "Matrix([\n",
       "[sqrt(2)*sqrt(gamma_1)/(I*Delta_1 + gamma_1 - s)],\n",
       "[                                              0],\n",
       "[                                              0],\n",
       "[                                              0]])"
      ]
     },
     "execution_count": 3,
     "metadata": {},
     "output_type": "execute_result"
    }
   ],
   "source": [
    "get_all_tfs_to_internals(generate_tf(1), 1)"
   ]
  },
  {
   "cell_type": "code",
   "execution_count": null,
   "metadata": {},
   "outputs": [],
   "source": []
  }
 ],
 "metadata": {
  "kernelspec": {
   "display_name": "Python 3",
   "language": "python",
   "name": "python3"
  },
  "language_info": {
   "codemirror_mode": {
    "name": "ipython",
    "version": 3
   },
   "file_extension": ".py",
   "mimetype": "text/x-python",
   "name": "python",
   "nbconvert_exporter": "python",
   "pygments_lexer": "ipython3",
   "version": "3.7.6"
  }
 },
 "nbformat": 4,
 "nbformat_minor": 2
}
