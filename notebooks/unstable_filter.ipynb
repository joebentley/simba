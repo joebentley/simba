{
 "cells": [
  {
   "cell_type": "code",
   "execution_count": 24,
   "metadata": {},
   "outputs": [],
   "source": [
    "from simba import *\n",
    "from simba.core import j_matrix\n",
    "from sympy import symbols, simplify, init_printing, Matrix, MatrixSymbol, linsolve\n",
    "init_printing()"
   ]
  },
  {
   "cell_type": "markdown",
   "metadata": {},
   "source": [
    "The unstable filter transfer function is given by,\n",
    "\n",
    "$$\n",
    "G(s) = \\frac{s - 2}{s + 2}\n",
    "$$"
   ]
  },
  {
   "cell_type": "code",
   "execution_count": 6,
   "metadata": {},
   "outputs": [
    {
     "data": {
      "image/png": "[encoded data removed]",
      "text/latex": [
       "$\\displaystyle \\frac{s - 2}{s + 2}$"
      ],
      "text/plain": [
       "s - 2\n",
       "─────\n",
       "s + 2"
      ]
     },
     "execution_count": 6,
     "metadata": {},
     "output_type": "execute_result"
    }
   ],
   "source": [
    "s = symbols('s')\n",
    "tf = (s - 2) / (s + 2)\n",
    "tf"
   ]
  },
  {
   "cell_type": "code",
   "execution_count": 17,
   "metadata": {},
   "outputs": [
    {
     "data": {
      "text/latex": [
       "$$\\displaystyle A=\\left[\\begin{matrix}2 & 0\\\\0 & 2\\end{matrix}\\right],\\,B=\\left[\\begin{matrix}1 & 0\\\\0 & 1\\end{matrix}\\right],\\,C=\\left[\\begin{matrix}4 & 0\\\\0 & 4\\end{matrix}\\right],\\,D=\\left[\\begin{matrix}1 & 0\\\\0 & 1\\end{matrix}\\right]$$"
      ],
      "text/plain": [
       "Matrix([\n",
       "[2, 0],\n",
       "[0, 2]])\n",
       "Matrix([\n",
       "[1, 0],\n",
       "[0, 1]])\n",
       "Matrix([\n",
       "[4, 0],\n",
       "[0, 4]])\n",
       "Matrix([\n",
       "[1, 0],\n",
       "[0, 1]])"
      ]
     },
     "execution_count": 17,
     "metadata": {},
     "output_type": "execute_result"
    }
   ],
   "source": [
    "ss = transfer_function_to_state_space(tf).extended_to_quantum()\n",
    "a, b, c, d = ss\n",
    "ss"
   ]
  },
  {
   "cell_type": "code",
   "execution_count": 18,
   "metadata": {},
   "outputs": [],
   "source": [
    "j = j_matrix(2)"
   ]
  },
  {
   "cell_type": "code",
   "execution_count": 22,
   "metadata": {},
   "outputs": [],
   "source": [
    "x = MatrixSymbol('X', *j.shape)"
   ]
  },
  {
   "cell_type": "code",
   "execution_count": 73,
   "metadata": {},
   "outputs": [],
   "source": [
    "def solve_matrix_eqn(eqn, x):\n",
    "    \"\"\"\n",
    "    Solve matrix eqn for x, where eqn is a matrix equation (assumed equal to zero on RHS) and x is a sympy ``MatrixSymbol`` object.\n",
    "    \n",
    "    Transforms all solutions to list of matrices (same shape as x).\n",
    "    \"\"\"\n",
    "    from sympy import linsolve\n",
    "    sols = linsolve(list(eqn), list(x))\n",
    "    return list(map(lambda sol: Matrix(sol).reshape(*x.shape), sols))"
   ]
  },
  {
   "cell_type": "code",
   "execution_count": 74,
   "metadata": {},
   "outputs": [
    {
     "data": {
      "image/png": "[encoded data removed]",
      "text/latex": [
       "$\\displaystyle \\left[ 4 X_{0, 0} + 1, \\  4 X_{0, 1}, \\  4 X_{1, 0}, \\  4 X_{1, 1} - 1\\right]$"
      ],
      "text/plain": [
       "[4⋅X₀₀ + 1, 4⋅X₀₁, 4⋅X₁₀, 4⋅X₁₁ - 1]"
      ]
     },
     "execution_count": 74,
     "metadata": {},
     "output_type": "execute_result"
    }
   ],
   "source": [
    "list(a * x + x * a.H + b * j * b.H)"
   ]
  },
  {
   "cell_type": "code",
   "execution_count": 75,
   "metadata": {},
   "outputs": [
    {
     "data": {
      "image/png": "[encoded data removed]",
      "text/latex": [
       "$\\displaystyle \\left[ \\left[\\begin{matrix}- \\frac{1}{4} & 0\\\\0 & \\frac{1}{4}\\end{matrix}\\right]\\right]$"
      ],
      "text/plain": [
       "⎡⎡-1/4   0 ⎤⎤\n",
       "⎢⎢         ⎥⎥\n",
       "⎣⎣ 0    1/4⎦⎦"
      ]
     },
     "execution_count": 75,
     "metadata": {},
     "output_type": "execute_result"
    }
   ],
   "source": [
    "solve_matrix_eqn(a * x + x * a.H + b * j * b.H, x)"
   ]
  }
 ],
 "metadata": {
  "kernelspec": {
   "display_name": "Python 3",
   "language": "python",
   "name": "python3"
  },
  "language_info": {
   "codemirror_mode": {
    "name": "ipython",
    "version": 3
   },
   "file_extension": ".py",
   "mimetype": "text/x-python",
   "name": "python",
   "nbconvert_exporter": "python",
   "pygments_lexer": "ipython3",
   "version": "3.7.6"
  }
 },
 "nbformat": 4,
 "nbformat_minor": 4
}
