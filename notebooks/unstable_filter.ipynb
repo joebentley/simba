{
 "cells": [
  {
   "cell_type": "code",
   "execution_count": 1,
   "metadata": {},
   "outputs": [],
   "source": [
    "from simba import *\n",
    "from simba.core import j_matrix\n",
    "from sympy import symbols, simplify, init_printing, Matrix, MatrixSymbol, Rational, adjoint, Symbol\n",
    "init_printing()"
   ]
  },
  {
   "cell_type": "markdown",
   "metadata": {},
   "source": [
    "The unstable filter transfer function is given by,\n",
    "\n",
    "$$\n",
    "G(s) = \\frac{s - 2}{s + 2}\n",
    "$$"
   ]
  },
  {
   "cell_type": "code",
   "execution_count": 2,
   "metadata": {},
   "outputs": [
    {
     "data": {
      "image/png": "[encoded data removed]",
      "text/latex": [
       "$\\displaystyle \\frac{s - 2}{s + 2}$"
      ],
      "text/plain": [
       "s - 2\n",
       "─────\n",
       "s + 2"
      ]
     },
     "execution_count": 2,
     "metadata": {},
     "output_type": "execute_result"
    }
   ],
   "source": [
    "s = symbols('s')\n",
    "tf = (s - 2) / (s + 2)\n",
    "tf"
   ]
  },
  {
   "cell_type": "code",
   "execution_count": 3,
   "metadata": {},
   "outputs": [
    {
     "data": {
      "text/latex": [
       "$$\\displaystyle A=\\left[\\begin{matrix}2 & 0\\\\0 & 2\\end{matrix}\\right],\\,B=\\left[\\begin{matrix}1 & 0\\\\0 & 1\\end{matrix}\\right],\\,C=\\left[\\begin{matrix}4 & 0\\\\0 & 4\\end{matrix}\\right],\\,D=\\left[\\begin{matrix}1 & 0\\\\0 & 1\\end{matrix}\\right]$$"
      ],
      "text/plain": [
       "Matrix([\n",
       "[2, 0],\n",
       "[0, 2]])\n",
       "Matrix([\n",
       "[1, 0],\n",
       "[0, 1]])\n",
       "Matrix([\n",
       "[4, 0],\n",
       "[0, 4]])\n",
       "Matrix([\n",
       "[1, 0],\n",
       "[0, 1]])"
      ]
     },
     "execution_count": 3,
     "metadata": {},
     "output_type": "execute_result"
    }
   ],
   "source": [
    "ss = transfer_function_to_state_space(tf).extended_to_quantum()\n",
    "a, b, c, d = ss\n",
    "ss"
   ]
  },
  {
   "cell_type": "markdown",
   "metadata": {},
   "source": [
    "Convert to a physically realisable state space"
   ]
  },
  {
   "cell_type": "code",
   "execution_count": 4,
   "metadata": {},
   "outputs": [
    {
     "data": {
      "text/latex": [
       "$$\\displaystyle A=\\left[\\begin{matrix}2 & 0\\\\0 & 2\\end{matrix}\\right],\\,B=\\left[\\begin{matrix}0 & 2\\\\2 & 0\\end{matrix}\\right],\\,C=\\left[\\begin{matrix}0 & 2\\\\2 & 0\\end{matrix}\\right],\\,D=\\left[\\begin{matrix}1 & 0\\\\0 & 1\\end{matrix}\\right]$$"
      ],
      "text/plain": [
       "Matrix([\n",
       "[2, 0],\n",
       "[0, 2]])\n",
       "Matrix([\n",
       "[0, 2],\n",
       "[2, 0]])\n",
       "Matrix([\n",
       "[0, 2],\n",
       "[2, 0]])\n",
       "Matrix([\n",
       "[1, 0],\n",
       "[0, 1]])"
      ]
     },
     "execution_count": 4,
     "metadata": {},
     "output_type": "execute_result"
    }
   ],
   "source": [
    "ss = ss.to_physically_realisable()\n",
    "assert ss.is_physically_realisable\n",
    "ss"
   ]
  },
  {
   "cell_type": "code",
   "execution_count": 8,
   "metadata": {},
   "outputs": [
    {
     "data": {
      "image/png": "[encoded data removed]",
      "text/latex": [
       "$\\displaystyle \\left( \\left[\\begin{matrix}1 & 0\\\\0 & 1\\end{matrix}\\right], \\  \\left[\\begin{matrix}0 & 2\\\\2 & 0\\end{matrix}\\right], \\  \\left[\\begin{matrix}0 & 0\\\\0 & 0\\end{matrix}\\right]\\right)$"
      ],
      "text/plain": [
       "⎛⎡1  0⎤  ⎡0  2⎤  ⎡0  0⎤⎞\n",
       "⎜⎢    ⎥, ⎢    ⎥, ⎢    ⎥⎟\n",
       "⎝⎣0  1⎦  ⎣2  0⎦  ⎣0  0⎦⎠"
      ]
     },
     "execution_count": 8,
     "metadata": {},
     "output_type": "execute_result"
    }
   ],
   "source": [
    "tuple(ss.to_skr())"
   ]
  }
 ],
 "metadata": {
  "kernelspec": {
   "display_name": "Python 3",
   "language": "python",
   "name": "python3"
  },
  "language_info": {
   "codemirror_mode": {
    "name": "ipython",
    "version": 3
   },
   "file_extension": ".py",
   "mimetype": "text/x-python",
   "name": "python",
   "nbconvert_exporter": "python",
   "pygments_lexer": "ipython3",
   "version": "3.7.6"
  }
 },
 "nbformat": 4,
 "nbformat_minor": 4
}
