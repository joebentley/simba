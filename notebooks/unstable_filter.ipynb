{
 "cells": [
  {
   "cell_type": "code",
   "execution_count": 1,
   "metadata": {},
   "outputs": [],
   "source": [
    "from simba import *\n",
    "from sympy import symbols, simplify, init_printing\n",
    "init_printing()"
   ]
  },
  {
   "cell_type": "markdown",
   "metadata": {},
   "source": [
    "The unstable filter transfer function is given by,\n",
    "\n",
    "$$\n",
    "G(s) = \\frac{s - 2}{s + 2}\n",
    "$$"
   ]
  },
  {
   "cell_type": "code",
   "execution_count": 2,
   "metadata": {},
   "outputs": [
    {
     "data": {
      "image/png": "[encoded data removed]",
      "text/latex": [
       "$\\displaystyle \\frac{s - 2}{s + 2}$"
      ],
      "text/plain": [
       "s - 2\n",
       "─────\n",
       "s + 2"
      ]
     },
     "execution_count": 2,
     "metadata": {},
     "output_type": "execute_result"
    }
   ],
   "source": [
    "s = symbols('s')\n",
    "tf = (s - 2) / (s + 2)\n",
    "tf"
   ]
  },
  {
   "cell_type": "code",
   "execution_count": 3,
   "metadata": {},
   "outputs": [
    {
     "data": {
      "text/latex": [
       "$$\\displaystyle A=\\left[\\begin{matrix}2 & 0\\\\0 & 2\\end{matrix}\\right],\\,B=\\left[\\begin{matrix}1 & 0\\\\0 & 1\\end{matrix}\\right],\\,C=\\left[\\begin{matrix}4 & 0\\\\0 & 4\\end{matrix}\\right],\\,D=\\left[\\begin{matrix}1 & 0\\\\0 & 1\\end{matrix}\\right]$$"
      ],
      "text/plain": [
       "Matrix([\n",
       "[2, 0],\n",
       "[0, 2]])\n",
       "Matrix([\n",
       "[1, 0],\n",
       "[0, 1]])\n",
       "Matrix([\n",
       "[4, 0],\n",
       "[0, 4]])\n",
       "Matrix([\n",
       "[1, 0],\n",
       "[0, 1]])"
      ]
     },
     "execution_count": 3,
     "metadata": {},
     "output_type": "execute_result"
    }
   ],
   "source": [
    "transfer_function_to_state_space(tf).extended_to_quantum()"
   ]
  }
 ],
 "metadata": {
  "kernelspec": {
   "display_name": "Python 3",
   "language": "python",
   "name": "python3"
  },
  "language_info": {
   "codemirror_mode": {
    "name": "ipython",
    "version": 3
   },
   "file_extension": ".py",
   "mimetype": "text/x-python",
   "name": "python",
   "nbconvert_exporter": "python",
   "pygments_lexer": "ipython3",
   "version": "3.7.6"
  }
 },
 "nbformat": 4,
 "nbformat_minor": 4
}
